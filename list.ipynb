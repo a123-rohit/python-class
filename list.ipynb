{
 "cells": [
  {
   "cell_type": "markdown",
   "id": "1817fda7-04d4-44e5-b922-eabd7b648cfc",
   "metadata": {},
   "source": [
    "# List"
   ]
  },
  {
   "cell_type": "raw",
   "id": "fce3672d-acb6-435a-a492-87ee16801a87",
   "metadata": {},
   "source": [
    "collection in python for  sequences diverces of\n",
    "data types"
   ]
  },
  {
   "cell_type": "markdown",
   "id": "2fa07517-8bba-49fd-885d-c48a9328217f",
   "metadata": {},
   "source": [
    "# List vs Array"
   ]
  },
  {
   "cell_type": "markdown",
   "id": "4c10af79-e324-4790-933a-6efaffca6134",
   "metadata": {},
   "source": [
    "Array: Homogeneous; Contiguous memory; Fast; Numerical/Scientific use.\n",
    "List: Heterogeneous; Non-contiguous memory; Programmer-friendly; General-purpose.\n",
    "\n",
    "1.Create\n",
    "2.Access\n",
    "3.Edit\n",
    "4.Add\n",
    "5.Delete\n",
    "6.Operations\n",
    "7.Functions"
   ]
  },
  {
   "cell_type": "markdown",
   "id": "481671d1-12d1-49c7-ad9b-78f688038dd8",
   "metadata": {},
   "source": [
    "# Array vs List in memory"
   ]
  },
  {
   "cell_type": "raw",
   "id": "23ebeba5-bd3b-40e0-9cad-a366545861c4",
   "metadata": {},
   "source": [
    "Arrays:\n",
    "\n",
    "int arr[50]; ---> 50 contiguous memory blocks.\n",
    "Elements stored in binary form at consecutive addresses.\n",
    "Lists:\n",
    "\n",
    "list_example = [1, 2, 3] ---> Elements at different locations.\n",
    "Stores references/pointers to elements, not the values."
   ]
  },
  {
   "cell_type": "code",
   "execution_count": 3,
   "id": "a5c346b6-c6b3-49d7-b2fe-a1d8edf1cffe",
   "metadata": {},
   "outputs": [],
   "source": [
    "a=[1,2,3,4]"
   ]
  },
  {
   "cell_type": "code",
   "execution_count": 4,
   "id": "877f25d1-6b5c-4412-a376-d5e8029fe521",
   "metadata": {},
   "outputs": [
    {
     "data": {
      "text/plain": [
       "2375138153024"
      ]
     },
     "execution_count": 4,
     "metadata": {},
     "output_type": "execute_result"
    }
   ],
   "source": [
    "id(a)"
   ]
  },
  {
   "cell_type": "code",
   "execution_count": 6,
   "id": "0f996713-b12f-43ef-8c0b-c0d3b62b3141",
   "metadata": {},
   "outputs": [],
   "source": [
    "import numpy as np\n",
    "arr = np.array([1,2,3])\n"
   ]
  },
  {
   "cell_type": "code",
   "execution_count": 7,
   "id": "561cc53e-c747-4b84-a23c-4da3ad0cb308",
   "metadata": {},
   "outputs": [
    {
     "data": {
      "text/plain": [
       "2375138658320"
      ]
     },
     "execution_count": 7,
     "metadata": {},
     "output_type": "execute_result"
    }
   ],
   "source": [
    "id(arr)"
   ]
  },
  {
   "cell_type": "code",
   "execution_count": 8,
   "id": "2efbc632-07f8-4968-a40b-1799dc629dc1",
   "metadata": {},
   "outputs": [
    {
     "name": "stdout",
     "output_type": "stream",
     "text": [
      "2375143229568\n",
      "140718566287800\n",
      "140718566287832\n",
      "140718566287864\n",
      "140718566287800\n",
      "140718566287832\n",
      "140718566287864\n"
     ]
    }
   ],
   "source": [
    "# proof --->\n",
    "L = [1, 2, 3]\n",
    "print(id(L))\n",
    "print(id(L[0]))\n",
    "print(id(L[1]))\n",
    "print(id(L[2]))\n",
    "print(id(1))\n",
    "print(id(2))\n",
    "print(id(3))"
   ]
  },
  {
   "cell_type": "code",
   "execution_count": 9,
   "id": "8d42e217-e648-4731-8c5b-31eeef77d37e",
   "metadata": {},
   "outputs": [
    {
     "data": {
      "text/plain": [
       "140718566288088"
      ]
     },
     "execution_count": 9,
     "metadata": {},
     "output_type": "execute_result"
    }
   ],
   "source": [
    "a=10\n",
    "id(10)"
   ]
  },
  {
   "cell_type": "markdown",
   "id": "8ab1ce42-33af-4d40-ab44-992449f4cc6d",
   "metadata": {},
   "source": [
    "# List characterstics"
   ]
  },
  {
   "cell_type": "raw",
   "id": "1089a476-0200-42e3-ad5b-a3786074b4b9",
   "metadata": {},
   "source": [
    "ordered \n",
    "Mutable\n",
    "Heterogeneous\n",
    "Duplicates allowed\n",
    "Dynamic size\n",
    "Nesting supported\n",
    "Indexable\n",
    "Any object type"
   ]
  },
  {
   "cell_type": "markdown",
   "id": "d8bcfeec-9ff1-4336-bdff-75cfa3b74593",
   "metadata": {},
   "source": [
    "# 1 create"
   ]
  },
  {
   "cell_type": "code",
   "execution_count": 10,
   "id": "7fa0bfd8-f978-4a81-b3a6-3a2ce30156ae",
   "metadata": {},
   "outputs": [],
   "source": [
    "# empty\n",
    "L=[]"
   ]
  },
  {
   "cell_type": "code",
   "execution_count": 12,
   "id": "b41e487a-5fd7-42c6-aaee-7bf70717b89a",
   "metadata": {},
   "outputs": [],
   "source": [
    "a=list()"
   ]
  },
  {
   "cell_type": "code",
   "execution_count": 13,
   "id": "9c213d40-ae73-4c07-873b-a730ae17c3bd",
   "metadata": {},
   "outputs": [
    {
     "data": {
      "text/plain": [
       "list"
      ]
     },
     "execution_count": 13,
     "metadata": {},
     "output_type": "execute_result"
    }
   ],
   "source": [
    "type(a)"
   ]
  },
  {
   "cell_type": "code",
   "execution_count": 15,
   "id": "3a8e35c5-09c5-4b73-b93a-e6efd22751e6",
   "metadata": {},
   "outputs": [
    {
     "data": {
      "text/plain": [
       "list"
      ]
     },
     "execution_count": 15,
     "metadata": {},
     "output_type": "execute_result"
    }
   ],
   "source": [
    "type (L)"
   ]
  },
  {
   "cell_type": "code",
   "execution_count": 5,
   "id": "f51cbd53-808f-4f9f-8c53-5a7999c323c1",
   "metadata": {},
   "outputs": [
    {
     "data": {
      "text/plain": [
       "[1, 2, 3, 4, 5]"
      ]
     },
     "execution_count": 5,
     "metadata": {},
     "output_type": "execute_result"
    }
   ],
   "source": [
    "# 1D ---> Homo\n",
    "L1 = [1, 2, 3, 4, 5]\n",
    "L1\n"
   ]
  },
  {
   "cell_type": "code",
   "execution_count": 21,
   "id": "6eb42a9b-0ae3-4f9d-9c4b-29197157e63d",
   "metadata": {},
   "outputs": [
    {
     "data": {
      "text/plain": [
       "['Hello', 4, 5, 6, True, (5+6j)]"
      ]
     },
     "execution_count": 21,
     "metadata": {},
     "output_type": "execute_result"
    }
   ],
   "source": [
    "# Hetrogenous\n",
    "L2 = [\"Hello\", 4, 5, 6, True, 5+6j]\n",
    "L2"
   ]
  },
  {
   "cell_type": "code",
   "execution_count": 20,
   "id": "48bd7548-4dd5-47b4-9e08-74fe4a9c111a",
   "metadata": {},
   "outputs": [
    {
     "data": {
      "text/plain": [
       "[1, 2, 3, [4, 5]]"
      ]
     },
     "execution_count": 20,
     "metadata": {},
     "output_type": "execute_result"
    }
   ],
   "source": [
    "# Multidimentional list:\n",
    "# 2D\n",
    "L3 = [1, 2, 3, [4, 5]]\n",
    "L3"
   ]
  },
  {
   "cell_type": "code",
   "execution_count": 8,
   "id": "147952f8-361c-47a9-a81d-f3819785c7a2",
   "metadata": {},
   "outputs": [
    {
     "data": {
      "text/plain": [
       "[1, 2, [2]]"
      ]
     },
     "execution_count": 8,
     "metadata": {},
     "output_type": "execute_result"
    }
   ],
   "source": [
    "c = [1,2,[2]]\n",
    "c\n"
   ]
  },
  {
   "cell_type": "code",
   "execution_count": 9,
   "id": "7ccfa477-604f-4794-9b28-310a294770dd",
   "metadata": {},
   "outputs": [
    {
     "data": {
      "text/plain": [
       "[[[1, 2], [3, 4]], [[5, 6], [7, 8]]]"
      ]
     },
     "execution_count": 9,
     "metadata": {},
     "output_type": "execute_result"
    }
   ],
   "source": [
    "# 3D\n",
    "L4 = [[[1, 2], [3, 4]], [[5, 6], [7, 8]]]\n",
    "L4"
   ]
  },
  {
   "cell_type": "code",
   "execution_count": 10,
   "id": "fec18d6c-4ecb-4a8d-94b9-d84e6cc70483",
   "metadata": {},
   "outputs": [
    {
     "data": {
      "text/plain": [
       "['S', 'o', 'u', 'r', 'a', 'b', 'h']"
      ]
     },
     "execution_count": 10,
     "metadata": {},
     "output_type": "execute_result"
    }
   ],
   "source": [
    "# using type cnversion\n",
    "L5=list(\"Sourabh\")\n",
    "L5"
   ]
  },
  {
   "cell_type": "code",
   "execution_count": 11,
   "id": "bdec1549-7e6b-49fc-a99e-4dd4347d39b5",
   "metadata": {},
   "outputs": [
    {
     "data": {
      "text/plain": [
       "list"
      ]
     },
     "execution_count": 11,
     "metadata": {},
     "output_type": "execute_result"
    }
   ],
   "source": [
    "\n",
    "type(L5)"
   ]
  },
  {
   "cell_type": "code",
   "execution_count": 12,
   "id": "4ac6adf2-1571-4092-a6ed-f6e0e08ca4c2",
   "metadata": {},
   "outputs": [
    {
     "data": {
      "text/plain": [
       "('r', 'o', 'h', 'i', 't')"
      ]
     },
     "execution_count": 12,
     "metadata": {},
     "output_type": "execute_result"
    }
   ],
   "source": [
    "#using type conversion\n",
    "L6=tuple(\"rohit\")\n",
    "L6"
   ]
  },
  {
   "cell_type": "code",
   "execution_count": 13,
   "id": "f0bdf8c4-33b4-400f-a96e-1e495df028b4",
   "metadata": {},
   "outputs": [],
   "source": [
    "L6=list()"
   ]
  },
  {
   "cell_type": "code",
   "execution_count": 14,
   "id": "716dade4-2b6b-41ea-8187-78f2fe149363",
   "metadata": {},
   "outputs": [
    {
     "data": {
      "text/plain": [
       "list"
      ]
     },
     "execution_count": 14,
     "metadata": {},
     "output_type": "execute_result"
    }
   ],
   "source": [
    "type(L6)"
   ]
  },
  {
   "cell_type": "markdown",
   "id": "0a3934b7-08bb-465e-b11c-a1a581ed1b49",
   "metadata": {},
   "source": [
    "# 2.Access"
   ]
  },
  {
   "cell_type": "code",
   "execution_count": 15,
   "id": "f7ca4d39-83f5-41fc-ae8f-be1779938ba9",
   "metadata": {},
   "outputs": [
    {
     "data": {
      "text/plain": [
       "[1, 2, 3, 4, 5]"
      ]
     },
     "execution_count": 15,
     "metadata": {},
     "output_type": "execute_result"
    }
   ],
   "source": [
    "L1"
   ]
  },
  {
   "cell_type": "code",
   "execution_count": 16,
   "id": "2ad41943-95f7-421e-9596-b21cf0036f2a",
   "metadata": {
    "jp-MarkdownHeadingCollapsed": true
   },
   "outputs": [
    {
     "data": {
      "text/plain": [
       "1"
      ]
     },
     "execution_count": 16,
     "metadata": {},
     "output_type": "execute_result"
    }
   ],
   "source": [
    "L1[0]"
   ]
  },
  {
   "cell_type": "code",
   "execution_count": 17,
   "id": "f9a6abf4-2319-4f5d-93d2-bd5bc46b4606",
   "metadata": {},
   "outputs": [
    {
     "data": {
      "text/plain": [
       "3"
      ]
     },
     "execution_count": 17,
     "metadata": {},
     "output_type": "execute_result"
    }
   ],
   "source": [
    "L1[2]"
   ]
  },
  {
   "cell_type": "code",
   "execution_count": 18,
   "id": "b6318341-8dbc-4667-b97a-09b7394eb699",
   "metadata": {},
   "outputs": [
    {
     "data": {
      "text/plain": [
       "5"
      ]
     },
     "execution_count": 18,
     "metadata": {},
     "output_type": "execute_result"
    }
   ],
   "source": [
    "L1[-1]"
   ]
  },
  {
   "cell_type": "code",
   "execution_count": 19,
   "id": "7c7b9d93-190d-415e-be17-f5435c303bec",
   "metadata": {},
   "outputs": [
    {
     "data": {
      "text/plain": [
       "[2, 3]"
      ]
     },
     "execution_count": 19,
     "metadata": {},
     "output_type": "execute_result"
    }
   ],
   "source": [
    "# slicing\n",
    "L1[1:3]"
   ]
  },
  {
   "cell_type": "code",
   "execution_count": 31,
   "id": "2ba6e4dd-51df-4663-b7b4-9ef4ee334ce6",
   "metadata": {},
   "outputs": [
    {
     "data": {
      "text/plain": [
       "[1, 2, 3]"
      ]
     },
     "execution_count": 31,
     "metadata": {},
     "output_type": "execute_result"
    }
   ],
   "source": [
    "L1[ :3]"
   ]
  },
  {
   "cell_type": "code",
   "execution_count": 32,
   "id": "5a6fc531-aed4-42c0-a59d-36f97e5cf6db",
   "metadata": {},
   "outputs": [
    {
     "data": {
      "text/plain": [
       "[1]"
      ]
     },
     "execution_count": 32,
     "metadata": {},
     "output_type": "execute_result"
    }
   ],
   "source": [
    "L1[::5]"
   ]
  },
  {
   "cell_type": "code",
   "execution_count": 33,
   "id": "aa443b97-410b-46a7-a9c4-16c9294e5295",
   "metadata": {},
   "outputs": [
    {
     "data": {
      "text/plain": [
       "[1, 2, 3, 4, 5]"
      ]
     },
     "execution_count": 33,
     "metadata": {},
     "output_type": "execute_result"
    }
   ],
   "source": [
    "L1[0::]"
   ]
  },
  {
   "cell_type": "code",
   "execution_count": 37,
   "id": "757e7259-954f-4bf6-b472-72b31b469522",
   "metadata": {},
   "outputs": [
    {
     "data": {
      "text/plain": [
       "[5, 4, 3, 2, 1]"
      ]
     },
     "execution_count": 37,
     "metadata": {},
     "output_type": "execute_result"
    }
   ],
   "source": [
    "L1[::-1]"
   ]
  },
  {
   "cell_type": "code",
   "execution_count": 22,
   "id": "a7ac166b-a9ca-4e8e-b6e3-21b7fd55912b",
   "metadata": {},
   "outputs": [
    {
     "data": {
      "text/plain": [
       "[1, 2, 3, [4, 5]]"
      ]
     },
     "execution_count": 22,
     "metadata": {},
     "output_type": "execute_result"
    }
   ],
   "source": [
    "L3"
   ]
  },
  {
   "cell_type": "code",
   "execution_count": 39,
   "id": "3f9ec94a-1e73-4cec-97f7-a7a4217b2169",
   "metadata": {},
   "outputs": [
    {
     "data": {
      "text/plain": [
       "1"
      ]
     },
     "execution_count": 39,
     "metadata": {},
     "output_type": "execute_result"
    }
   ],
   "source": [
    "L3[0]"
   ]
  },
  {
   "cell_type": "code",
   "execution_count": 40,
   "id": "09aef356-a904-4044-93e5-c6677e0e384a",
   "metadata": {},
   "outputs": [
    {
     "data": {
      "text/plain": [
       "[4, 5]"
      ]
     },
     "execution_count": 40,
     "metadata": {},
     "output_type": "execute_result"
    }
   ],
   "source": [
    "L3[-1]"
   ]
  },
  {
   "cell_type": "code",
   "execution_count": 41,
   "id": "c00304d2-6adb-4f31-b79b-595400b46f30",
   "metadata": {},
   "outputs": [],
   "source": [
    "x=L3[-1]"
   ]
  },
  {
   "cell_type": "code",
   "execution_count": 42,
   "id": "5a518816-9b99-4e51-bcd5-66b5ec20effb",
   "metadata": {},
   "outputs": [
    {
     "data": {
      "text/plain": [
       "[4, 5]"
      ]
     },
     "execution_count": 42,
     "metadata": {},
     "output_type": "execute_result"
    }
   ],
   "source": [
    "x"
   ]
  },
  {
   "cell_type": "code",
   "execution_count": 43,
   "id": "e900c871-b706-4d4c-be5b-0092865b9cb9",
   "metadata": {},
   "outputs": [
    {
     "data": {
      "text/plain": [
       "[4, 5]"
      ]
     },
     "execution_count": 43,
     "metadata": {},
     "output_type": "execute_result"
    }
   ],
   "source": [
    "L3[-1]"
   ]
  },
  {
   "cell_type": "code",
   "execution_count": 44,
   "id": "a63daac1-bffe-4121-be48-1ebf1595b7a9",
   "metadata": {},
   "outputs": [
    {
     "data": {
      "text/plain": [
       "4"
      ]
     },
     "execution_count": 44,
     "metadata": {},
     "output_type": "execute_result"
    }
   ],
   "source": [
    "x[0]"
   ]
  },
  {
   "cell_type": "code",
   "execution_count": 46,
   "id": "c5aaa236-4175-4599-9c3f-36607c7eb970",
   "metadata": {},
   "outputs": [
    {
     "data": {
      "text/plain": [
       "4"
      ]
     },
     "execution_count": 46,
     "metadata": {},
     "output_type": "execute_result"
    }
   ],
   "source": [
    "L3[-1][0]"
   ]
  },
  {
   "cell_type": "code",
   "execution_count": 48,
   "id": "5f8e8f6e-27bd-4280-bc4c-a2a94aa48378",
   "metadata": {},
   "outputs": [
    {
     "data": {
      "text/plain": [
       "[[[1, 2], [3, 4]], [[5, 6], [7, 8]]]"
      ]
     },
     "execution_count": 48,
     "metadata": {},
     "output_type": "execute_result"
    }
   ],
   "source": [
    "L4"
   ]
  },
  {
   "cell_type": "code",
   "execution_count": 20,
   "id": "5c9c6a32-293e-4c28-9595-f8d74a31274b",
   "metadata": {},
   "outputs": [
    {
     "ename": "TypeError",
     "evalue": "'int' object is not subscriptable",
     "output_type": "error",
     "traceback": [
      "\u001b[1;31m---------------------------------------------------------------------------\u001b[0m",
      "\u001b[1;31mTypeError\u001b[0m                                 Traceback (most recent call last)",
      "Cell \u001b[1;32mIn[20], line 1\u001b[0m\n\u001b[1;32m----> 1\u001b[0m L3[\u001b[38;5;241m-\u001b[39m\u001b[38;5;241m1\u001b[39m][\u001b[38;5;241m-\u001b[39m\u001b[38;5;241m1\u001b[39m][\u001b[38;5;241m0\u001b[39m]\n",
      "\u001b[1;31mTypeError\u001b[0m: 'int' object is not subscriptable"
     ]
    }
   ],
   "source": [
    "L3[-1][-1][0]"
   ]
  },
  {
   "cell_type": "code",
   "execution_count": 53,
   "id": "48631604-7085-4e08-bb4c-a604796f6c7e",
   "metadata": {},
   "outputs": [
    {
     "data": {
      "text/plain": [
       "7"
      ]
     },
     "execution_count": 53,
     "metadata": {},
     "output_type": "execute_result"
    }
   ],
   "source": [
    "L4[-1][-1][0]"
   ]
  },
  {
   "cell_type": "markdown",
   "id": "ca9a7d1f-4699-438c-8e2e-e1b202d24670",
   "metadata": {},
   "source": [
    "# 3.Edit"
   ]
  },
  {
   "cell_type": "code",
   "execution_count": 3,
   "id": "58ecd55b-039c-43ce-b986-ba4c4ab6b629",
   "metadata": {},
   "outputs": [
    {
     "data": {
      "text/plain": [
       "[1, 2, 3, 4, 5]"
      ]
     },
     "execution_count": 3,
     "metadata": {},
     "output_type": "execute_result"
    }
   ],
   "source": [
    "L1=[1,2,3,4,5]\n",
    "L1"
   ]
  },
  {
   "cell_type": "code",
   "execution_count": 4,
   "id": "c0afc0e6-d381-4df6-98db-0c98b0558472",
   "metadata": {},
   "outputs": [
    {
     "data": {
      "text/plain": [
       "[100, 2, 3, 4, 5]"
      ]
     },
     "execution_count": 4,
     "metadata": {},
     "output_type": "execute_result"
    }
   ],
   "source": [
    "# editing with indexing\n",
    "L1[0]=100\n",
    "L1\n",
    "# L1 is mutable in python\n",
    "\n"
   ]
  },
  {
   "cell_type": "code",
   "execution_count": 5,
   "id": "1737ad8a-b850-4601-ba44-9e75c781a633",
   "metadata": {},
   "outputs": [
    {
     "data": {
      "text/plain": [
       "[100, 45, 3, 4, 5]"
      ]
     },
     "execution_count": 5,
     "metadata": {},
     "output_type": "execute_result"
    }
   ],
   "source": [
    "L1[1]=45\n",
    "L1"
   ]
  },
  {
   "cell_type": "code",
   "execution_count": 6,
   "id": "7bdf6056-e34c-4b59-aac9-e071f4272640",
   "metadata": {},
   "outputs": [
    {
     "data": {
      "text/plain": [
       "[100, 200, 300, 400, 5]"
      ]
     },
     "execution_count": 6,
     "metadata": {},
     "output_type": "execute_result"
    }
   ],
   "source": [
    "# Editing With Slicing\n",
    "L1[1:4] = [200, 300, 400]\n",
    "L1"
   ]
  },
  {
   "cell_type": "markdown",
   "id": "8b3961e8-64b6-42c3-aaa0-5b3e25482b18",
   "metadata": {},
   "source": [
    "# 4 Add"
   ]
  },
  {
   "cell_type": "markdown",
   "id": "d30fa643-150e-4446-8e85-442af6055398",
   "metadata": {},
   "source": [
    "#  Problem"
   ]
  },
  {
   "cell_type": "raw",
   "id": "272fb344-359f-419f-b27c-ea69877678a5",
   "metadata": {},
   "source": [
    "append()\n",
    "extend()\n",
    "insert()"
   ]
  },
  {
   "cell_type": "code",
   "execution_count": 7,
   "id": "269e7831-2e80-45f8-9219-a43d3f14f22c",
   "metadata": {},
   "outputs": [
    {
     "data": {
      "text/plain": [
       "[100, 200, 300, 400, 5]"
      ]
     },
     "execution_count": 7,
     "metadata": {},
     "output_type": "execute_result"
    }
   ],
   "source": [
    "L1"
   ]
  },
  {
   "cell_type": "code",
   "execution_count": 8,
   "id": "e4366075-fc29-4deb-853a-c35c284e7888",
   "metadata": {},
   "outputs": [
    {
     "data": {
      "text/plain": [
       "[100, 200, 300, 400, 5, 1000]"
      ]
     },
     "execution_count": 8,
     "metadata": {},
     "output_type": "execute_result"
    }
   ],
   "source": [
    "L1.append(1000)#default last mein value add karna \n",
    "L1"
   ]
  },
  {
   "cell_type": "code",
   "execution_count": 15,
   "id": "72f93aad-e964-4284-9aca-ecc0f2d7a6d6",
   "metadata": {},
   "outputs": [
    {
     "data": {
      "text/plain": [
       "[100,\n",
       " 200,\n",
       " 300,\n",
       " 400,\n",
       " 5,\n",
       " 1000,\n",
       " 'hello',\n",
       " 'hello',\n",
       " 3000,\n",
       " 5656,\n",
       " 3566,\n",
       " 'hello',\n",
       " 3000,\n",
       " 5656,\n",
       " 3566,\n",
       " 'hello',\n",
       " 'hello']"
      ]
     },
     "execution_count": 15,
     "metadata": {},
     "output_type": "execute_result"
    }
   ],
   "source": [
    "L1.append(\"hello\")#default last mein value add karna \n",
    "L1"
   ]
  },
  {
   "cell_type": "code",
   "execution_count": 16,
   "id": "592c8349-0694-4f4d-b922-9af1502cc5e4",
   "metadata": {},
   "outputs": [
    {
     "data": {
      "text/plain": [
       "[100,\n",
       " 200,\n",
       " 300,\n",
       " 400,\n",
       " 5,\n",
       " 1000,\n",
       " 'hello',\n",
       " 'hello',\n",
       " 3000,\n",
       " 5656,\n",
       " 3566,\n",
       " 'hello',\n",
       " 3000,\n",
       " 5656,\n",
       " 3566,\n",
       " 'hello',\n",
       " 'hello',\n",
       " 'goa']"
      ]
     },
     "execution_count": 16,
     "metadata": {},
     "output_type": "execute_result"
    }
   ],
   "source": [
    "L1.extend([\"goa\"])\n",
    "L1"
   ]
  },
  {
   "cell_type": "code",
   "execution_count": 17,
   "id": "dd4d435d-4550-48b7-9895-55b0b135dedc",
   "metadata": {},
   "outputs": [
    {
     "data": {
      "text/plain": [
       "[100,\n",
       " 200,\n",
       " 'world',\n",
       " 300,\n",
       " 400,\n",
       " 5,\n",
       " 1000,\n",
       " 'hello',\n",
       " 'hello',\n",
       " 3000,\n",
       " 5656,\n",
       " 3566,\n",
       " 'hello',\n",
       " 3000,\n",
       " 5656,\n",
       " 3566,\n",
       " 'hello',\n",
       " 'hello',\n",
       " 'goa']"
      ]
     },
     "execution_count": 17,
     "metadata": {},
     "output_type": "execute_result"
    }
   ],
   "source": [
    "L1.insert(2, \"world\")\n",
    "L1"
   ]
  },
  {
   "cell_type": "markdown",
   "id": "f45f4edb-08cf-4e77-a744-09003e49871a",
   "metadata": {},
   "source": [
    "# 5.Delete"
   ]
  },
  {
   "cell_type": "raw",
   "id": "530c1ff0-cbcb-41a6-8424-b9c064ac870a",
   "metadata": {},
   "source": [
    "del\n",
    ".remove()\n",
    ".pop()\n",
    ".clear()"
   ]
  },
  {
   "cell_type": "code",
   "execution_count": 23,
   "id": "a196722d-888b-4ea5-88aa-dbd7ad482d92",
   "metadata": {},
   "outputs": [
    {
     "data": {
      "text/plain": [
       "['Hello', 4, 5, 6, True, (5+6j)]"
      ]
     },
     "execution_count": 23,
     "metadata": {},
     "output_type": "execute_result"
    }
   ],
   "source": [
    "L2"
   ]
  },
  {
   "cell_type": "code",
   "execution_count": 24,
   "id": "c9d5d6e4-7533-4e3c-a496-933126a32bf1",
   "metadata": {},
   "outputs": [],
   "source": [
    "del L2"
   ]
  },
  {
   "cell_type": "code",
   "execution_count": 25,
   "id": "ec66e79c-7b05-45f1-8d33-539d9c5689c7",
   "metadata": {},
   "outputs": [
    {
     "ename": "NameError",
     "evalue": "name 'L2' is not defined",
     "output_type": "error",
     "traceback": [
      "\u001b[1;31m---------------------------------------------------------------------------\u001b[0m",
      "\u001b[1;31mNameError\u001b[0m                                 Traceback (most recent call last)",
      "Cell \u001b[1;32mIn[25], line 1\u001b[0m\n\u001b[1;32m----> 1\u001b[0m L2\n",
      "\u001b[1;31mNameError\u001b[0m: name 'L2' is not defined"
     ]
    }
   ],
   "source": [
    "L2"
   ]
  },
  {
   "cell_type": "code",
   "execution_count": 26,
   "id": "22a54b9c-459a-4444-90e6-a430f0922524",
   "metadata": {},
   "outputs": [
    {
     "data": {
      "text/plain": [
       "[100,\n",
       " 200,\n",
       " 'world',\n",
       " 300,\n",
       " 400,\n",
       " 5,\n",
       " 1000,\n",
       " 'hello',\n",
       " 'hello',\n",
       " 3000,\n",
       " 5656,\n",
       " 3566,\n",
       " 'hello',\n",
       " 3000,\n",
       " 5656,\n",
       " 3566,\n",
       " 'hello',\n",
       " 'hello',\n",
       " 'goa']"
      ]
     },
     "execution_count": 26,
     "metadata": {},
     "output_type": "execute_result"
    }
   ],
   "source": [
    "L1"
   ]
  },
  {
   "cell_type": "code",
   "execution_count": 28,
   "id": "17827fab-3a7d-4367-81cd-53238359135c",
   "metadata": {},
   "outputs": [],
   "source": [
    "del L1[0]"
   ]
  },
  {
   "cell_type": "code",
   "execution_count": 29,
   "id": "58d60c3d-c8a8-44c5-beee-284b713a1344",
   "metadata": {},
   "outputs": [
    {
     "data": {
      "text/plain": [
       "[200,\n",
       " 'world',\n",
       " 300,\n",
       " 400,\n",
       " 5,\n",
       " 1000,\n",
       " 'hello',\n",
       " 'hello',\n",
       " 3000,\n",
       " 5656,\n",
       " 3566,\n",
       " 'hello',\n",
       " 3000,\n",
       " 5656,\n",
       " 3566,\n",
       " 'hello',\n",
       " 'hello',\n",
       " 'goa']"
      ]
     },
     "execution_count": 29,
     "metadata": {},
     "output_type": "execute_result"
    }
   ],
   "source": [
    "L1"
   ]
  },
  {
   "cell_type": "code",
   "execution_count": 30,
   "id": "0711fb19-b099-4aa4-b936-a341f6b6d980",
   "metadata": {},
   "outputs": [
    {
     "data": {
      "text/plain": [
       "[200,\n",
       " 'world',\n",
       " 300,\n",
       " 400,\n",
       " 5,\n",
       " 1000,\n",
       " 'hello',\n",
       " 'hello',\n",
       " 3000,\n",
       " 5656,\n",
       " 3566,\n",
       " 'hello',\n",
       " 3000,\n",
       " 5656,\n",
       " 3566]"
      ]
     },
     "execution_count": 30,
     "metadata": {},
     "output_type": "execute_result"
    }
   ],
   "source": [
    "del L1[-3:]\n",
    "L1"
   ]
  },
  {
   "cell_type": "code",
   "execution_count": 34,
   "id": "90196148-9e20-4685-a8df-b9213f29ae8b",
   "metadata": {},
   "outputs": [],
   "source": [
    "L1.remove(\"hello\")"
   ]
  },
  {
   "cell_type": "code",
   "execution_count": 35,
   "id": "caf38bb6-cbc9-4369-bcb7-a05242a5e847",
   "metadata": {},
   "outputs": [
    {
     "data": {
      "text/plain": [
       "[200,\n",
       " 'world',\n",
       " 300,\n",
       " 400,\n",
       " 5,\n",
       " 1000,\n",
       " 'hello',\n",
       " 3000,\n",
       " 5656,\n",
       " 3566,\n",
       " 'hello',\n",
       " 3000,\n",
       " 5656,\n",
       " 3566]"
      ]
     },
     "execution_count": 35,
     "metadata": {},
     "output_type": "execute_result"
    }
   ],
   "source": [
    "L1"
   ]
  },
  {
   "cell_type": "code",
   "execution_count": 36,
   "id": "48093864-f126-447d-94c2-a771d4b3bd04",
   "metadata": {},
   "outputs": [
    {
     "data": {
      "text/plain": [
       "[200,\n",
       " 'world',\n",
       " 300,\n",
       " 400,\n",
       " 5,\n",
       " 1000,\n",
       " 'hello',\n",
       " 3000,\n",
       " 5656,\n",
       " 3566,\n",
       " 'hello',\n",
       " 3000,\n",
       " 5656]"
      ]
     },
     "execution_count": 36,
     "metadata": {},
     "output_type": "execute_result"
    }
   ],
   "source": [
    "L1.pop()\n",
    "L1"
   ]
  },
  {
   "cell_type": "code",
   "execution_count": 37,
   "id": "2ec21f53-95e9-461f-b92a-9e7593852af6",
   "metadata": {},
   "outputs": [
    {
     "data": {
      "text/plain": [
       "[200, 'world', 300, 400, 5, 1000, 'hello', 3000, 5656, 3566, 'hello', 3000]"
      ]
     },
     "execution_count": 37,
     "metadata": {},
     "output_type": "execute_result"
    }
   ],
   "source": [
    "L1.pop()\n",
    "L1"
   ]
  },
  {
   "cell_type": "code",
   "execution_count": 39,
   "id": "31a2c340-c45f-4ab1-ad84-8e5e4c4c3bc2",
   "metadata": {},
   "outputs": [
    {
     "data": {
      "text/plain": [
       "[200, 'world', 300, 400, 5, 1000, 'hello', 3000, 5656, 3566]"
      ]
     },
     "execution_count": 39,
     "metadata": {},
     "output_type": "execute_result"
    }
   ],
   "source": [
    "L1.pop()\n",
    "L1"
   ]
  },
  {
   "cell_type": "code",
   "execution_count": 40,
   "id": "9a6f8052-9afa-4f13-8d46-efc2429a1192",
   "metadata": {},
   "outputs": [],
   "source": [
    "L1.clear()"
   ]
  },
  {
   "cell_type": "code",
   "execution_count": 41,
   "id": "b4afabae-23b1-4249-ade8-8cf997b291d0",
   "metadata": {},
   "outputs": [
    {
     "data": {
      "text/plain": [
       "[]"
      ]
     },
     "execution_count": 41,
     "metadata": {},
     "output_type": "execute_result"
    }
   ],
   "source": [
    "L1"
   ]
  },
  {
   "cell_type": "markdown",
   "id": "b512aa75-e594-4f6e-bbaf-dd52b06148fc",
   "metadata": {},
   "source": [
    "# 6.Operations"
   ]
  },
  {
   "cell_type": "raw",
   "id": "7533e763-f8fa-4b4a-bf0c-5ceac12ceb18",
   "metadata": {},
   "source": [
    "Arithmetic\n",
    "Membership\n",
    "Loop"
   ]
  },
  {
   "cell_type": "code",
   "execution_count": 3,
   "id": "5418e5bc-5ced-46db-870e-84649d16aa63",
   "metadata": {},
   "outputs": [],
   "source": [
    "L=[1,4,7,9,6]\n",
    "L1=[45,56,78,85]"
   ]
  },
  {
   "cell_type": "code",
   "execution_count": 4,
   "id": "e17e6838-613f-45b4-a353-567f4404caa2",
   "metadata": {},
   "outputs": [
    {
     "data": {
      "text/plain": [
       "[1, 4, 7, 9, 6, 45, 56, 78, 85]"
      ]
     },
     "execution_count": 4,
     "metadata": {},
     "output_type": "execute_result"
    }
   ],
   "source": [
    "L+L1"
   ]
  },
  {
   "cell_type": "code",
   "execution_count": 5,
   "id": "d3621f7e-6f4b-4af8-8150-b2c21a3c2dbe",
   "metadata": {},
   "outputs": [
    {
     "data": {
      "text/plain": [
       "[1, 4, 7, 9, 6]"
      ]
     },
     "execution_count": 5,
     "metadata": {},
     "output_type": "execute_result"
    }
   ],
   "source": [
    "L "
   ]
  },
  {
   "cell_type": "code",
   "execution_count": 6,
   "id": "359d938f-4c72-45f5-817c-e32408d2a1bd",
   "metadata": {},
   "outputs": [
    {
     "data": {
      "text/plain": [
       "[45, 56, 78, 85]"
      ]
     },
     "execution_count": 6,
     "metadata": {},
     "output_type": "execute_result"
    }
   ],
   "source": [
    "L1"
   ]
  },
  {
   "cell_type": "code",
   "execution_count": 7,
   "id": "816f65e8-b940-4167-977a-0d3371fa3a79",
   "metadata": {},
   "outputs": [
    {
     "data": {
      "text/plain": [
       "[45,\n",
       " 56,\n",
       " 78,\n",
       " 85,\n",
       " 45,\n",
       " 56,\n",
       " 78,\n",
       " 85,\n",
       " 45,\n",
       " 56,\n",
       " 78,\n",
       " 85,\n",
       " 45,\n",
       " 56,\n",
       " 78,\n",
       " 85,\n",
       " 45,\n",
       " 56,\n",
       " 78,\n",
       " 85]"
      ]
     },
     "execution_count": 7,
     "metadata": {},
     "output_type": "execute_result"
    }
   ],
   "source": [
    "L1 * 5"
   ]
  },
  {
   "cell_type": "code",
   "execution_count": 8,
   "id": "5c46f131-7fb3-47df-aaf0-fdb05fc88b26",
   "metadata": {},
   "outputs": [
    {
     "name": "stdout",
     "output_type": "stream",
     "text": [
      "1\n",
      "4\n",
      "7\n",
      "9\n",
      "6\n"
     ]
    }
   ],
   "source": [
    "# loop\n",
    "for i in L:\n",
    "    print(i)"
   ]
  },
  {
   "cell_type": "code",
   "execution_count": 9,
   "id": "8276fd81-0ce2-4071-93b9-8fa621bc3b8a",
   "metadata": {},
   "outputs": [
    {
     "name": "stdout",
     "output_type": "stream",
     "text": [
      "45\n",
      "56\n",
      "78\n",
      "85\n"
     ]
    }
   ],
   "source": [
    "for i in L1:\n",
    "    print(i)"
   ]
  },
  {
   "cell_type": "code",
   "execution_count": 10,
   "id": "24e9e5a5-f9e1-4bef-a108-423375e47311",
   "metadata": {},
   "outputs": [
    {
     "data": {
      "text/plain": [
       "[1, 4, 7, 9, 6]"
      ]
     },
     "execution_count": 10,
     "metadata": {},
     "output_type": "execute_result"
    }
   ],
   "source": [
    "L"
   ]
  },
  {
   "cell_type": "code",
   "execution_count": 11,
   "id": "6cec82a3-85d3-482f-8be1-ffee8c638126",
   "metadata": {},
   "outputs": [
    {
     "data": {
      "text/plain": [
       "[43,\n",
       " 56,\n",
       " 7,\n",
       " 8,\n",
       " 9,\n",
       " 7,\n",
       " 6,\n",
       " 5,\n",
       " 43,\n",
       " 4,\n",
       " 76,\n",
       " 78,\n",
       " 7,\n",
       " 54,\n",
       " 7,\n",
       " 8,\n",
       " 8,\n",
       " 87,\n",
       " 78,\n",
       " 76,\n",
       " 7,\n",
       " 9,\n",
       " 9,\n",
       " 76,\n",
       " 54,\n",
       " 8]"
      ]
     },
     "execution_count": 11,
     "metadata": {},
     "output_type": "execute_result"
    }
   ],
   "source": [
    "L5=[43,56,7,8,9,7,6,5,43,4,76,78,7,54,7,8,8,87,78,76,7,9,9,76,54,8]\n",
    "L5"
   ]
  },
  {
   "cell_type": "code",
   "execution_count": 12,
   "id": "092b2811-5719-47c8-8f24-2211474bf488",
   "metadata": {},
   "outputs": [
    {
     "data": {
      "text/plain": [
       "True"
      ]
     },
     "execution_count": 12,
     "metadata": {},
     "output_type": "execute_result"
    }
   ],
   "source": [
    "7 in L5"
   ]
  },
  {
   "cell_type": "code",
   "execution_count": 13,
   "id": "8fe4441f-c455-4917-8bff-f9bf629ede5d",
   "metadata": {},
   "outputs": [
    {
     "data": {
      "text/plain": [
       "False"
      ]
     },
     "execution_count": 13,
     "metadata": {},
     "output_type": "execute_result"
    }
   ],
   "source": [
    "1 in L5"
   ]
  },
  {
   "cell_type": "code",
   "execution_count": 14,
   "id": "2dae3863-2fd8-4eca-b014-396b7e5f6c49",
   "metadata": {},
   "outputs": [
    {
     "data": {
      "text/plain": [
       "False"
      ]
     },
     "execution_count": 14,
     "metadata": {},
     "output_type": "execute_result"
    }
   ],
   "source": [
    "(\"addu\") in L5"
   ]
  },
  {
   "cell_type": "markdown",
   "id": "017fce09-ce38-4865-9fa1-9d064abd2980",
   "metadata": {},
   "source": [
    "# 7.Function"
   ]
  },
  {
   "cell_type": "raw",
   "id": "26e146f5-b6bc-4cc0-96d0-2cae7fc55818",
   "metadata": {},
   "source": [
    "len()\n",
    "min()\n",
    "max()\n",
    "sorted()"
   ]
  },
  {
   "cell_type": "code",
   "execution_count": 15,
   "id": "28ec0b74-bcf1-4747-8394-f194763b3cb0",
   "metadata": {},
   "outputs": [
    {
     "data": {
      "text/plain": [
       "[1, 4, 7, 9, 6]"
      ]
     },
     "execution_count": 15,
     "metadata": {},
     "output_type": "execute_result"
    }
   ],
   "source": [
    "L"
   ]
  },
  {
   "cell_type": "code",
   "execution_count": 16,
   "id": "af7d2204-20a2-4095-9169-c1ee1ca1956b",
   "metadata": {},
   "outputs": [
    {
     "data": {
      "text/plain": [
       "1"
      ]
     },
     "execution_count": 16,
     "metadata": {},
     "output_type": "execute_result"
    }
   ],
   "source": [
    "min(L)"
   ]
  },
  {
   "cell_type": "code",
   "execution_count": 17,
   "id": "072eb413-a4c4-493b-b53b-d50e1a7fd807",
   "metadata": {},
   "outputs": [
    {
     "data": {
      "text/plain": [
       "9"
      ]
     },
     "execution_count": 17,
     "metadata": {},
     "output_type": "execute_result"
    }
   ],
   "source": [
    "max(L)"
   ]
  },
  {
   "cell_type": "code",
   "execution_count": 18,
   "id": "be5a2827-642b-458a-8cc2-9dddb1646010",
   "metadata": {},
   "outputs": [
    {
     "data": {
      "text/plain": [
       "[1, 4, 6, 7, 9]"
      ]
     },
     "execution_count": 18,
     "metadata": {},
     "output_type": "execute_result"
    }
   ],
   "source": [
    "sorted(L)"
   ]
  },
  {
   "cell_type": "code",
   "execution_count": 19,
   "id": "e3008f70-532f-468a-aadb-0fc8403d15d1",
   "metadata": {},
   "outputs": [
    {
     "data": {
      "text/plain": [
       "[9, 7, 6, 4, 1]"
      ]
     },
     "execution_count": 19,
     "metadata": {},
     "output_type": "execute_result"
    }
   ],
   "source": [
    "sorted(L,reverse=True)"
   ]
  },
  {
   "cell_type": "code",
   "execution_count": 20,
   "id": "68b4752c-6a06-4c96-a49e-aaf7b21383a1",
   "metadata": {},
   "outputs": [],
   "source": [
    "L.sort(reverse=True)"
   ]
  },
  {
   "cell_type": "code",
   "execution_count": 21,
   "id": "5c1533cd-92f4-4f9d-afef-4dcd5229193a",
   "metadata": {},
   "outputs": [
    {
     "data": {
      "text/plain": [
       "[9, 7, 6, 4, 1]"
      ]
     },
     "execution_count": 21,
     "metadata": {},
     "output_type": "execute_result"
    }
   ],
   "source": [
    "L"
   ]
  },
  {
   "cell_type": "code",
   "execution_count": 23,
   "id": "c22c84d2-dc0a-4560-a0eb-59594b95d505",
   "metadata": {},
   "outputs": [
    {
     "data": {
      "text/plain": [
       "[9, 7, 6, 4, 1]"
      ]
     },
     "execution_count": 23,
     "metadata": {},
     "output_type": "execute_result"
    }
   ],
   "source": [
    "L.sort\n",
    "L"
   ]
  },
  {
   "cell_type": "code",
   "execution_count": 25,
   "id": "61b7b1c2-9d6f-4cf3-a005-167427875bd7",
   "metadata": {},
   "outputs": [
    {
     "data": {
      "text/plain": [
       "4"
      ]
     },
     "execution_count": 25,
     "metadata": {},
     "output_type": "execute_result"
    }
   ],
   "source": [
    "# Count\n",
    "L=[1,2,3,4,5,6,7,1,3,4,1,1]\n",
    "L.count(1)"
   ]
  },
  {
   "cell_type": "code",
   "execution_count": 26,
   "id": "025371a4-934d-4449-aa4e-55a0fd2a8ce7",
   "metadata": {},
   "outputs": [
    {
     "data": {
      "text/plain": [
       "1"
      ]
     },
     "execution_count": 26,
     "metadata": {},
     "output_type": "execute_result"
    }
   ],
   "source": [
    "# index\n",
    "L.index(2)"
   ]
  },
  {
   "cell_type": "code",
   "execution_count": 29,
   "id": "3ceaa3b8-4492-48a1-a567-e7a770fb4849",
   "metadata": {},
   "outputs": [
    {
     "name": "stdout",
     "output_type": "stream",
     "text": [
      "[1, 1, 4, 3, 1, 7, 6, 5, 4, 3, 2, 1]\n"
     ]
    }
   ],
   "source": [
    "# reverse \n",
    "L.reverse()\n",
    "# permanently reverse\n",
    "print (L)"
   ]
  },
  {
   "cell_type": "code",
   "execution_count": 30,
   "id": "73b9938a-679b-4d11-800a-9f42b5d9b744",
   "metadata": {},
   "outputs": [
    {
     "name": "stdout",
     "output_type": "stream",
     "text": [
      "[2, 1, 5, 7, 0]\n",
      "[0, 1, 2, 5, 7]\n",
      "[2, 1, 5, 7, 0]\n",
      "[0, 1, 2, 5, 7]\n"
     ]
    }
   ],
   "source": [
    "# sort (vs sorted)\n",
    "L = [2, 1, 5, 7, 0]\n",
    "print(L)\n",
    "print(sorted(L)) # New sorted list\n",
    "print(L)         # Original list (unchanged)\n",
    "L.sort()\n",
    "print(L)         # Original list (sorted)"
   ]
  },
  {
   "cell_type": "code",
   "execution_count": 39,
   "id": "11d18e66-20a5-48d8-850d-f7dc45c6e5f9",
   "metadata": {},
   "outputs": [],
   "source": [
    "L.reverse()"
   ]
  },
  {
   "cell_type": "code",
   "execution_count": 40,
   "id": "87e7f97d-e3be-4946-bb37-0f8f31a724b4",
   "metadata": {},
   "outputs": [
    {
     "name": "stdout",
     "output_type": "stream",
     "text": [
      "[0, 1, 2, 5, 7]\n"
     ]
    }
   ],
   "source": [
    "print(L)"
   ]
  },
  {
   "cell_type": "code",
   "execution_count": 41,
   "id": "3efddf7d-b5fa-4a98-987b-647520120230",
   "metadata": {},
   "outputs": [
    {
     "name": "stdout",
     "output_type": "stream",
     "text": [
      "[2, 1, 5, 7, 0]\n",
      "1931853636480\n",
      "[2, 1, 5, 7, 0]\n",
      "1931867533568\n"
     ]
    }
   ],
   "source": [
    "# copy ---> shallow\n",
    "L = [2, 1, 5, 7, 0]\n",
    "print(L)\n",
    "print(id(L))\n",
    "L1 = L.copy()\n",
    "print(L1)\n",
    "print(id(L1))\n"
   ]
  },
  {
   "cell_type": "code",
   "execution_count": 42,
   "id": "5264ce82-b2f0-4027-92f2-a8db3c9b85ed",
   "metadata": {},
   "outputs": [],
   "source": [
    "L = [2, 1, 5, 7, 0]\n"
   ]
  },
  {
   "cell_type": "code",
   "execution_count": 43,
   "id": "418f3862-32a2-4e1e-b025-8bf6ee9894cd",
   "metadata": {},
   "outputs": [],
   "source": [
    "L1=L.copy()"
   ]
  },
  {
   "cell_type": "code",
   "execution_count": 44,
   "id": "38d4e699-f6af-4149-9e69-0870a5a962ca",
   "metadata": {},
   "outputs": [
    {
     "data": {
      "text/plain": [
       "[2, 1, 5, 7, 0]"
      ]
     },
     "execution_count": 44,
     "metadata": {},
     "output_type": "execute_result"
    }
   ],
   "source": [
    "L1"
   ]
  },
  {
   "cell_type": "code",
   "execution_count": 45,
   "id": "f133d911-2780-4693-a819-e19e4ed658c7",
   "metadata": {},
   "outputs": [
    {
     "data": {
      "text/plain": [
       "'Hello How Are You'"
      ]
     },
     "execution_count": 45,
     "metadata": {},
     "output_type": "execute_result"
    }
   ],
   "source": [
    "\"hello how are you\".title()"
   ]
  },
  {
   "cell_type": "code",
   "execution_count": 46,
   "id": "16ffde7e-44ea-4a06-bb8c-5711f9698f1c",
   "metadata": {},
   "outputs": [
    {
     "name": "stdout",
     "output_type": "stream",
     "text": [
      "['How', 'Are', 'You?']\n",
      "How Are You?\n"
     ]
    }
   ],
   "source": [
    "# Title Case a String Without title()\n",
    "sample = \"how are you?\"\n",
    "sample.split()\n",
    "L = []\n",
    "for i in sample.split():\n",
    "    L.append(i.capitalize())\n",
    "print(L)\n",
    "print(\" \".join(L))\n"
   ]
  },
  {
   "cell_type": "code",
   "execution_count": 47,
   "id": "c76f2a73-a700-419c-af02-65c3fa6749cb",
   "metadata": {},
   "outputs": [
    {
     "name": "stdout",
     "output_type": "stream",
     "text": [
      "Rohit\n"
     ]
    }
   ],
   "source": [
    "sample = \"Rohit@gmail.com\"\n",
    "print(sample[:sample.find(\"@\")])\n",
    "\n"
   ]
  },
  {
   "cell_type": "code",
   "execution_count": 48,
   "id": "8d582b8b-85f5-4590-af9b-fc9bb803f28a",
   "metadata": {},
   "outputs": [
    {
     "name": "stdout",
     "output_type": "stream",
     "text": [
      "[1, 2, 3, 4]\n"
     ]
    }
   ],
   "source": [
    "L1 = [1, 1, 2, 2, 3, 3, 4, 4]\n",
    "# Output: L2 = [1, 2, 3, 4]\n",
    "L = []\n",
    "for i in L1:\n",
    "    if i not in L:\n",
    "        L.append(i)\n",
    "print(L)    "
   ]
  },
  {
   "cell_type": "code",
   "execution_count": null,
   "id": "f7ae77d6-ce61-4b19-b9f1-eac9fac362cd",
   "metadata": {},
   "outputs": [],
   "source": []
  }
 ],
 "metadata": {
  "kernelspec": {
   "display_name": "Python 3 (ipykernel)",
   "language": "python",
   "name": "python3"
  },
  "language_info": {
   "codemirror_mode": {
    "name": "ipython",
    "version": 3
   },
   "file_extension": ".py",
   "mimetype": "text/x-python",
   "name": "python",
   "nbconvert_exporter": "python",
   "pygments_lexer": "ipython3",
   "version": "3.12.7"
  }
 },
 "nbformat": 4,
 "nbformat_minor": 5
}
