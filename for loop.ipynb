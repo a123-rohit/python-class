{
 "cells": [
  {
   "cell_type": "markdown",
   "id": "5236dbd2-f099-4e45-a3e0-c17d4e6c6675",
   "metadata": {},
   "source": [
    "# For loop"
   ]
  },
  {
   "cell_type": "code",
   "execution_count": 4,
   "id": "97616d93-8ff7-4533-a427-d8450cd3ef59",
   "metadata": {},
   "outputs": [
    {
     "data": {
      "text/plain": [
       "[0, 1, 2, 3, 4, 5, 6, 7, 8, 9]"
      ]
     },
     "execution_count": 4,
     "metadata": {},
     "output_type": "execute_result"
    }
   ],
   "source": [
    "list(range(10))\n"
   ]
  },
  {
   "cell_type": "code",
   "execution_count": 8,
   "id": "56f56797-5079-464c-bf8f-535984ae93ea",
   "metadata": {},
   "outputs": [
    {
     "data": {
      "text/plain": [
       "[1, 2, 3]"
      ]
     },
     "execution_count": 8,
     "metadata": {},
     "output_type": "execute_result"
    }
   ],
   "source": [
    "list(range(1,4))"
   ]
  },
  {
   "cell_type": "code",
   "execution_count": 16,
   "id": "e484fe07-b931-4f02-88ed-9fbcade04695",
   "metadata": {},
   "outputs": [
    {
     "data": {
      "text/plain": [
       "[1, 5, 9, 13, 17, 21, 25, 29]"
      ]
     },
     "execution_count": 16,
     "metadata": {},
     "output_type": "execute_result"
    }
   ],
   "source": [
    "list(range(1,32,4))"
   ]
  },
  {
   "cell_type": "code",
   "execution_count": 24,
   "id": "b1677195-e262-4be9-bb2a-d842e0dd962a",
   "metadata": {},
   "outputs": [
    {
     "name": "stdout",
     "output_type": "stream",
     "text": [
      "0\n",
      "1\n",
      "2\n",
      "3\n",
      "4\n",
      "5\n",
      "6\n",
      "7\n",
      "8\n",
      "9\n"
     ]
    }
   ],
   "source": [
    "for i in range(10):\n",
    "    print(i)"
   ]
  },
  {
   "cell_type": "code",
   "execution_count": 26,
   "id": "1aa704e6-5398-41b6-9c1c-04606a3c0b6a",
   "metadata": {},
   "outputs": [
    {
     "name": "stdout",
     "output_type": "stream",
     "text": [
      "1\n",
      "5\n",
      "9\n",
      "13\n",
      "17\n",
      "21\n",
      "25\n",
      "29\n"
     ]
    }
   ],
   "source": [
    "for i in range(1,32,4):\n",
    "    print(i)"
   ]
  },
  {
   "cell_type": "code",
   "execution_count": 36,
   "id": "55e4b782-82a1-4552-ac19-914eadc0af0e",
   "metadata": {},
   "outputs": [
    {
     "name": "stdout",
     "output_type": "stream",
     "text": [
      "1\n",
      "2\n",
      "3\n",
      "4\n",
      "5\n",
      "6\n",
      "7\n",
      "8\n"
     ]
    }
   ],
   "source": [
    "for i in {1,2,3,4,5,6,7,8}:\n",
    " print(i)"
   ]
  },
  {
   "cell_type": "code",
   "execution_count": 46,
   "id": "0de9ec74-9473-4649-a5d1-5f3a54328cf6",
   "metadata": {},
   "outputs": [
    {
     "name": "stdout",
     "output_type": "stream",
     "text": [
      "k\n",
      "o\n",
      "l\n",
      "k\n",
      "a\n",
      "t\n",
      "a\n"
     ]
    }
   ],
   "source": [
    "for i in \"kolkata\":\n",
    " print (i)"
   ]
  },
  {
   "cell_type": "code",
   "execution_count": 48,
   "id": "bfe0752c-e028-4897-bb27-a51eb4e24696",
   "metadata": {},
   "outputs": [
    {
     "name": "stdout",
     "output_type": "stream",
     "text": [
      "10 10000\n",
      "9 9090.90909090909\n",
      "8 8264.462809917353\n",
      "7 7513.148009015775\n",
      "6 6830.134553650703\n",
      "5 6209.213230591548\n",
      "4 5644.739300537771\n",
      "3 5131.5811823070635\n",
      "2 4665.07380209733\n",
      "1 4240.976183724845\n"
     ]
    }
   ],
   "source": [
    "# 1. Population Growth Calculation\n",
    "\n",
    "# Initial Population: 10000\n",
    "# Growth Rate: 10% annually\n",
    "# Duration: 10 years\n",
    "\n",
    "curr_pop = 10000\n",
    "for i in range(10, 0, -1):\n",
    "    print(i, curr_pop)\n",
    "    curr_pop = curr_pop / 1.1"
   ]
  },
  {
   "cell_type": "code",
   "execution_count": 52,
   "id": "45325ba2-27ee-4d1e-8804-ff188b8b504d",
   "metadata": {},
   "outputs": [
    {
     "ename": "SyntaxError",
     "evalue": "invalid syntax (757408881.py, line 1)",
     "output_type": "error",
     "traceback": [
      "\u001b[1;36m  Cell \u001b[1;32mIn[52], line 1\u001b[1;36m\u001b[0m\n\u001b[1;33m    For Loop : Known iterations.\u001b[0m\n\u001b[1;37m        ^\u001b[0m\n\u001b[1;31mSyntaxError\u001b[0m\u001b[1;31m:\u001b[0m invalid syntax\n"
     ]
    }
   ],
   "source": [
    "For Loop : Known iterations.\n",
    "\n",
    "for item in iterable:\n",
    "    # Code block\n",
    "iterable: list, tuple, string, etc.\n",
    "\n",
    "While Loop: Unknown iterations.\n",
    "\n",
    "while condition:\n",
    "    # Code block\n",
    "condition: boolean expression.\n",
    "\n",
    "Key Differences is For Loop iterates a fixed number of times; While Loop iterates until condition is False.\n",
    "\n",
    "For Loop Usage - Known iterations/sequence traversal; While Loop Usage - Uncertain iterations/condition-based."
   ]
  },
  {
   "cell_type": "code",
   "execution_count": null,
   "id": "b7ee8efc-c4cd-48c5-98d0-66c851818db7",
   "metadata": {},
   "outputs": [],
   "source": []
  }
 ],
 "metadata": {
  "kernelspec": {
   "display_name": "Python [conda env:base] *",
   "language": "python",
   "name": "conda-base-py"
  },
  "language_info": {
   "codemirror_mode": {
    "name": "ipython",
    "version": 3
   },
   "file_extension": ".py",
   "mimetype": "text/x-python",
   "name": "python",
   "nbconvert_exporter": "python",
   "pygments_lexer": "ipython3",
   "version": "3.12.7"
  }
 },
 "nbformat": 4,
 "nbformat_minor": 5
}
