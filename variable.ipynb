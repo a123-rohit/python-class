{
 "cells": [
  {
   "cell_type": "markdown",
   "id": "07148f9e-6637-4fd3-9fb6-3da431685d56",
   "metadata": {},
   "source": [
    "variables"
   ]
  },
  {
   "cell_type": "code",
   "execution_count": null,
   "id": "fedbb07e-27b6-4bf4-b24f-d8b16a506f2e",
   "metadata": {},
   "outputs": [],
   "source": [
    "a = 10"
   ]
  },
  {
   "cell_type": "code",
   "execution_count": null,
   "id": "5866f3b7-93c1-4d87-a70f-61b08f66b499",
   "metadata": {},
   "outputs": [],
   "source": [
    "a"
   ]
  },
  {
   "cell_type": "code",
   "execution_count": null,
   "id": "17bc2ad5-f0f7-4c77-9360-9947b847e0c5",
   "metadata": {},
   "outputs": [],
   "source": [
    "print(a)"
   ]
  },
  {
   "cell_type": "code",
   "execution_count": null,
   "id": "7ce774f3-a2a5-46fd-8544-69c733343df0",
   "metadata": {},
   "outputs": [],
   "source": [
    "b = \"sam\""
   ]
  },
  {
   "cell_type": "code",
   "execution_count": null,
   "id": "a3d6f12c-8ff2-4a2a-bab8-8c12473e3345",
   "metadata": {},
   "outputs": [],
   "source": [
    "b"
   ]
  },
  {
   "cell_type": "code",
   "execution_count": null,
   "id": "93af2688-7827-40e6-a52c-85e35642d832",
   "metadata": {},
   "outputs": [],
   "source": [
    "print(b)"
   ]
  },
  {
   "cell_type": "code",
   "execution_count": null,
   "id": "84062e61-81fd-4c1c-b3c3-11679436a958",
   "metadata": {},
   "outputs": [],
   "source": [
    "a = 10\n",
    "c = 2.5"
   ]
  },
  {
   "cell_type": "code",
   "execution_count": null,
   "id": "b50f8e84-b244-405e-8f7d-824d675cdfb4",
   "metadata": {},
   "outputs": [],
   "source": [
    "a"
   ]
  },
  {
   "cell_type": "code",
   "execution_count": null,
   "id": "c8e24df4-9862-4d58-a801-6b00e91622a5",
   "metadata": {},
   "outputs": [],
   "source": [
    "c"
   ]
  },
  {
   "cell_type": "code",
   "execution_count": null,
   "id": "c78b702b-d852-469e-bd21-c9ab8ed5e620",
   "metadata": {},
   "outputs": [],
   "source": [
    "a = 10\n",
    "b = a"
   ]
  },
  {
   "cell_type": "code",
   "execution_count": null,
   "id": "d8bea36d-1586-43c0-aa4c-12b88a386ff5",
   "metadata": {},
   "outputs": [],
   "source": [
    "b"
   ]
  },
  {
   "cell_type": "code",
   "execution_count": null,
   "id": "c22cb961-2d02-4a20-8321-4524f1eed8be",
   "metadata": {},
   "outputs": [],
   "source": [
    "type(a)"
   ]
  },
  {
   "cell_type": "code",
   "execution_count": null,
   "id": "98e500f6-1002-4e78-8750-366a6f79c5c9",
   "metadata": {},
   "outputs": [],
   "source": [
    "type(2.5)"
   ]
  },
  {
   "cell_type": "code",
   "execution_count": null,
   "id": "9dffa978-ca8d-4b94-b1ff-8c921a210f43",
   "metadata": {},
   "outputs": [],
   "source": [
    "c = (2,3,2.5,True)"
   ]
  },
  {
   "cell_type": "code",
   "execution_count": null,
   "id": "8db984d4-2f1d-4c9f-bcbc-2123d7584856",
   "metadata": {},
   "outputs": [],
   "source": [
    "c"
   ]
  },
  {
   "cell_type": "code",
   "execution_count": null,
   "id": "9c0620fb-4bed-4a71-80e7-d25f375b2475",
   "metadata": {},
   "outputs": [],
   "source": [
    "type(c)"
   ]
  },
  {
   "cell_type": "code",
   "execution_count": null,
   "id": "3585fd48-cdf7-4520-9371-d5fe29ce64bc",
   "metadata": {},
   "outputs": [],
   "source": [
    "# Special Syntax\n",
    "a = 5; b = 6; c = 7"
   ]
  },
  {
   "cell_type": "code",
   "execution_count": null,
   "id": "7a21b562-e940-4068-9aff-b82f7ca9e1a2",
   "metadata": {},
   "outputs": [],
   "source": [
    "print(a)\n",
    "print(b)\n",
    "print(c)"
   ]
  },
  {
   "cell_type": "code",
   "execution_count": null,
   "id": "71d68677-72c5-4686-8e22-cd94e9660740",
   "metadata": {},
   "outputs": [],
   "source": [
    "a = b = c = 6"
   ]
  },
  {
   "cell_type": "code",
   "execution_count": null,
   "id": "cf35d235-dd1b-4b62-bfb1-71aa94d57bca",
   "metadata": {},
   "outputs": [],
   "source": [
    "print(a, b, c)"
   ]
  },
  {
   "cell_type": "raw",
   "id": "819bb17b-c0e9-42b0-b457-ad43276beaef",
   "metadata": {},
   "source": []
  },
  {
   "cell_type": "code",
   "execution_count": 43,
   "id": "2466199f-d407-4b48-9dfe-1e2bb55f640a",
   "metadata": {},
   "outputs": [
    {
     "name": "stdout",
     "output_type": "stream",
     "text": [
      "10\n"
     ]
    }
   ],
   "source": [
    "a=10\n",
    "print(a)"
   ]
  },
  {
   "cell_type": "code",
   "execution_count": 45,
   "id": "a49bcf96-c1e4-4888-a5f5-327c490dc541",
   "metadata": {},
   "outputs": [
    {
     "data": {
      "text/plain": [
       "10"
      ]
     },
     "execution_count": 45,
     "metadata": {},
     "output_type": "execute_result"
    }
   ],
   "source": [
    "a"
   ]
  },
  {
   "cell_type": "code",
   "execution_count": 51,
   "id": "845c1cf6-5419-41a4-a873-65a0c5c69331",
   "metadata": {},
   "outputs": [
    {
     "data": {
      "text/plain": [
       "'choudhary shab'"
      ]
     },
     "execution_count": 51,
     "metadata": {},
     "output_type": "execute_result"
    }
   ],
   "source": [
    "b=\"choudhary shab\"\n",
    "b"
   ]
  },
  {
   "cell_type": "code",
   "execution_count": 53,
   "id": "86792eb4-bc89-4055-a9fb-e92d150aeda4",
   "metadata": {},
   "outputs": [
    {
     "data": {
      "text/plain": [
       "384"
      ]
     },
     "execution_count": 53,
     "metadata": {},
     "output_type": "execute_result"
    }
   ],
   "source": [
    "a=384\n",
    "b=a\n",
    "b"
   ]
  },
  {
   "cell_type": "code",
   "execution_count": null,
   "id": "ff410710-8119-4a37-9d66-8661aebdfda5",
   "metadata": {},
   "outputs": [],
   "source": []
  }
 ],
 "metadata": {
  "kernelspec": {
   "display_name": "Python [conda env:base] *",
   "language": "python",
   "name": "conda-base-py"
  },
  "language_info": {
   "codemirror_mode": {
    "name": "ipython",
    "version": 3
   },
   "file_extension": ".py",
   "mimetype": "text/x-python",
   "name": "python",
   "nbconvert_exporter": "python",
   "pygments_lexer": "ipython3",
   "version": "3.12.7"
  }
 },
 "nbformat": 4,
 "nbformat_minor": 5
}
