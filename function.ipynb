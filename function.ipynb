{
 "cells": [
  {
   "cell_type": "markdown",
   "id": "92c510aa-87a9-4612-885b-fd378f1ce936",
   "metadata": {},
   "source": [
    "# What are Functions?"
   ]
  },
  {
   "cell_type": "raw",
   "id": "4cf29d01-ce37-4834-aa5a-e3c43ad8f0c3",
   "metadata": {},
   "source": [
    "Block of code for specific tasks."
   ]
  },
  {
   "cell_type": "markdown",
   "id": "695646f4-4612-414e-9247-e0b485f340fb",
   "metadata": {},
   "source": [
    "# Black Box Concept:"
   ]
  },
  {
   "cell_type": "raw",
   "id": "4a4b0fff-2aad-4e2b-a7da-9b64842ee607",
   "metadata": {},
   "source": [
    "Ignore internal code; focus on inputs/outputs.\n"
   ]
  },
  {
   "cell_type": "markdown",
   "id": "3f3ac15b-2138-494b-be15-3f52f6e30a15",
   "metadata": {},
   "source": [
    "# let's create a function"
   ]
  },
  {
   "cell_type": "code",
   "execution_count": 6,
   "id": "9e49a135-5488-4726-9ac3-8751e5dbdb39",
   "metadata": {},
   "outputs": [],
   "source": [
    "# Check if number is even/odd\n",
    "def is_even(number):\n",
    "    \"\"\"\n",
    "    This function tells if a given number is odd or even\n",
    "    Input - any valid integer\n",
    "    Output - odd/even\n",
    "    Created By - arun kumar\n",
    "    Last edited - 13 jan 2025\n",
    "    \"\"\" \n",
    "    if number % 2 == 0:\n",
    "        return \"Even\"\n",
    "    else:\n",
    "        return \"Odd\""
   ]
  },
  {
   "cell_type": "code",
   "execution_count": 32,
   "id": "3642d3f5-4182-4b2b-b889-5139edd6d7fa",
   "metadata": {},
   "outputs": [
    {
     "data": {
      "text/plain": [
       "'Even'"
      ]
     },
     "execution_count": 32,
     "metadata": {},
     "output_type": "execute_result"
    }
   ],
   "source": [
    "is_even(4)\n",
    "\n",
    "\n",
    "    "
   ]
  },
  {
   "cell_type": "code",
   "execution_count": 34,
   "id": "df25a1ce-3cd9-438c-8e02-a3320cb86c9c",
   "metadata": {},
   "outputs": [
    {
     "data": {
      "text/plain": [
       "'Odd'"
      ]
     },
     "execution_count": 34,
     "metadata": {},
     "output_type": "execute_result"
    }
   ],
   "source": [
    "is_even(33)"
   ]
  },
  {
   "cell_type": "code",
   "execution_count": 36,
   "id": "289502e3-db98-42e2-a092-71a03685fb08",
   "metadata": {},
   "outputs": [
    {
     "name": "stdout",
     "output_type": "stream",
     "text": [
      "Odd\n",
      "Even\n",
      "Odd\n",
      "Even\n",
      "Odd\n",
      "Even\n",
      "Odd\n",
      "Even\n",
      "Odd\n",
      "Even\n"
     ]
    }
   ],
   "source": [
    "for i in range(1,11):\n",
    "    print(is_even(i))"
   ]
  },
  {
   "cell_type": "code",
   "execution_count": 54,
   "id": "5afec36a-99e2-40b3-800a-e02d1cb999d3",
   "metadata": {},
   "outputs": [
    {
     "name": "stdout",
     "output_type": "stream",
     "text": [
      "\n",
      "    This function tells if a given number is odd or even\n",
      "    Input - any valid integer\n",
      "    Output - odd/even\n",
      "    Created By - arun kumar\n",
      "    Last edited - 13 jan 2025\n",
      "    \n"
     ]
    }
   ],
   "source": [
    "print(is_even.__doc__)"
   ]
  },
  {
   "cell_type": "code",
   "execution_count": 40,
   "id": "1140377e-95ab-45fc-b1f1-2a33581484f2",
   "metadata": {},
   "outputs": [
    {
     "name": "stdout",
     "output_type": "stream",
     "text": [
      "\n",
      "    This function tells if a given number is odd or even\n",
      "    Input - any valid integer\n",
      "    Output - odd/even\n",
      "    Created By - arun kumar\n",
      "    Last edited - 13 jan 2025\n",
      "    \n"
     ]
    }
   ],
   "source": [
    "print(is_even.__doc__)"
   ]
  },
  {
   "cell_type": "code",
   "execution_count": 56,
   "id": "fb4bf70f-594d-41fc-b1a7-1c502eaff4f8",
   "metadata": {},
   "outputs": [
    {
     "data": {
      "text/plain": [
       "'Prints the values to a stream, or to sys.stdout by default.\\n\\n  sep\\n    string inserted between values, default a space.\\n  end\\n    string appended after the last value, default a newline.\\n  file\\n    a file-like object (stream); defaults to the current sys.stdout.\\n  flush\\n    whether to forcibly flush the stream.'"
      ]
     },
     "execution_count": 56,
     "metadata": {},
     "output_type": "execute_result"
    }
   ],
   "source": [
    "print.__doc__"
   ]
  },
  {
   "cell_type": "markdown",
   "id": "3f5f8385-5bf1-4dea-b6bd-e0435205302a",
   "metadata": {},
   "source": [
    "# function: 2 Perspective"
   ]
  },
  {
   "cell_type": "raw",
   "id": "16966367-9d9a-418f-b06c-e13d034084d7",
   "metadata": {},
   "source": [
    "1 creater perpective \n",
    "2 use perspective\n"
   ]
  },
  {
   "cell_type": "code",
   "execution_count": 8,
   "id": "41cf13d9-386f-407c-b8a0-28fe3bac701c",
   "metadata": {},
   "outputs": [
    {
     "ename": "SyntaxError",
     "evalue": "incomplete input (1472297765.py, line 1)",
     "output_type": "error",
     "traceback": [
      "\u001b[1;36m  Cell \u001b[1;32mIn[8], line 1\u001b[1;36m\u001b[0m\n\u001b[1;33m    def flexi(*number):\u001b[0m\n\u001b[1;37m                       ^\u001b[0m\n\u001b[1;31mSyntaxError\u001b[0m\u001b[1;31m:\u001b[0m incomplete input\n"
     ]
    }
   ],
   "source": [
    "def flexi(*number):"
   ]
  },
  {
   "cell_type": "code",
   "execution_count": 2,
   "id": "8ccde1ec-5bac-4277-9ae1-59cfa643b4c3",
   "metadata": {},
   "outputs": [
    {
     "ename": "NameError",
     "evalue": "name 'flexi' is not defined",
     "output_type": "error",
     "traceback": [
      "\u001b[1;31m---------------------------------------------------------------------------\u001b[0m",
      "\u001b[1;31mNameError\u001b[0m                                 Traceback (most recent call last)",
      "Cell \u001b[1;32mIn[2], line 1\u001b[0m\n\u001b[1;32m----> 1\u001b[0m flexi(\u001b[38;5;241m1\u001b[39m,\u001b[38;5;241m2\u001b[39m,\u001b[38;5;241m3\u001b[39m,\u001b[38;5;241m4\u001b[39m)\n",
      "\u001b[1;31mNameError\u001b[0m: name 'flexi' is not defined"
     ]
    }
   ],
   "source": [
    "flexi(1,2,3,4)"
   ]
  },
  {
   "cell_type": "markdown",
   "id": "a3fbe5de-776f-4b37-b1b0-9745cdefe974",
   "metadata": {},
   "source": [
    "# Parameters Vs Arguments"
   ]
  },
  {
   "cell_type": "code",
   "execution_count": 11,
   "id": "69f10093-3104-45da-b04e-25cb7107deee",
   "metadata": {},
   "outputs": [],
   "source": [
    "# Arbitrary Argument: Accepts any number of args.\n",
    "# Useful when the number of arguments is unknown.\n",
    "def flexi(*number):\n",
    "    product = 1\n",
    "    for i in number:\n",
    "        product *= i\n",
    "    print(product)\n",
    "    "
   ]
  },
  {
   "cell_type": "code",
   "execution_count": 13,
   "id": "24ba24a1-cd1f-4ebb-8a2c-3ba2cc03ad71",
   "metadata": {},
   "outputs": [
    {
     "name": "stdout",
     "output_type": "stream",
     "text": [
      "1080\n"
     ]
    }
   ],
   "source": [
    "flexi(1,2,3,4,45)"
   ]
  },
  {
   "cell_type": "code",
   "execution_count": 15,
   "id": "029cb740-d848-42bc-b67f-a96aea8355f6",
   "metadata": {},
   "outputs": [
    {
     "name": "stdout",
     "output_type": "stream",
     "text": [
      "24\n"
     ]
    }
   ],
   "source": [
    "flexi(1,4,6)"
   ]
  },
  {
   "cell_type": "code",
   "execution_count": 33,
   "id": "b5acd190-0fad-4834-a46a-bd65e9079c55",
   "metadata": {},
   "outputs": [],
   "source": [
    "# Arbitrary Argument: Accepts any number of args.\n",
    "# Useful when the number of arguments is unknown.\n",
    "def flexi(*number):\n",
    "    product = 1\n",
    "    for i in number:\n",
    "        product += i\n",
    "    print(product)\n",
    "    "
   ]
  },
  {
   "cell_type": "code",
   "execution_count": 35,
   "id": "bed5b309-21dd-424a-afd8-6b930fe1e697",
   "metadata": {},
   "outputs": [
    {
     "name": "stdout",
     "output_type": "stream",
     "text": [
      "10\n"
     ]
    }
   ],
   "source": [
    "flexi(1,1,3,4)"
   ]
  },
  {
   "cell_type": "code",
   "execution_count": 37,
   "id": "8714b91c-2783-494f-9fa8-cc1d2bbcfc4d",
   "metadata": {},
   "outputs": [
    {
     "name": "stdout",
     "output_type": "stream",
     "text": [
      "11\n"
     ]
    }
   ],
   "source": [
    "flexi(1,2,3,4)"
   ]
  },
  {
   "cell_type": "code",
   "execution_count": 39,
   "id": "e9cab692-e97b-42f0-b315-cdc8b8c104a5",
   "metadata": {},
   "outputs": [
    {
     "name": "stdout",
     "output_type": "stream",
     "text": [
      "in g(x): x = 4\n"
     ]
    }
   ],
   "source": [
    "# Harder Scope\n",
    "def g(x):\n",
    "    def h():\n",
    "        x = \"abc\"\n",
    "    x += 1\n",
    "    print(\"in g(x): x =\", x)\n",
    "    h()\n",
    "    return x\n",
    "x = 3\n",
    "z = g(x)"
   ]
  },
  {
   "cell_type": "code",
   "execution_count": null,
   "id": "c07532a0-0951-4357-8cfc-14cb6ae0f328",
   "metadata": {},
   "outputs": [],
   "source": []
  }
 ],
 "metadata": {
  "kernelspec": {
   "display_name": "Python [conda env:base] *",
   "language": "python",
   "name": "conda-base-py"
  },
  "language_info": {
   "codemirror_mode": {
    "name": "ipython",
    "version": 3
   },
   "file_extension": ".py",
   "mimetype": "text/x-python",
   "name": "python",
   "nbconvert_exporter": "python",
   "pygments_lexer": "ipython3",
   "version": "3.12.7"
  }
 },
 "nbformat": 4,
 "nbformat_minor": 5
}
