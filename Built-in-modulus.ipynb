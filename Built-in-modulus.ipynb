{
 "cells": [
  {
   "cell_type": "markdown",
   "id": "853a3116-6989-493c-b7c7-696f4d589783",
   "metadata": {},
   "source": [
    "# what are Modules ?"
   ]
  },
  {
   "cell_type": "code",
   "execution_count": null,
   "id": "5ad37dee-c567-4023-8132-88e680afa4c1",
   "metadata": {},
   "outputs": [],
   "source": [
    "# Code libraries in Python.\n",
    "# Contain functions for use.\n",
    "# Examples:\n",
    "\n",
    "# Math: Math ops\n",
    "# Random: Random numbers\n",
    "# os: OS interaction\n",
    "# time: Time tasks\n"
   ]
  },
  {
   "cell_type": "code",
   "execution_count": 6,
   "id": "a41455ff-e382-43eb-b37b-b2d810308831",
   "metadata": {},
   "outputs": [
    {
     "name": "stdout",
     "output_type": "stream",
     "text": [
      "\n",
      "Please wait a moment while I gather a list of all available modules...\n",
      "\n",
      "3204bda914b7f2c6f497__mypyc cloudpickle         marshal             slugify\n",
      "IPython             cmath               math                smart_open\n",
      "OpenSSL             cmd                 matplotlib          smmap\n",
      "PIL                 code                matplotlib_inline   smtplib\n",
      "PyQt5               codecs              mccabe              sndhdr\n",
      "__future__          codeop              mdit_py_plugins     sniffio\n",
      "__hello__           collections         mdurl               snowballstemmer\n",
      "__phello__          colorama            menuinst            socket\n",
      "_abc                colorcet            mimetypes           socketserver\n",
      "_aix_support        colorsys            mistune             socks\n",
      "_argon2_cffi_bindings comm                mkl                 sockshandler\n",
      "_ast                commctrl            mkl_fft             sortedcontainers\n",
      "_asyncio            compileall          mkl_random          soupsieve\n",
      "_bisect             concurrent          mmap                sphinx\n",
      "_black_version      conda               mmapfile            sphinxify\n",
      "_blake2             conda_build         mmsystem            sphinxthread\n",
      "_brotli             conda_content_trust modulefinder        spyder\n",
      "_bz2                conda_env           more_itertools      spyder_kernels\n",
      "_cffi_backend       conda_index         mpmath              sqlalchemy\n",
      "_codecs             conda_libmamba_solver msgpack             sqlite3\n",
      "_codecs_cn          conda_pack          msilib              sre_compile\n",
      "_codecs_hk          conda_package_handling msvcrt              sre_constants\n",
      "_codecs_iso2022     conda_package_streaming multidict           sre_parse\n",
      "_codecs_jp          conda_token         multipledispatch    ssl\n",
      "_codecs_kr          conf                multiprocessing     sspi\n",
      "_codecs_tw          configparser        mypy                sspicon\n",
      "_collections        constantly          mypy_extensions     stack_data\n",
      "_collections_abc    contextlib          mypyc               stat\n",
      "_compat_pickle      contextvars         nacl                statistics\n",
      "_compression        contourpy           navigator_updater   statsmodels\n",
      "_contextvars        cookiecutter        nb_conda_kernels    streamlit\n",
      "_csv                copy                nbclient            string\n",
      "_ctypes             copyreg             nbconvert           stringprep\n",
      "_ctypes_test        cpuinfo             nbformat            struct\n",
      "_datetime           crypt               nest_asyncio        subprocess\n",
      "_decimal            cryptography        netbios             sunau\n",
      "_distutils_hack     cssselect           netrc               sympy\n",
      "_elementtree        csv                 networkx            symtable\n",
      "_functools          ctypes              nltk                sys\n",
      "_hashlib            curl                nntplib             sysconfig\n",
      "_heapq              curses              notebook            tables\n",
      "_imp                cwp                 notebook_shim       tabnanny\n",
      "_io                 cycler              nt                  tabulate\n",
      "_json               cytoolz             ntpath              tarfile\n",
      "_locale             dask                ntsecuritycon       tblib\n",
      "_lsprof             dask_expr           nturl2path          telnetlib\n",
      "_lzma               dataclasses         numba               tempfile\n",
      "_markupbase         datashader          numbergen           tenacity\n",
      "_md5                datetime            numbers             terminado\n",
      "_msi                dateutil            numexpr             test\n",
      "_multibytecodec     dbi                 numpy               test_pycosat\n",
      "_multiprocessing    dbm                 numpydoc            text_unidecode\n",
      "_nsis               dde                 odbc                textdistance\n",
      "_opcode             debugpy             opcode              textwrap\n",
      "_operator           decimal             openpyxl            this\n",
      "_osx_support        decorator           operator            threading\n",
      "_overlapped         defusedxml          optparse            threadpoolctl\n",
      "_pickle             diff_match_patch    os                  three_merge\n",
      "_plotly_future_     difflib             overrides           tifffile\n",
      "_plotly_utils       dill                packaging           time\n",
      "_py_abc             dis                 pandas              timeit\n",
      "_pydatetime         distributed         pandocfilters       timer\n",
      "_pydecimal          distro              panel               tinycss2\n",
      "_pyio               docstring_to_markdown param               tkinter\n",
      "_pylong             doctest             paramiko            tldextract\n",
      "_pytest             docutils            parsel              tlz\n",
      "_queue              dotenv              parso               token\n",
      "_random             email               partd               tokenize\n",
      "_ruamel_yaml        encodings           pathlib             toml\n",
      "_sha1               ensurepip           pathspec            tomli\n",
      "_sha2               enum                patsy               tomlkit\n",
      "_sha3               erfa                pdb                 tomllib\n",
      "_signal             errno               perfmon             toolz\n",
      "_sitebuiltins       et_xmlfile          pexpect             tornado\n",
      "_socket             executing           pickle              tqdm\n",
      "_sqlite3            fastjsonschema      pickleshare         trace\n",
      "_sre                faulthandler        pickletools         traceback\n",
      "_ssl                filecmp             pip                 tracemalloc\n",
      "_stat               fileinput           pipes               traitlets\n",
      "_statistics         filelock            pkce                truststore\n",
      "_string             flake8              pkg_resources       tty\n",
      "_strptime           flask               pkginfo             turtle\n",
      "_struct             fnmatch             pkgutil             turtledemo\n",
      "_symtable           fontTools           platform            twisted\n",
      "_system_path        fractions           platformdirs        typeguard\n",
      "_testbuffer         frozendict          plistlib            typer\n",
      "_testcapi           frozenlist          plotly              types\n",
      "_testclinic         fsspec              pluggy              typing\n",
      "_testconsole        ftplib              ply                 typing_extensions\n",
      "_testimportmultiple functools           poplib              tzdata\n",
      "_testinternalcapi   gc                  posixpath           uc_micro\n",
      "_testmultiphase     genericpath         pprint              ujson\n",
      "_testsinglephase    gensim              profile             unicodedata\n",
      "_thread             getopt              prometheus_client   unicodedata2\n",
      "_threading_local    getpass             prompt_toolkit      unidecode\n",
      "_tkinter            gettext             protego             unittest\n",
      "_tokenize           git                 pstats              urllib\n",
      "_tracemalloc        gitdb               psutil              urllib3\n",
      "_typing             glob                pty                 uu\n",
      "_uuid               graphlib            ptyprocess          uuid\n",
      "_warnings           greenlet            pure_eval           venv\n",
      "_weakref            gzip                py                  w3lib\n",
      "_weakrefset         h11                 py_compile          warnings\n",
      "_win32sysloader     h5py                pyarrow             watchdog\n",
      "_winapi             hashlib             pyasn1              wave\n",
      "_winxptheme         heapdict            pyasn1_modules      wcwidth\n",
      "_wmi                heapq               pyclbr              weakref\n",
      "_xxinterpchannels   hmac                pycodestyle         webbrowser\n",
      "_xxsubinterpreters  holoviews           pycosat             webencodings\n",
      "_yaml               html                pycparser           websocket\n",
      "_zoneinfo           http                pyct                werkzeug\n",
      "abc                 httpcore            pycurl              whatthepatch\n",
      "adodbapi            httpx               pydantic            wheel\n",
      "aext_assistant      hvplot              pydantic_core       widgetsnbextension\n",
      "aext_assistant_server hyperlink           pydantic_settings   win2kras\n",
      "aext_core           idlelib             pydeck              win32api\n",
      "aext_core_server    idna                pydispatch          win32clipboard\n",
      "aext_panels         imagecodecs         pydoc               win32com\n",
      "aext_panels_server  imageio             pydoc_data          win32con\n",
      "aext_project_filebrowser_server imagesize           pydocstyle          win32console\n",
      "aext_share_notebook imaplib             pyexpat             win32cred\n",
      "aext_share_notebook_server imblearn            pyflakes            win32crypt\n",
      "aext_shared         imghdr              pygments            win32cryptcon\n",
      "aext_toolbox        importlib           pylab               win32ctypes\n",
      "afxres              importlib_metadata  pylint              win32event\n",
      "aifc                importlib_resources pylint_venv         win32evtlog\n",
      "aiobotocore         incremental         pyls_spyder         win32evtlogutil\n",
      "aiohappyeyeballs    inflect             pylsp               win32file\n",
      "aiohttp             inflection          pylsp_black         win32gui\n",
      "aioitertools        iniconfig           pylsp_jsonrpc       win32gui_struct\n",
      "aiosignal           inspect             pyodbc              win32help\n",
      "alabaster           intake              pyparsing           win32inet\n",
      "alembic             intervaltree        pytest              win32inetcon\n",
      "altair              io                  pythoncom           win32job\n",
      "anaconda_anon_usage ipaddress           pythonjsonlogger    win32lz\n",
      "anaconda_catalogs   ipykernel           pytoolconfig        win32net\n",
      "anaconda_cli_base   ipykernel_launcher  pytz                win32netcon\n",
      "anaconda_cloud_auth ipython_genutils    pyviz_comms         win32pdh\n",
      "anaconda_navigator  ipywidgets          pywin               win32pdhquery\n",
      "anaconda_project    isapi               pywin32_bootstrap   win32pdhutil\n",
      "annotated_types     isort               pywin32_testutil    win32pipe\n",
      "antigravity         isympy              pywintypes          win32print\n",
      "anyio               itemadapter         pywt                win32process\n",
      "appdirs             itemloaders         qdarkstyle          win32profile\n",
      "archspec            itertools           qstylizer           win32ras\n",
      "argon2              itsdangerous        qtawesome           win32rcparser\n",
      "argparse            jedi                qtconsole           win32security\n",
      "array               jellyfish           qtpy                win32service\n",
      "arrow               jinja2              queue               win32serviceutil\n",
      "ast                 jmespath            queuelib            win32timezone\n",
      "astroid             joblib              quopri              win32trace\n",
      "astropy             json                random              win32traceutil\n",
      "astropy_iers_data   json5               rasutil             win32transaction\n",
      "asttokens           jsonpatch           re                  win32ts\n",
      "async_lru           jsonpointer         readchar            win32ui\n",
      "asyncio             jsonschema          referencing         win32uiole\n",
      "atexit              jsonschema_specifications regcheck            win32verstamp\n",
      "atomicwrites        jupyter             regex               win32wnet\n",
      "attr                jupyter_client      regutil             win_inet_pton\n",
      "attrs               jupyter_console     repo_cli            winerror\n",
      "audioop             jupyter_core        reprlib             winioctlcon\n",
      "autocommand         jupyter_events      requests            winnt\n",
      "automat             jupyter_lsp         requests_file       winperf\n",
      "autopep8            jupyter_server      requests_toolbelt   winpty\n",
      "babel               jupyter_server_terminals rfc3339_validator   winreg\n",
      "backports           jupyterlab          rfc3986_validator   winsound\n",
      "base64              jupyterlab_plotly   rich                winxpgui\n",
      "bcrypt              jupyterlab_pygments rlcompleter         winxptheme\n",
      "bdb                 jupyterlab_server   rope                wrapt\n",
      "binaryornot         jupyterlab_widgets  rpds                wsgiref\n",
      "binascii            jwt                 rtree               xarray\n",
      "binstar_client      keyring             ruamel_yaml         xdrlib\n",
      "bisect              keyword             runpy               xlwings\n",
      "black               kiwisolver          s3fs                xlwingsjs\n",
      "blackd              lazy_loader         sched               xml\n",
      "bleach              lazy_object_proxy   scipy               xmlrpc\n",
      "blib2to3            lckr_jupyterlab_variableinspector scrapy              xxlimited\n",
      "blinker             lib2to3             seaborn             xxlimited_35\n",
      "bokeh               libarchive          secrets             xxsubtype\n",
      "boltons             libmambapy          select              xyzservices\n",
      "botocore            lief                selectors           yaml\n",
      "bottleneck          linecache           semver              yapf\n",
      "brotli              linkify_it          send2trash          yapf_third_party\n",
      "bs4                 llvmlite            sentry_sdk          yapftests\n",
      "builtins            lmdb                service_identity    yarl\n",
      "bz2                 locale              servicemanager      zict\n",
      "cProfile            locket              setuptools          zipapp\n",
      "cachetools          logging             shellingham         zipfile\n",
      "calendar            lxml                shelve              zipimport\n",
      "certifi             lz4                 shlex               zipp\n",
      "cffi                lzma                shutil              zlib\n",
      "cgi                 mailbox             signal              zmq\n",
      "cgitb               mailcap             sipbuild            zoneinfo\n",
      "chardet             mako                site                zope\n",
      "charset_normalizer  markdown            six                 zstandard\n",
      "chunk               markdown_it         skimage             \n",
      "click               markupsafe          sklearn             \n",
      "\n",
      "Enter any module name to get more help.  Or, type \"modules spam\" to search\n",
      "for modules whose name or summary contain the string \"spam\".\n",
      "\n"
     ]
    }
   ],
   "source": [
    "help(\"modules\")"
   ]
  },
  {
   "cell_type": "code",
   "execution_count": null,
   "id": "bd6593c2-60ec-4796-9184-5e09266bd661",
   "metadata": {},
   "outputs": [],
   "source": []
  },
  {
   "cell_type": "markdown",
   "id": "14cbd027-692c-44c6-bf89-6f9ea2d321c6",
   "metadata": {},
   "source": [
    "# math Modules"
   ]
  },
  {
   "cell_type": "code",
   "execution_count": 11,
   "id": "d080bd9f-d35b-4010-8436-9a3e63bd3c13",
   "metadata": {},
   "outputs": [],
   "source": [
    "# include<studio.h>\n",
    "import math"
   ]
  },
  {
   "cell_type": "code",
   "execution_count": 13,
   "id": "603b7524-17ea-4662-b8b6-2fae3a6aaea5",
   "metadata": {},
   "outputs": [
    {
     "data": {
      "text/plain": [
       "3.141592653589793"
      ]
     },
     "execution_count": 13,
     "metadata": {},
     "output_type": "execute_result"
    }
   ],
   "source": [
    "math.pi"
   ]
  },
  {
   "cell_type": "code",
   "execution_count": 15,
   "id": "9d72fb6e-4fe3-4925-9f5c-05c871e0ec22",
   "metadata": {},
   "outputs": [
    {
     "data": {
      "text/plain": [
       "2.718281828459045"
      ]
     },
     "execution_count": 15,
     "metadata": {},
     "output_type": "execute_result"
    }
   ],
   "source": [
    "math.e"
   ]
  },
  {
   "cell_type": "code",
   "execution_count": 17,
   "id": "ba45cd5b-c9a8-4bd0-8037-400315c0bb63",
   "metadata": {},
   "outputs": [
    {
     "data": {
      "text/plain": [
       "120"
      ]
     },
     "execution_count": 17,
     "metadata": {},
     "output_type": "execute_result"
    }
   ],
   "source": [
    "math.factorial(5)"
   ]
  },
  {
   "cell_type": "code",
   "execution_count": 19,
   "id": "c11cd586-a763-4c0a-ba1e-99fa6edd202f",
   "metadata": {},
   "outputs": [
    {
     "data": {
      "text/plain": [
       "7"
      ]
     },
     "execution_count": 19,
     "metadata": {},
     "output_type": "execute_result"
    }
   ],
   "source": [
    "math.ceil(6.6)"
   ]
  },
  {
   "cell_type": "code",
   "execution_count": 21,
   "id": "ed0ce31b-ff47-4d27-abc5-fa67e9083a1c",
   "metadata": {},
   "outputs": [
    {
     "data": {
      "text/plain": [
       "4"
      ]
     },
     "execution_count": 21,
     "metadata": {},
     "output_type": "execute_result"
    }
   ],
   "source": [
    "math.ceil(3.5)"
   ]
  },
  {
   "cell_type": "code",
   "execution_count": 23,
   "id": "2c60b5ae-34c2-40c9-9cd1-8c678851a798",
   "metadata": {},
   "outputs": [
    {
     "data": {
      "text/plain": [
       "54"
      ]
     },
     "execution_count": 23,
     "metadata": {},
     "output_type": "execute_result"
    }
   ],
   "source": [
    "math.floor(54.5)"
   ]
  },
  {
   "cell_type": "markdown",
   "id": "cfd9fe8a-ac22-4cc3-b4bd-4c510d0fcec3",
   "metadata": {},
   "source": [
    "# Random modules"
   ]
  },
  {
   "cell_type": "code",
   "execution_count": 31,
   "id": "7de540fe-2aa5-4edb-b794-bf2ca81c94ab",
   "metadata": {},
   "outputs": [],
   "source": [
    "import random"
   ]
  },
  {
   "cell_type": "code",
   "execution_count": 58,
   "id": "a14013a9-15de-486e-8481-c4f9a5f887d4",
   "metadata": {},
   "outputs": [
    {
     "data": {
      "text/plain": [
       "12"
      ]
     },
     "execution_count": 58,
     "metadata": {},
     "output_type": "execute_result"
    }
   ],
   "source": [
    "random.randint(1,50)"
   ]
  },
  {
   "cell_type": "code",
   "execution_count": 85,
   "id": "663f04cc-3e09-455b-9f86-4d69ca299f39",
   "metadata": {},
   "outputs": [
    {
     "data": {
      "text/plain": [
       "[3, 1, 2, 5]"
      ]
     },
     "execution_count": 85,
     "metadata": {},
     "output_type": "execute_result"
    }
   ],
   "source": [
    "a=[1,2,3,5]\n",
    "random.shuffle(a)\n",
    "a"
   ]
  },
  {
   "cell_type": "markdown",
   "id": "80343dd2-4272-4aba-8e64-fc8b52b263ec",
   "metadata": {},
   "source": [
    "# time Modules"
   ]
  },
  {
   "cell_type": "code",
   "execution_count": 93,
   "id": "3e29e051-c5b7-4b93-b120-2e1c19b2fb9c",
   "metadata": {},
   "outputs": [],
   "source": [
    "import time"
   ]
  },
  {
   "cell_type": "code",
   "execution_count": 95,
   "id": "ac619db4-a4f4-41c4-a14f-31a57ed27d60",
   "metadata": {},
   "outputs": [
    {
     "data": {
      "text/plain": [
       "1740213300.2703457"
      ]
     },
     "execution_count": 95,
     "metadata": {},
     "output_type": "execute_result"
    }
   ],
   "source": [
    "time.time()"
   ]
  },
  {
   "cell_type": "code",
   "execution_count": 99,
   "id": "5427772a-d7fa-4474-a824-fa16b5f76f2b",
   "metadata": {},
   "outputs": [
    {
     "data": {
      "text/plain": [
       "'Sat Feb 22 00:35:23 2025'"
      ]
     },
     "execution_count": 99,
     "metadata": {},
     "output_type": "execute_result"
    }
   ],
   "source": [
    "time.ctime()"
   ]
  },
  {
   "cell_type": "code",
   "execution_count": 101,
   "id": "a397e087-76c4-4a67-9d08-023686665056",
   "metadata": {},
   "outputs": [
    {
     "name": "stdout",
     "output_type": "stream",
     "text": [
      "hello\n",
      "world\n"
     ]
    }
   ],
   "source": [
    "print(\"hello\")\n",
    "time.sleep(20)\n",
    "print(\"world\")"
   ]
  },
  {
   "cell_type": "markdown",
   "id": "34cd6c3f-3b85-4135-8be5-78af28240218",
   "metadata": {},
   "source": [
    "# datetime module"
   ]
  },
  {
   "cell_type": "code",
   "execution_count": 111,
   "id": "6283e9d0-f5be-48cf-bd27-9fddacdc7453",
   "metadata": {},
   "outputs": [],
   "source": [
    "import datetime"
   ]
  },
  {
   "cell_type": "code",
   "execution_count": 117,
   "id": "75e8790b-a5ff-42f8-9d3b-ff50b556f9f6",
   "metadata": {},
   "outputs": [
    {
     "name": "stdout",
     "output_type": "stream",
     "text": [
      "2025-02-22 00:39:46.001302\n"
     ]
    }
   ],
   "source": [
    "print(datetime.datetime.now())"
   ]
  },
  {
   "cell_type": "markdown",
   "id": "dd2ae13e-2dd3-42cd-9ca1-e76df2262ad0",
   "metadata": {},
   "source": [
    "# OS modules"
   ]
  },
  {
   "cell_type": "code",
   "execution_count": 120,
   "id": "d8423390-d507-4d02-9c39-4d0f35d3ba12",
   "metadata": {},
   "outputs": [],
   "source": [
    "import os"
   ]
  },
  {
   "cell_type": "code",
   "execution_count": 122,
   "id": "9829ef26-cecc-4593-92e9-42d6b7e2932b",
   "metadata": {},
   "outputs": [
    {
     "data": {
      "text/plain": [
       "'C:\\\\Users\\\\LENOVO\\\\Desktop\\\\rohit _python'"
      ]
     },
     "execution_count": 122,
     "metadata": {},
     "output_type": "execute_result"
    }
   ],
   "source": [
    "os.getcwd()"
   ]
  },
  {
   "cell_type": "code",
   "execution_count": 126,
   "id": "81413bb6-9b41-4de9-a226-af510b6cff3d",
   "metadata": {},
   "outputs": [
    {
     "data": {
      "text/plain": [
       "['.ipynb_checkpoints',\n",
       " 'anaconda_projects',\n",
       " 'break continue pass.ipynb',\n",
       " 'built in function.ipynb',\n",
       " 'Built-in-modulus.ipynb',\n",
       " 'data type.ipynb',\n",
       " 'decision control.ipynb',\n",
       " 'for loop.ipynb',\n",
       " 'input user.ipynb',\n",
       " 'keyword.ipynb',\n",
       " 'literal.ipynb',\n",
       " 'operators.ipynb',\n",
       " 'print function.ipynb',\n",
       " 'set.ipynb',\n",
       " 'variable.ipynb',\n",
       " 'while-loop.ipynb']"
      ]
     },
     "execution_count": 126,
     "metadata": {},
     "output_type": "execute_result"
    }
   ],
   "source": [
    "os.listdir()"
   ]
  },
  {
   "cell_type": "code",
   "execution_count": null,
   "id": "00392277-8cc9-4b19-8f30-7e4f0f73c98b",
   "metadata": {},
   "outputs": [],
   "source": []
  }
 ],
 "metadata": {
  "kernelspec": {
   "display_name": "Python [conda env:base] *",
   "language": "python",
   "name": "conda-base-py"
  },
  "language_info": {
   "codemirror_mode": {
    "name": "ipython",
    "version": 3
   },
   "file_extension": ".py",
   "mimetype": "text/x-python",
   "name": "python",
   "nbconvert_exporter": "python",
   "pygments_lexer": "ipython3",
   "version": "3.12.7"
  }
 },
 "nbformat": 4,
 "nbformat_minor": 5
}
