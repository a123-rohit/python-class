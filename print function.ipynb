{
 "cells": [
  {
   "cell_type": "markdown",
   "id": "a82da0aa-3850-4667-abef-84d124ceca87",
   "metadata": {},
   "source": [
    "print function"
   ]
  },
  {
   "cell_type": "code",
   "execution_count": 2,
   "id": "defef539-4afb-4935-8168-538a10ca9e81",
   "metadata": {},
   "outputs": [
    {
     "name": "stdout",
     "output_type": "stream",
     "text": [
      "hello\n"
     ]
    }
   ],
   "source": [
    "print('hello')"
   ]
  },
  {
   "cell_type": "code",
   "execution_count": 1,
   "id": "e1e740d4-6187-44ec-8c7b-643cc783dc5c",
   "metadata": {},
   "outputs": [
    {
     "name": "stdout",
     "output_type": "stream",
     "text": [
      " rahul is person \n"
     ]
    }
   ],
   "source": [
    "print(\" rahul is person \")"
   ]
  },
  {
   "cell_type": "code",
   "execution_count": 3,
   "id": "5d753685-8697-47f5-b6b8-3b027f3394ba",
   "metadata": {},
   "outputs": [
    {
     "name": "stdout",
     "output_type": "stream",
     "text": [
      "10\n"
     ]
    }
   ],
   "source": [
    "print(10)"
   ]
  },
  {
   "cell_type": "code",
   "execution_count": 9,
   "id": "a497c8a3-c4c9-4435-9752-d26e72b99dae",
   "metadata": {},
   "outputs": [
    {
     "name": "stdout",
     "output_type": "stream",
     "text": [
      "14\n"
     ]
    }
   ],
   "source": [
    "print(10+4)"
   ]
  },
  {
   "cell_type": "code",
   "execution_count": 11,
   "id": "d2575467-2b51-4324-91cc-215b2d213590",
   "metadata": {},
   "outputs": [
    {
     "name": "stdout",
     "output_type": "stream",
     "text": [
      "python class\n"
     ]
    }
   ],
   "source": [
    "print(\"python class\")"
   ]
  },
  {
   "cell_type": "code",
   "execution_count": 23,
   "id": "d7c07f1e-7164-4b37-9640-30931e7fe44e",
   "metadata": {},
   "outputs": [
    {
     "name": "stdout",
     "output_type": "stream",
     "text": [
      "9886\n"
     ]
    }
   ],
   "source": [
    "print(7664+2222)"
   ]
  },
  {
   "cell_type": "code",
   "execution_count": 15,
   "id": "3e71c6e5-31b8-444a-8439-62d43b16c393",
   "metadata": {},
   "outputs": [
    {
     "name": "stdout",
     "output_type": "stream",
     "text": [
      "kdejfr\n"
     ]
    }
   ],
   "source": [
    "print(\"kdejfr\")"
   ]
  },
  {
   "cell_type": "code",
   "execution_count": 19,
   "id": "21c511ef-480f-40a8-ba43-c394a483b8d5",
   "metadata": {},
   "outputs": [
    {
     "name": "stdout",
     "output_type": "stream",
     "text": [
      "my name is rohit\n"
     ]
    }
   ],
   "source": [
    "print(\"my name is rohit\")"
   ]
  },
  {
   "cell_type": "code",
   "execution_count": 21,
   "id": "98c8fecc-1387-42a2-8d72-9ddaeb269355",
   "metadata": {},
   "outputs": [
    {
     "name": "stdout",
     "output_type": "stream",
     "text": [
      "58322\n"
     ]
    }
   ],
   "source": [
    "print(1348+56974)"
   ]
  },
  {
   "cell_type": "code",
   "execution_count": 25,
   "id": "870c3068-f9d6-48ef-a76a-192738f6b673",
   "metadata": {},
   "outputs": [
    {
     "name": "stdout",
     "output_type": "stream",
     "text": [
      "choudhary shab\n"
     ]
    }
   ],
   "source": [
    "print(\"choudhary shab\")"
   ]
  },
  {
   "cell_type": "code",
   "execution_count": 27,
   "id": "1eeacce9-6ae9-489c-956d-87cd5f586190",
   "metadata": {},
   "outputs": [
    {
     "name": "stdout",
     "output_type": "stream",
     "text": [
      "hello world\n"
     ]
    }
   ],
   "source": [
    "print (\"hello world\")"
   ]
  },
  {
   "cell_type": "code",
   "execution_count": 29,
   "id": "5d4a11fb-7290-44f5-9afc-742c563a6b2d",
   "metadata": {},
   "outputs": [
    {
     "name": "stdout",
     "output_type": "stream",
     "text": [
      "the unique foundation\n"
     ]
    }
   ],
   "source": [
    "print(\"the unique foundation\")"
   ]
  },
  {
   "cell_type": "code",
   "execution_count": 31,
   "id": "eed3b562-3eab-410c-90a8-6cead8c1e691",
   "metadata": {},
   "outputs": [
    {
     "name": "stdout",
     "output_type": "stream",
     "text": [
      "i am learning python language\n"
     ]
    }
   ],
   "source": [
    "print(\"i am learning python language\")"
   ]
  },
  {
   "cell_type": "code",
   "execution_count": null,
   "id": "8ab7ca01-069a-42e0-a6c3-32accee57ec9",
   "metadata": {},
   "outputs": [],
   "source": []
  }
 ],
 "metadata": {
  "kernelspec": {
   "display_name": "Python [conda env:base] *",
   "language": "python",
   "name": "conda-base-py"
  },
  "language_info": {
   "codemirror_mode": {
    "name": "ipython",
    "version": 3
   },
   "file_extension": ".py",
   "mimetype": "text/x-python",
   "name": "python",
   "nbconvert_exporter": "python",
   "pygments_lexer": "ipython3",
   "version": "3.12.7"
  }
 },
 "nbformat": 4,
 "nbformat_minor": 5
}
