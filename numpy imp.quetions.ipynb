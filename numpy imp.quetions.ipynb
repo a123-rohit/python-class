{
 "cells": [
  {
   "cell_type": "markdown",
   "id": "e210b16e-105e-413d-a913-00cf47b30631",
   "metadata": {},
   "source": [
    "# 1.what is numpy?"
   ]
  },
  {
   "cell_type": "raw",
   "id": "78177afe-9134-4ca3-8d3a-70f0f6314864",
   "metadata": {},
   "source": [
    "NumPy is the fundamental package for scientific computing in Python. It is a Python library that provides a multidimensional array object, various derived objects (such as masked arrays and matrices), and an assortment of routines for fast operations on arrays, including mathematical, logical, shape manipulation, sorting, selecting, I/O, discrete Fourier transforms, basic linear algebra, basic statistical operations, random simulation and much more.\n",
    "\n",
    "At the core of the NumPy package, is the ndarray object. This encapsulates n-dimensional arrays of homogeneous data types"
   ]
  },
  {
   "cell_type": "code",
   "execution_count": 27,
   "id": "91cbac13-187b-410b-969b-5eb765c4cfc0",
   "metadata": {},
   "outputs": [],
   "source": [
    "#2.how to import numpy?\n",
    "import numpy as np"
   ]
  },
  {
   "cell_type": "code",
   "execution_count": 29,
   "id": "8249b6c5-292e-4933-b044-70f0ebb32b7a",
   "metadata": {},
   "outputs": [
    {
     "data": {
      "text/plain": [
       "array([1, 2, 3, 4])"
      ]
     },
     "execution_count": 29,
     "metadata": {},
     "output_type": "execute_result"
    }
   ],
   "source": [
    "# 3.create a 1-D numpy array?\n",
    "a=np.array([1,2,3,4])\n",
    "a"
   ]
  },
  {
   "cell_type": "code",
   "execution_count": 31,
   "id": "3cc99114-4457-41e7-87f9-2e6403bcc8e9",
   "metadata": {},
   "outputs": [
    {
     "data": {
      "text/plain": [
       "array([[1, 2, 3, 4],\n",
       "       [5, 6, 7, 8]])"
      ]
     },
     "execution_count": 31,
     "metadata": {},
     "output_type": "execute_result"
    }
   ],
   "source": [
    "#4. create a 2- D numpy array?\n",
    "b=np.array([[1,2,3,4],[5,6,7,8]])\n",
    "b\n",
    "\n",
    "\n"
   ]
  },
  {
   "cell_type": "code",
   "execution_count": 33,
   "id": "bbdd3cce-7d2a-4db1-bcda-fc1f4011d97e",
   "metadata": {},
   "outputs": [
    {
     "data": {
      "text/plain": [
       "array([[[ 5,  6,  7,  8],\n",
       "        [ 1,  2,  3,  4]],\n",
       "\n",
       "       [[ 9, 10, 11, 12],\n",
       "        [13, 14, 15, 16]]])"
      ]
     },
     "execution_count": 33,
     "metadata": {},
     "output_type": "execute_result"
    }
   ],
   "source": [
    "#5. create a 2-D numpy array?\n",
    "c=np.array([[[5,6,7,8],[1,2,3,4]],[[9,10,11,12],[13,14,15,16]]])\n",
    "c"
   ]
  },
  {
   "cell_type": "code",
   "execution_count": 35,
   "id": "fe4a678d-e3a3-4bb1-8d66-463ca6c9385c",
   "metadata": {},
   "outputs": [
    {
     "name": "stdout",
     "output_type": "stream",
     "text": [
      "(4,)\n"
     ]
    }
   ],
   "source": [
    "#6. what is the shape of an array?\n",
    "print(a.shape)"
   ]
  },
  {
   "cell_type": "code",
   "execution_count": 37,
   "id": "d8d576ee-9239-4004-ab6f-530697e7787a",
   "metadata": {},
   "outputs": [
    {
     "name": "stdout",
     "output_type": "stream",
     "text": [
      "(2, 4)\n"
     ]
    }
   ],
   "source": [
    "print(b.shape)"
   ]
  },
  {
   "cell_type": "code",
   "execution_count": 39,
   "id": "878e9e0b-a803-4312-8a8d-0cb73737b597",
   "metadata": {},
   "outputs": [
    {
     "name": "stdout",
     "output_type": "stream",
     "text": [
      "(2, 2, 4)\n"
     ]
    }
   ],
   "source": [
    "print(c.shape)"
   ]
  },
  {
   "cell_type": "code",
   "execution_count": 41,
   "id": "27a8bd42-8b48-48be-a9d2-66e2a1efbdd6",
   "metadata": {},
   "outputs": [
    {
     "data": {
      "text/plain": [
       "array([[0., 0., 0., 0.],\n",
       "       [0., 0., 0., 0.],\n",
       "       [0., 0., 0., 0.]])"
      ]
     },
     "execution_count": 41,
     "metadata": {},
     "output_type": "execute_result"
    }
   ],
   "source": [
    "# 7.how to create all zeros?\n",
    "np.zeros((3,4))"
   ]
  },
  {
   "cell_type": "code",
   "execution_count": 43,
   "id": "368d63be-bb09-4ec9-8aa2-1dbda8fe8fcb",
   "metadata": {},
   "outputs": [
    {
     "data": {
      "text/plain": [
       "array([[1., 1., 1., 1.],\n",
       "       [1., 1., 1., 1.],\n",
       "       [1., 1., 1., 1.]])"
      ]
     },
     "execution_count": 43,
     "metadata": {},
     "output_type": "execute_result"
    }
   ],
   "source": [
    "# 8.how to create all ones?\n",
    "np.ones((3,4))"
   ]
  },
  {
   "cell_type": "code",
   "execution_count": 45,
   "id": "aff18d67-255a-48a4-8ae0-b23e8360d32a",
   "metadata": {},
   "outputs": [
    {
     "name": "stdout",
     "output_type": "stream",
     "text": [
      "Array:\n",
      "[[1 2 3]\n",
      " [4 5 6]]\n",
      "Shape: (2, 3)\n",
      "Dimensions: 2\n",
      "Data type: int32\n",
      "Total elements: 6\n",
      "Object type: <class 'numpy.ndarray'>\n"
     ]
    }
   ],
   "source": [
    "#9. how to check numpy data array?\n",
    "import numpy as np\n",
    "\n",
    "arr = np.array([[1, 2, 3], [4, 5, 6]])\n",
    "\n",
    "print(\"Array:\")\n",
    "print(arr)\n",
    "\n",
    "print(\"Shape:\", arr.shape)\n",
    "print(\"Dimensions:\", arr.ndim)\n",
    "print(\"Data type:\", arr.dtype)\n",
    "print(\"Total elements:\", arr.size)\n",
    "print(\"Object type:\", type(arr))\n"
   ]
  },
  {
   "cell_type": "code",
   "execution_count": 47,
   "id": "383cdde7-f77c-4c6a-ba78-0961bd6b8a4d",
   "metadata": {},
   "outputs": [
    {
     "name": "stdout",
     "output_type": "stream",
     "text": [
      "[0 2 4 6 8]\n",
      "[0.   0.25 0.5  0.75 1.  ]\n",
      "[[5 8 3]\n",
      " [7 4 7]\n",
      " [8 8 8]]\n"
     ]
    }
   ],
   "source": [
    "#10. how to create a range of numbers ?create random numbers ?\n",
    "import numpy as np\n",
    "#1\n",
    "arr = np.arange(0, 10, 2)  # Start at 0, stop before 10, step by 2\n",
    "print(arr)\n",
    "#2\n",
    "arr = np.linspace(0, 1, 5)  # 5 numbers between 0 and 1\n",
    "print(arr)\n",
    "#3\n",
    "rand_int = np.random.randint(1, 10, size=(3, 3))  # 3x3 array of ints from 1 to 9\n",
    "print(rand_int)\n"
   ]
  },
  {
   "cell_type": "code",
   "execution_count": null,
   "id": "5127ee77-b557-443e-bd35-89ac164b5983",
   "metadata": {},
   "outputs": [],
   "source": [
    "# how to install numpy?\n"
   ]
  },
  {
   "cell_type": "code",
   "execution_count": null,
   "id": "d3cc7c5e-cf83-4076-97fc-b8661373c639",
   "metadata": {},
   "outputs": [],
   "source": []
  }
 ],
 "metadata": {
  "kernelspec": {
   "display_name": "Python [conda env:base] *",
   "language": "python",
   "name": "conda-base-py"
  },
  "language_info": {
   "codemirror_mode": {
    "name": "ipython",
    "version": 3
   },
   "file_extension": ".py",
   "mimetype": "text/x-python",
   "name": "python",
   "nbconvert_exporter": "python",
   "pygments_lexer": "ipython3",
   "version": "3.12.7"
  }
 },
 "nbformat": 4,
 "nbformat_minor": 5
}
