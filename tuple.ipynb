{
 "cells": [
  {
   "cell_type": "markdown",
   "id": "4196f333-ccc8-490c-b0ce-dc68aebb4dea",
   "metadata": {},
   "source": [
    "#  tuple"
   ]
  },
  {
   "cell_type": "code",
   "execution_count": null,
   "id": "1b3448b2-0472-4104-b633-c8bdc486de47",
   "metadata": {},
   "outputs": [],
   "source": [
    "#immutable list-like collection\n"
   ]
  },
  {
   "cell_type": "markdown",
   "id": "fd9b5fbf-8768-48e8-b42d-2f5404e60255",
   "metadata": {},
   "source": [
    "#  characterstics"
   ]
  },
  {
   "cell_type": "code",
   "execution_count": null,
   "id": "1631e444-c325-444e-a1c7-1a2ec9df7efd",
   "metadata": {},
   "outputs": [],
   "source": [
    "#ordered element,\n",
    "#unmodifiable post creation\n",
    "# allow duplicates\n",
    "\n"
   ]
  },
  {
   "cell_type": "code",
   "execution_count": 11,
   "id": "f1b31f68-a88b-4134-b399-9449240b657c",
   "metadata": {},
   "outputs": [],
   "source": [
    "# 1.Create\n",
    "# 2.Access\n",
    "# 3.Edit\n",
    "# 4.Add\n",
    "# 5.Delete\n",
    "# 6.Operations\n",
    "# 7.Functions"
   ]
  },
  {
   "cell_type": "markdown",
   "id": "3e1f1c1a-b789-4438-85d9-ca2358cd2f7b",
   "metadata": {},
   "source": [
    "#  1. create"
   ]
  },
  {
   "cell_type": "code",
   "execution_count": 27,
   "id": "5ba9b3e8-afa2-493b-839a-e7366f780ea8",
   "metadata": {},
   "outputs": [
    {
     "data": {
      "text/plain": [
       "()"
      ]
     },
     "execution_count": 27,
     "metadata": {},
     "output_type": "execute_result"
    }
   ],
   "source": [
    "# empty\n",
    "T1=()\n",
    "T1"
   ]
  },
  {
   "cell_type": "code",
   "execution_count": 29,
   "id": "bfc1ed3d-e8c5-4f4d-9d06-4fff1fa166ac",
   "metadata": {},
   "outputs": [
    {
     "data": {
      "text/plain": [
       "(1, 3, 4, 56, 7)"
      ]
     },
     "execution_count": 29,
     "metadata": {},
     "output_type": "execute_result"
    }
   ],
   "source": [
    "# homo\n",
    "T2=(1,3,4,56,7)\n",
    "T2"
   ]
  },
  {
   "cell_type": "code",
   "execution_count": 31,
   "id": "35416dba-e5ad-4c17-aee1-220dfa403c75",
   "metadata": {},
   "outputs": [
    {
     "data": {
      "text/plain": [
       "('hello', 1, 2, 3, 4, True)"
      ]
     },
     "execution_count": 31,
     "metadata": {},
     "output_type": "execute_result"
    }
   ],
   "source": [
    "#hetro\n",
    "T3=(\"hello\",1,2,3,4,True)\n",
    "T3"
   ]
  },
  {
   "cell_type": "code",
   "execution_count": 33,
   "id": "b08a4822-0e9c-4880-8170-ac4b38714bb5",
   "metadata": {},
   "outputs": [
    {
     "data": {
      "text/plain": [
       "tuple"
      ]
     },
     "execution_count": 33,
     "metadata": {},
     "output_type": "execute_result"
    }
   ],
   "source": [
    "type(T3)"
   ]
  },
  {
   "cell_type": "code",
   "execution_count": 41,
   "id": "29c0b8fa-3947-4225-87c0-07f8ef3d5eb6",
   "metadata": {},
   "outputs": [
    {
     "data": {
      "text/plain": [
       "(4, 4, 5)"
      ]
     },
     "execution_count": 41,
     "metadata": {},
     "output_type": "execute_result"
    }
   ],
   "source": [
    "T4=(4,4,5)\n",
    "T4"
   ]
  },
  {
   "cell_type": "code",
   "execution_count": 43,
   "id": "b3895cbd-0ef4-4a6b-8c77-5e3e30497c45",
   "metadata": {},
   "outputs": [
    {
     "data": {
      "text/plain": [
       "tuple"
      ]
     },
     "execution_count": 43,
     "metadata": {},
     "output_type": "execute_result"
    }
   ],
   "source": [
    "type(T4)"
   ]
  },
  {
   "cell_type": "code",
   "execution_count": 58,
   "id": "78f2252e-e753-42e2-b155-7c064bcef014",
   "metadata": {},
   "outputs": [
    {
     "data": {
      "text/plain": [
       "'hello'"
      ]
     },
     "execution_count": 58,
     "metadata": {},
     "output_type": "execute_result"
    }
   ],
   "source": [
    "# type conversation\n",
    "T5=(\"hello\")\n",
    "T5"
   ]
  },
  {
   "cell_type": "code",
   "execution_count": 54,
   "id": "cff74e66-659f-4ff4-80e6-87e5cf534b86",
   "metadata": {},
   "outputs": [
    {
     "data": {
      "text/plain": [
       "str"
      ]
     },
     "execution_count": 54,
     "metadata": {},
     "output_type": "execute_result"
    }
   ],
   "source": [
    "type(T5)"
   ]
  },
  {
   "cell_type": "code",
   "execution_count": 60,
   "id": "85476217-9e5c-435b-bee3-b95a135edc28",
   "metadata": {},
   "outputs": [],
   "source": [
    "# single-item tuple creation\n",
    "T6=(\"hello\",)"
   ]
  },
  {
   "cell_type": "code",
   "execution_count": 62,
   "id": "5fbb0837-17a4-49cd-9cc7-40b3fce3e20d",
   "metadata": {},
   "outputs": [
    {
     "data": {
      "text/plain": [
       "tuple"
      ]
     },
     "execution_count": 62,
     "metadata": {},
     "output_type": "execute_result"
    }
   ],
   "source": [
    "type(T6)"
   ]
  },
  {
   "cell_type": "code",
   "execution_count": 66,
   "id": "765e90fa-3709-4c37-93b5-efd339fbbaf5",
   "metadata": {},
   "outputs": [
    {
     "data": {
      "text/plain": [
       "('c', 'h', 'o', 'u', 'd', 'h', 'a', 'r', 'y', ' ', 's', 'h', 'a', 'a', 'b')"
      ]
     },
     "execution_count": 66,
     "metadata": {},
     "output_type": "execute_result"
    }
   ],
   "source": [
    "T7=tuple(\"choudhary shaab\")\n",
    "T7"
   ]
  },
  {
   "cell_type": "code",
   "execution_count": 68,
   "id": "e527ed17-a3cf-4490-a8aa-2957e7b2f5cd",
   "metadata": {},
   "outputs": [
    {
     "data": {
      "text/plain": [
       "(1, 2, 3, 4, 5, 7, 8)"
      ]
     },
     "execution_count": 68,
     "metadata": {},
     "output_type": "execute_result"
    }
   ],
   "source": [
    "T8=tuple([1,2,3,4,5,7,8])\n",
    "T8"
   ]
  },
  {
   "cell_type": "markdown",
   "id": "284ba5c9-0044-40bd-9145-1ebe510ad53d",
   "metadata": {},
   "source": [
    "# 2. Access\n",
    "1.Indexing\n",
    "2.Slicing"
   ]
  },
  {
   "cell_type": "code",
   "execution_count": 73,
   "id": "448876b2-29dd-4cde-9de3-f70093730ba3",
   "metadata": {},
   "outputs": [
    {
     "data": {
      "text/plain": [
       "(1, 3, 4, 56, 7)"
      ]
     },
     "execution_count": 73,
     "metadata": {},
     "output_type": "execute_result"
    }
   ],
   "source": [
    "T2\n"
   ]
  },
  {
   "cell_type": "code",
   "execution_count": 79,
   "id": "38013e8b-e68c-471d-b490-5762553bb26a",
   "metadata": {},
   "outputs": [
    {
     "data": {
      "text/plain": [
       "tuple"
      ]
     },
     "execution_count": 79,
     "metadata": {},
     "output_type": "execute_result"
    }
   ],
   "source": [
    "type(T2)"
   ]
  },
  {
   "cell_type": "code",
   "execution_count": 83,
   "id": "a02ed469-56d6-4f01-a8ef-861c168271b7",
   "metadata": {},
   "outputs": [
    {
     "data": {
      "text/plain": [
       "1"
      ]
     },
     "execution_count": 83,
     "metadata": {},
     "output_type": "execute_result"
    }
   ],
   "source": [
    "T2[0]"
   ]
  },
  {
   "cell_type": "code",
   "execution_count": 85,
   "id": "e3436b09-5b79-4bd0-88c7-21af981f1d0a",
   "metadata": {},
   "outputs": [
    {
     "data": {
      "text/plain": [
       "7"
      ]
     },
     "execution_count": 85,
     "metadata": {},
     "output_type": "execute_result"
    }
   ],
   "source": [
    "T2[4]"
   ]
  },
  {
   "cell_type": "code",
   "execution_count": 87,
   "id": "a10f4fcd-e90c-4ed4-a255-a5fb7980618e",
   "metadata": {},
   "outputs": [
    {
     "data": {
      "text/plain": [
       "7"
      ]
     },
     "execution_count": 87,
     "metadata": {},
     "output_type": "execute_result"
    }
   ],
   "source": [
    "T2[-1]"
   ]
  },
  {
   "cell_type": "code",
   "execution_count": 91,
   "id": "35af7c60-6528-40bb-88ad-69a8baa2c8ab",
   "metadata": {},
   "outputs": [
    {
     "ename": "IndexError",
     "evalue": "tuple index out of range",
     "output_type": "error",
     "traceback": [
      "\u001b[1;31m---------------------------------------------------------------------------\u001b[0m",
      "\u001b[1;31mIndexError\u001b[0m                                Traceback (most recent call last)",
      "Cell \u001b[1;32mIn[91], line 1\u001b[0m\n\u001b[1;32m----> 1\u001b[0m T[\u001b[38;5;241m4\u001b[39m]\n",
      "\u001b[1;31mIndexError\u001b[0m: tuple index out of range"
     ]
    }
   ],
   "source": [
    "T[4]"
   ]
  },
  {
   "cell_type": "code",
   "execution_count": 89,
   "id": "e355a101-4ec2-4a2f-b271-1e787440301a",
   "metadata": {},
   "outputs": [
    {
     "ename": "TypeError",
     "evalue": "'int' object is not subscriptable",
     "output_type": "error",
     "traceback": [
      "\u001b[1;31m---------------------------------------------------------------------------\u001b[0m",
      "\u001b[1;31mTypeError\u001b[0m                                 Traceback (most recent call last)",
      "Cell \u001b[1;32mIn[89], line 1\u001b[0m\n\u001b[1;32m----> 1\u001b[0m T4[\u001b[38;5;241m-\u001b[39m\u001b[38;5;241m1\u001b[39m][\u001b[38;5;241m0\u001b[39m]\n",
      "\u001b[1;31mTypeError\u001b[0m: 'int' object is not subscriptable"
     ]
    }
   ],
   "source": [
    "T4[-1][0]"
   ]
  },
  {
   "cell_type": "code",
   "execution_count": 93,
   "id": "a3fa7b8e-4f5b-4d24-889e-6c79e58e7fcc",
   "metadata": {},
   "outputs": [
    {
     "data": {
      "text/plain": [
       "(4, 4, 5)"
      ]
     },
     "execution_count": 93,
     "metadata": {},
     "output_type": "execute_result"
    }
   ],
   "source": [
    "T4=(4,4,5)\n",
    "T4"
   ]
  },
  {
   "cell_type": "code",
   "execution_count": 101,
   "id": "f6a9f874-a979-42a4-a47b-50e4bb6dc2a9",
   "metadata": {},
   "outputs": [
    {
     "data": {
      "text/plain": [
       "(4, 4, 5)"
      ]
     },
     "execution_count": 101,
     "metadata": {},
     "output_type": "execute_result"
    }
   ],
   "source": [
    "T4"
   ]
  },
  {
   "cell_type": "code",
   "execution_count": 119,
   "id": "96528ba7-13cb-4178-bd19-c8fc60f230d9",
   "metadata": {},
   "outputs": [
    {
     "data": {
      "text/plain": [
       "4"
      ]
     },
     "execution_count": 119,
     "metadata": {},
     "output_type": "execute_result"
    }
   ],
   "source": [
    "T4[1]"
   ]
  },
  {
   "cell_type": "markdown",
   "id": "c34d9320-f3b5-49fb-b83a-1814b0fe918f",
   "metadata": {},
   "source": [
    "# 3. Edit"
   ]
  },
  {
   "cell_type": "code",
   "execution_count": 122,
   "id": "dffc9d78-394a-4ff4-beb8-561d19b1d662",
   "metadata": {},
   "outputs": [
    {
     "data": {
      "text/plain": [
       "[1, 2, 3, 4, 5]"
      ]
     },
     "execution_count": 122,
     "metadata": {},
     "output_type": "execute_result"
    }
   ],
   "source": [
    "L = [1, 2, 3, 4, 5]\n",
    "L"
   ]
  },
  {
   "cell_type": "code",
   "execution_count": 124,
   "id": "c56d2942-0eb8-4d79-930f-872b608c3bd8",
   "metadata": {},
   "outputs": [
    {
     "data": {
      "text/plain": [
       "5"
      ]
     },
     "execution_count": 124,
     "metadata": {},
     "output_type": "execute_result"
    }
   ],
   "source": [
    "L[4]"
   ]
  },
  {
   "cell_type": "code",
   "execution_count": 130,
   "id": "e95f675c-5c47-412c-aaa9-f74b6b7a1b36",
   "metadata": {},
   "outputs": [
    {
     "data": {
      "text/plain": [
       "(1, 2, 3, 4, 5)"
      ]
     },
     "execution_count": 130,
     "metadata": {},
     "output_type": "execute_result"
    }
   ],
   "source": [
    "L=(1,2,3,4,5)\n",
    "L"
   ]
  },
  {
   "cell_type": "code",
   "execution_count": 136,
   "id": "ddcfbe70-b812-4b60-bf63-adc0418f88fd",
   "metadata": {},
   "outputs": [
    {
     "ename": "SyntaxError",
     "evalue": "cannot assign to function call here. Maybe you meant '==' instead of '='? (3857207662.py, line 1)",
     "output_type": "error",
     "traceback": [
      "\u001b[1;36m  Cell \u001b[1;32mIn[136], line 1\u001b[1;36m\u001b[0m\n\u001b[1;33m    L(4)=123\u001b[0m\n\u001b[1;37m    ^\u001b[0m\n\u001b[1;31mSyntaxError\u001b[0m\u001b[1;31m:\u001b[0m cannot assign to function call here. Maybe you meant '==' instead of '='?\n"
     ]
    }
   ],
   "source": [
    "L(4)=123\n",
    "# Immutable, like strings"
   ]
  },
  {
   "cell_type": "markdown",
   "id": "9698b635-2272-4476-85be-cacc99258b10",
   "metadata": {},
   "source": [
    "#  4. Add\n"
   ]
  },
  {
   "cell_type": "code",
   "execution_count": 144,
   "id": "371c0c8f-8997-4aef-8f18-f5b502d25a48",
   "metadata": {},
   "outputs": [],
   "source": [
    "# not possible\n",
    "# Tuples: immutable"
   ]
  },
  {
   "cell_type": "markdown",
   "id": "bc010c2a-9e64-43c1-965e-42ace594604f",
   "metadata": {},
   "source": [
    "# 5. Delete"
   ]
  },
  {
   "cell_type": "code",
   "execution_count": 147,
   "id": "9242a66c-e2f0-4fd8-a9c1-0df20b934a56",
   "metadata": {},
   "outputs": [
    {
     "data": {
      "text/plain": [
       "()"
      ]
     },
     "execution_count": 147,
     "metadata": {},
     "output_type": "execute_result"
    }
   ],
   "source": [
    "T1"
   ]
  },
  {
   "cell_type": "code",
   "execution_count": 149,
   "id": "b651e0c6-a03d-4cd6-aedd-0c1f84352ce4",
   "metadata": {},
   "outputs": [
    {
     "ename": "NameError",
     "evalue": "name 'T1' is not defined",
     "output_type": "error",
     "traceback": [
      "\u001b[1;31m---------------------------------------------------------------------------\u001b[0m",
      "\u001b[1;31mNameError\u001b[0m                                 Traceback (most recent call last)",
      "Cell \u001b[1;32mIn[149], line 2\u001b[0m\n\u001b[0;32m      1\u001b[0m \u001b[38;5;28;01mdel\u001b[39;00m T1\n\u001b[1;32m----> 2\u001b[0m T1\n",
      "\u001b[1;31mNameError\u001b[0m: name 'T1' is not defined"
     ]
    }
   ],
   "source": [
    "del T1\n",
    "T1"
   ]
  },
  {
   "cell_type": "code",
   "execution_count": 153,
   "id": "f7d38f2f-1da7-461a-a3cc-fff717065fda",
   "metadata": {},
   "outputs": [
    {
     "ename": "NameError",
     "evalue": "name 'L' is not defined",
     "output_type": "error",
     "traceback": [
      "\u001b[1;31m---------------------------------------------------------------------------\u001b[0m",
      "\u001b[1;31mNameError\u001b[0m                                 Traceback (most recent call last)",
      "Cell \u001b[1;32mIn[153], line 2\u001b[0m\n\u001b[0;32m      1\u001b[0m \u001b[38;5;28;01mdel\u001b[39;00m L\n\u001b[1;32m----> 2\u001b[0m L\n",
      "\u001b[1;31mNameError\u001b[0m: name 'L' is not defined"
     ]
    }
   ],
   "source": [
    "del L\n",
    "L"
   ]
  },
  {
   "cell_type": "code",
   "execution_count": 155,
   "id": "33c4d315-0eb4-4de1-941e-93689363d09c",
   "metadata": {},
   "outputs": [
    {
     "data": {
      "text/plain": [
       "(1, 3, 4, 56, 7)"
      ]
     },
     "execution_count": 155,
     "metadata": {},
     "output_type": "execute_result"
    }
   ],
   "source": [
    "T2"
   ]
  },
  {
   "cell_type": "code",
   "execution_count": 157,
   "id": "f35399ad-d221-40fc-ac9b-8a22361a6d76",
   "metadata": {},
   "outputs": [
    {
     "data": {
      "text/plain": [
       "('hello', 1, 2, 3, 4, True)"
      ]
     },
     "execution_count": 157,
     "metadata": {},
     "output_type": "execute_result"
    }
   ],
   "source": [
    "T3"
   ]
  },
  {
   "cell_type": "code",
   "execution_count": 159,
   "id": "396ca371-1da8-41ab-9ee2-31bb1f86c4cf",
   "metadata": {},
   "outputs": [
    {
     "ename": "SyntaxError",
     "evalue": "cannot delete function call (2599063327.py, line 1)",
     "output_type": "error",
     "traceback": [
      "\u001b[1;36m  Cell \u001b[1;32mIn[159], line 1\u001b[1;36m\u001b[0m\n\u001b[1;33m    del T2(-1)\u001b[0m\n\u001b[1;37m        ^\u001b[0m\n\u001b[1;31mSyntaxError\u001b[0m\u001b[1;31m:\u001b[0m cannot delete function call\n"
     ]
    }
   ],
   "source": [
    "del T2(-1)    "
   ]
  },
  {
   "cell_type": "code",
   "execution_count": 161,
   "id": "d3814232-96e8-4022-91ba-c37afa2e898e",
   "metadata": {},
   "outputs": [],
   "source": [
    "\n",
    "# Tuples are immutable"
   ]
  },
  {
   "cell_type": "markdown",
   "id": "72467f8c-4892-4749-8b25-dcdbaa74eae3",
   "metadata": {},
   "source": [
    "# 6. Operations"
   ]
  },
  {
   "cell_type": "code",
   "execution_count": 164,
   "id": "db7a9570-695b-4c3f-809d-7f44007b19eb",
   "metadata": {},
   "outputs": [
    {
     "data": {
      "text/plain": [
       "(1, 3, 4, 56, 7)"
      ]
     },
     "execution_count": 164,
     "metadata": {},
     "output_type": "execute_result"
    }
   ],
   "source": [
    "T2"
   ]
  },
  {
   "cell_type": "code",
   "execution_count": 166,
   "id": "bc4de083-8a85-4879-b6aa-739160f19ab3",
   "metadata": {},
   "outputs": [
    {
     "data": {
      "text/plain": [
       "('hello', 1, 2, 3, 4, True)"
      ]
     },
     "execution_count": 166,
     "metadata": {},
     "output_type": "execute_result"
    }
   ],
   "source": [
    "T3"
   ]
  },
  {
   "cell_type": "code",
   "execution_count": 168,
   "id": "03e71040-a714-4e45-82e4-fb3ae950be5f",
   "metadata": {},
   "outputs": [
    {
     "data": {
      "text/plain": [
       "(1, 3, 4, 56, 7, 'hello', 1, 2, 3, 4, True)"
      ]
     },
     "execution_count": 168,
     "metadata": {},
     "output_type": "execute_result"
    }
   ],
   "source": [
    "T2+T3"
   ]
  },
  {
   "cell_type": "code",
   "execution_count": 172,
   "id": "2ec2aa29-577f-4309-b7bd-937ae096ffe7",
   "metadata": {},
   "outputs": [
    {
     "data": {
      "text/plain": [
       "(1, 3, 4, 56, 7, 1, 3, 4, 56, 7, 1, 3, 4, 56, 7)"
      ]
     },
     "execution_count": 172,
     "metadata": {},
     "output_type": "execute_result"
    }
   ],
   "source": [
    "T2*3"
   ]
  },
  {
   "cell_type": "code",
   "execution_count": 184,
   "id": "27c08752-7578-4102-aa07-dcd450aca0ab",
   "metadata": {},
   "outputs": [
    {
     "name": "stdout",
     "output_type": "stream",
     "text": [
      "1\n",
      "3\n",
      "4\n",
      "56\n",
      "7\n"
     ]
    }
   ],
   "source": [
    "# iteration \n",
    "for i in  T2:\n",
    "    print (i)"
   ]
  },
  {
   "cell_type": "code",
   "execution_count": 186,
   "id": "b6ecacc3-d77e-433e-ab48-228d73930e91",
   "metadata": {},
   "outputs": [
    {
     "data": {
      "text/plain": [
       "False"
      ]
     },
     "execution_count": 186,
     "metadata": {},
     "output_type": "execute_result"
    }
   ],
   "source": [
    "# membership\n",
    "2 in T2"
   ]
  },
  {
   "cell_type": "code",
   "execution_count": 188,
   "id": "3e94e704-640b-403d-96b4-1863de28a988",
   "metadata": {},
   "outputs": [
    {
     "data": {
      "text/plain": [
       "True"
      ]
     },
     "execution_count": 188,
     "metadata": {},
     "output_type": "execute_result"
    }
   ],
   "source": [
    "1 in T2"
   ]
  },
  {
   "cell_type": "markdown",
   "id": "2bc472cd-b9aa-4439-8593-7c18db7b7f2a",
   "metadata": {},
   "source": [
    "# 7. Functions"
   ]
  },
  {
   "cell_type": "code",
   "execution_count": 191,
   "id": "b3011947-8ca7-46ae-9977-72c566633f3f",
   "metadata": {},
   "outputs": [
    {
     "data": {
      "text/plain": [
       "5"
      ]
     },
     "execution_count": 191,
     "metadata": {},
     "output_type": "execute_result"
    }
   ],
   "source": [
    "len(T2)"
   ]
  },
  {
   "cell_type": "code",
   "execution_count": 194,
   "id": "da47bd8c-f243-4ddf-8550-030e51973453",
   "metadata": {},
   "outputs": [
    {
     "data": {
      "text/plain": [
       "1"
      ]
     },
     "execution_count": 194,
     "metadata": {},
     "output_type": "execute_result"
    }
   ],
   "source": [
    "min(T2)"
   ]
  },
  {
   "cell_type": "code",
   "execution_count": 197,
   "id": "54e68ad4-1238-426d-9edb-b7b062a5a6ac",
   "metadata": {},
   "outputs": [
    {
     "data": {
      "text/plain": [
       "56"
      ]
     },
     "execution_count": 197,
     "metadata": {},
     "output_type": "execute_result"
    }
   ],
   "source": [
    "max(T2)"
   ]
  },
  {
   "cell_type": "code",
   "execution_count": 199,
   "id": "ea836ce7-b1d0-48e2-8968-c26568729a2b",
   "metadata": {},
   "outputs": [
    {
     "data": {
      "text/plain": [
       "71"
      ]
     },
     "execution_count": 199,
     "metadata": {},
     "output_type": "execute_result"
    }
   ],
   "source": [
    "sum(T2)"
   ]
  },
  {
   "cell_type": "code",
   "execution_count": 201,
   "id": "9dc852d2-43e9-4c6f-936c-444388be8dc4",
   "metadata": {},
   "outputs": [
    {
     "data": {
      "text/plain": [
       "[1, 3, 4, 7, 56]"
      ]
     },
     "execution_count": 201,
     "metadata": {},
     "output_type": "execute_result"
    }
   ],
   "source": [
    "sorted(T2)"
   ]
  },
  {
   "cell_type": "code",
   "execution_count": 207,
   "id": "8b6c057b-488e-4c2d-b1d7-e95e8f245e85",
   "metadata": {},
   "outputs": [
    {
     "data": {
      "text/plain": [
       "[56, 7, 4, 3, 1]"
      ]
     },
     "execution_count": 207,
     "metadata": {},
     "output_type": "execute_result"
    }
   ],
   "source": [
    "sorted(T2,reverse=True)\n",
    "# problem"
   ]
  },
  {
   "cell_type": "code",
   "execution_count": 211,
   "id": "a1b4fa7c-2aa4-4b32-aa52-c065f0abf850",
   "metadata": {},
   "outputs": [
    {
     "data": {
      "text/plain": [
       "1"
      ]
     },
     "execution_count": 211,
     "metadata": {},
     "output_type": "execute_result"
    }
   ],
   "source": [
    "# count\n",
    "t = (1, 2, 3, 4, 5)\n",
    "t.count(5)"
   ]
  },
  {
   "cell_type": "code",
   "execution_count": null,
   "id": "071f8be0-0d49-48ff-8b47-64bf584d0885",
   "metadata": {},
   "outputs": [],
   "source": []
  }
 ],
 "metadata": {
  "kernelspec": {
   "display_name": "Python [conda env:base] *",
   "language": "python",
   "name": "conda-base-py"
  },
  "language_info": {
   "codemirror_mode": {
    "name": "ipython",
    "version": 3
   },
   "file_extension": ".py",
   "mimetype": "text/x-python",
   "name": "python",
   "nbconvert_exporter": "python",
   "pygments_lexer": "ipython3",
   "version": "3.12.7"
  }
 },
 "nbformat": 4,
 "nbformat_minor": 5
}
