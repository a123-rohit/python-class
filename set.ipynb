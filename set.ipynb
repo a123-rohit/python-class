{
 "cells": [
  {
   "cell_type": "markdown",
   "id": "0cab713f-5feb-4430-b684-23eb1ec5b8e0",
   "metadata": {},
   "source": [
    "# 1.Create"
   ]
  },
  {
   "cell_type": "code",
   "execution_count": 14,
   "id": "8514aa71-b37d-4a47-9778-d8d15953cbac",
   "metadata": {},
   "outputs": [
    {
     "data": {
      "text/plain": [
       "{}"
      ]
     },
     "execution_count": 14,
     "metadata": {},
     "output_type": "execute_result"
    }
   ],
   "source": [
    "S1 = {}\n",
    "S1"
   ]
  },
  {
   "cell_type": "code",
   "execution_count": 20,
   "id": "7479cd25-99d6-4d95-9797-55f670885a06",
   "metadata": {},
   "outputs": [
    {
     "data": {
      "text/plain": [
       "dict"
      ]
     },
     "execution_count": 20,
     "metadata": {},
     "output_type": "execute_result"
    }
   ],
   "source": [
    "type (S1)"
   ]
  },
  {
   "cell_type": "code",
   "execution_count": 22,
   "id": "4e1340c8-e31a-4f4e-b870-83652c271fb9",
   "metadata": {},
   "outputs": [
    {
     "data": {
      "text/plain": [
       "set()"
      ]
     },
     "execution_count": 22,
     "metadata": {},
     "output_type": "execute_result"
    }
   ],
   "source": [
    "S1=set()\n",
    "S1"
   ]
  },
  {
   "cell_type": "code",
   "execution_count": 24,
   "id": "4adc88f2-07ba-4cc8-b8c0-ff60e15e11bf",
   "metadata": {},
   "outputs": [
    {
     "data": {
      "text/plain": [
       "set"
      ]
     },
     "execution_count": 24,
     "metadata": {},
     "output_type": "execute_result"
    }
   ],
   "source": [
    "type(S1)"
   ]
  },
  {
   "cell_type": "code",
   "execution_count": 32,
   "id": "c4db14b9-2a0e-41b8-ac3c-09e6278349ee",
   "metadata": {},
   "outputs": [
    {
     "data": {
      "text/plain": [
       "{1, 2, 3, 4, 5}"
      ]
     },
     "execution_count": 32,
     "metadata": {},
     "output_type": "execute_result"
    }
   ],
   "source": [
    "#1D and 2D set\n",
    "S1={1,2,3,4,5}#S1 is 1D set\n",
    "#S2={1,2,3,{4,5}}#S2 is 2D set\n",
    "S1"
   ]
  },
  {
   "cell_type": "code",
   "execution_count": 36,
   "id": "801680bb-6938-45b3-9332-37cb4136a02c",
   "metadata": {},
   "outputs": [
    {
     "data": {
      "text/plain": [
       "{2.3, 'hello', 'true'}"
      ]
     },
     "execution_count": 36,
     "metadata": {},
     "output_type": "execute_result"
    }
   ],
   "source": [
    "#Homo and Hetro\n",
    "S2={\"hello\",2.3,\"true\"}\n",
    "S2"
   ]
  },
  {
   "cell_type": "code",
   "execution_count": 38,
   "id": "b6084dbc-5a49-4548-912d-5e9e73bf9ef6",
   "metadata": {},
   "outputs": [
    {
     "name": "stdout",
     "output_type": "stream",
     "text": [
      "{1, 2, 3}\n"
     ]
    }
   ],
   "source": [
    "#type conversion\n",
    "S4=set([1,2,3])\n",
    "print(S4)"
   ]
  },
  {
   "cell_type": "code",
   "execution_count": 42,
   "id": "11cfc3d0-3e6b-472e-86fc-d0c2f3db200b",
   "metadata": {},
   "outputs": [
    {
     "data": {
      "text/plain": [
       "{1, 2, 3, 4}"
      ]
     },
     "execution_count": 42,
     "metadata": {},
     "output_type": "execute_result"
    }
   ],
   "source": [
    "#duplicate are note allowed\n",
    "S3={1,2,3,4,2,3,4,4}\n",
    "S3"
   ]
  },
  {
   "cell_type": "code",
   "execution_count": 46,
   "id": "b7de77eb-9f5a-4238-9b73-d63362e3573d",
   "metadata": {},
   "outputs": [
    {
     "ename": "TypeError",
     "evalue": "unhashable type: 'list'",
     "output_type": "error",
     "traceback": [
      "\u001b[1;31m---------------------------------------------------------------------------\u001b[0m",
      "\u001b[1;31mTypeError\u001b[0m                                 Traceback (most recent call last)",
      "Cell \u001b[1;32mIn[46], line 1\u001b[0m\n\u001b[1;32m----> 1\u001b[0m S4\u001b[38;5;241m=\u001b[39m{[\u001b[38;5;241m1\u001b[39m,\u001b[38;5;241m2\u001b[39m,\u001b[38;5;241m3\u001b[39m,\u001b[38;5;241m4\u001b[39m],\u001b[38;5;124m\"\u001b[39m\u001b[38;5;124mhello\u001b[39m\u001b[38;5;124m\"\u001b[39m}\n",
      "\u001b[1;31mTypeError\u001b[0m: unhashable type: 'list'"
     ]
    }
   ],
   "source": [
    "S4={[1,2,3,4],\"hello\"}"
   ]
  },
  {
   "cell_type": "code",
   "execution_count": 48,
   "id": "71f016e4-7d34-4a9c-a4ed-177eeba75c29",
   "metadata": {},
   "outputs": [
    {
     "ename": "TypeError",
     "evalue": "unhashable type: 'list'",
     "output_type": "error",
     "traceback": [
      "\u001b[1;31m---------------------------------------------------------------------------\u001b[0m",
      "\u001b[1;31mTypeError\u001b[0m                                 Traceback (most recent call last)",
      "Cell \u001b[1;32mIn[48], line 2\u001b[0m\n\u001b[0;32m      1\u001b[0m \u001b[38;5;66;03m#set can't have mutable items\u001b[39;00m\n\u001b[1;32m----> 2\u001b[0m S6\u001b[38;5;241m=\u001b[39m{\u001b[38;5;241m1\u001b[39m,\u001b[38;5;241m2\u001b[39m,\u001b[38;5;241m3\u001b[39m,[\u001b[38;5;241m4\u001b[39m,\u001b[38;5;241m5\u001b[39m]}\n\u001b[0;32m      3\u001b[0m \u001b[38;5;28mprint\u001b[39m(S6)\n",
      "\u001b[1;31mTypeError\u001b[0m: unhashable type: 'list'"
     ]
    }
   ],
   "source": [
    "#set can't have mutable items\n",
    "S6={1,2,3,[4,5]}\n",
    "print(S6)\n"
   ]
  },
  {
   "cell_type": "code",
   "execution_count": 50,
   "id": "2b850fae-778c-425d-99e5-225ee95eaf98",
   "metadata": {},
   "outputs": [
    {
     "ename": "TypeError",
     "evalue": "unhashable type: 'list'",
     "output_type": "error",
     "traceback": [
      "\u001b[1;31m---------------------------------------------------------------------------\u001b[0m",
      "\u001b[1;31mTypeError\u001b[0m                                 Traceback (most recent call last)",
      "Cell \u001b[1;32mIn[50], line 2\u001b[0m\n\u001b[0;32m      1\u001b[0m \u001b[38;5;66;03m# set can't have mutable items\u001b[39;00m\n\u001b[1;32m----> 2\u001b[0m s6 \u001b[38;5;241m=\u001b[39m {\u001b[38;5;241m1\u001b[39m, \u001b[38;5;241m2\u001b[39m, [\u001b[38;5;241m3\u001b[39m, \u001b[38;5;241m4\u001b[39m]}\n\u001b[0;32m      3\u001b[0m \u001b[38;5;28mprint\u001b[39m(s6)\n",
      "\u001b[1;31mTypeError\u001b[0m: unhashable type: 'list'"
     ]
    }
   ],
   "source": [
    "# set can't have mutable items\n",
    "s6 = {1, 2, [3, 4]}\n",
    "print(s6)"
   ]
  },
  {
   "cell_type": "code",
   "execution_count": 52,
   "id": "ade549ec-376f-4a3b-84fc-efeb0946a392",
   "metadata": {},
   "outputs": [],
   "source": [
    "#set have no indexing \n",
    "#hashing\n"
   ]
  },
  {
   "cell_type": "code",
   "execution_count": 54,
   "id": "1e4eeb12-0dc9-4b1b-beb6-00912b833463",
   "metadata": {},
   "outputs": [
    {
     "ename": "TypeError",
     "evalue": "unhashable type: 'set'",
     "output_type": "error",
     "traceback": [
      "\u001b[1;31m---------------------------------------------------------------------------\u001b[0m",
      "\u001b[1;31mTypeError\u001b[0m                                 Traceback (most recent call last)",
      "Cell \u001b[1;32mIn[54], line 1\u001b[0m\n\u001b[1;32m----> 1\u001b[0m S5\u001b[38;5;241m=\u001b[39m{{\u001b[38;5;241m1\u001b[39m},{\u001b[38;5;241m2\u001b[39m}}\n",
      "\u001b[1;31mTypeError\u001b[0m: unhashable type: 'set'"
     ]
    }
   ],
   "source": [
    "S5={{1},{2}}"
   ]
  },
  {
   "cell_type": "code",
   "execution_count": 62,
   "id": "3796d6c1-5711-47a4-9f4d-74296471ed17",
   "metadata": {},
   "outputs": [
    {
     "name": "stdout",
     "output_type": "stream",
     "text": [
      "True\n"
     ]
    }
   ],
   "source": [
    "s1={1,2,3,4,5}\n",
    "s2={5,4,3,2,1}\n",
    "print(s1==s2)"
   ]
  },
  {
   "cell_type": "markdown",
   "id": "d30cab92-1658-4504-8640-e3f01786404e",
   "metadata": {},
   "source": [
    "# 2.Access"
   ]
  },
  {
   "cell_type": "code",
   "execution_count": 65,
   "id": "9bc9a6bb-e22a-4db7-8654-ea64ee866335",
   "metadata": {},
   "outputs": [
    {
     "data": {
      "text/plain": [
       "{1, 2, 3, 4, 5}"
      ]
     },
     "execution_count": 65,
     "metadata": {},
     "output_type": "execute_result"
    }
   ],
   "source": [
    "S1"
   ]
  },
  {
   "cell_type": "code",
   "execution_count": 70,
   "id": "1fd92045-1ce6-459e-88c4-655438b49cbc",
   "metadata": {},
   "outputs": [
    {
     "ename": "TypeError",
     "evalue": "'set' object is not subscriptable",
     "output_type": "error",
     "traceback": [
      "\u001b[1;31m---------------------------------------------------------------------------\u001b[0m",
      "\u001b[1;31mTypeError\u001b[0m                                 Traceback (most recent call last)",
      "Cell \u001b[1;32mIn[70], line 1\u001b[0m\n\u001b[1;32m----> 1\u001b[0m S1[\u001b[38;5;241m0\u001b[39m]\n",
      "\u001b[1;31mTypeError\u001b[0m: 'set' object is not subscriptable"
     ]
    }
   ],
   "source": [
    "S1[0]"
   ]
  },
  {
   "cell_type": "code",
   "execution_count": 72,
   "id": "4a2e5882-0280-436f-ab8b-3c54335de0c4",
   "metadata": {},
   "outputs": [
    {
     "ename": "TypeError",
     "evalue": "'set' object is not subscriptable",
     "output_type": "error",
     "traceback": [
      "\u001b[1;31m---------------------------------------------------------------------------\u001b[0m",
      "\u001b[1;31mTypeError\u001b[0m                                 Traceback (most recent call last)",
      "Cell \u001b[1;32mIn[72], line 1\u001b[0m\n\u001b[1;32m----> 1\u001b[0m S1[\u001b[38;5;241m0.33\u001b[39m]\n",
      "\u001b[1;31mTypeError\u001b[0m: 'set' object is not subscriptable"
     ]
    }
   ],
   "source": [
    "S1[0.33]"
   ]
  },
  {
   "cell_type": "markdown",
   "id": "6c33a83a-a64d-4bf5-a428-da63854eddf5",
   "metadata": {},
   "source": [
    "# 3.Edit"
   ]
  },
  {
   "cell_type": "code",
   "execution_count": 95,
   "id": "39c06f3a-19bd-404b-bdd7-f9ed95c99f6b",
   "metadata": {},
   "outputs": [
    {
     "ename": "TypeError",
     "evalue": "'set' object does not support item assignment",
     "output_type": "error",
     "traceback": [
      "\u001b[1;31m---------------------------------------------------------------------------\u001b[0m",
      "\u001b[1;31mTypeError\u001b[0m                                 Traceback (most recent call last)",
      "Cell \u001b[1;32mIn[95], line 1\u001b[0m\n\u001b[1;32m----> 1\u001b[0m S1[\u001b[38;5;241m2\u001b[39m]\u001b[38;5;241m=\u001b[39m\u001b[38;5;241m100\u001b[39m\n",
      "\u001b[1;31mTypeError\u001b[0m: 'set' object does not support item assignment"
     ]
    }
   ],
   "source": [
    "S1[2]=100"
   ]
  },
  {
   "cell_type": "code",
   "execution_count": 97,
   "id": "e6d9e88f-4424-48a4-bc24-2541bb544a76",
   "metadata": {},
   "outputs": [
    {
     "data": {
      "text/plain": [
       "{1, 2, 3, 4, 5}"
      ]
     },
     "execution_count": 97,
     "metadata": {},
     "output_type": "execute_result"
    }
   ],
   "source": [
    "S1"
   ]
  },
  {
   "cell_type": "code",
   "execution_count": 99,
   "id": "a7caabc3-42c8-478f-bf29-d46e049d4d6f",
   "metadata": {},
   "outputs": [
    {
     "data": {
      "text/plain": [
       "[1, 2, 3, 4, 5]"
      ]
     },
     "execution_count": 99,
     "metadata": {},
     "output_type": "execute_result"
    }
   ],
   "source": [
    "L=list(S1)\n",
    "L"
   ]
  },
  {
   "cell_type": "code",
   "execution_count": 105,
   "id": "ce5d2018-468e-4c99-8e22-0b35dab67410",
   "metadata": {},
   "outputs": [
    {
     "data": {
      "text/plain": [
       "[1000, 2, 3, 4, 5]"
      ]
     },
     "execution_count": 105,
     "metadata": {},
     "output_type": "execute_result"
    }
   ],
   "source": [
    "L[0]=1000\n",
    "L"
   ]
  },
  {
   "cell_type": "code",
   "execution_count": 111,
   "id": "a545a9d0-c0d6-461d-903f-46c9dc2a9510",
   "metadata": {},
   "outputs": [
    {
     "data": {
      "text/plain": [
       "{2, 3, 4, 5, 1000}"
      ]
     },
     "execution_count": 111,
     "metadata": {},
     "output_type": "execute_result"
    }
   ],
   "source": [
    "S1=set(L)\n",
    "S1"
   ]
  },
  {
   "cell_type": "code",
   "execution_count": 113,
   "id": "e542ce06-e047-4eb3-a9b2-14eed3601a04",
   "metadata": {},
   "outputs": [
    {
     "data": {
      "text/plain": [
       "2141131417504"
      ]
     },
     "execution_count": 113,
     "metadata": {},
     "output_type": "execute_result"
    }
   ],
   "source": [
    "id(S1)"
   ]
  },
  {
   "cell_type": "markdown",
   "id": "cff0fef1-1fbc-46d8-8f4d-837a675f1837",
   "metadata": {},
   "source": [
    "# 4.Add"
   ]
  },
  {
   "cell_type": "code",
   "execution_count": 125,
   "id": "ceaa7060-4c1a-418c-8e76-dac0d9c7b844",
   "metadata": {},
   "outputs": [
    {
     "data": {
      "text/plain": [
       "{2, 3, 4, 5, 9, 1000}"
      ]
     },
     "execution_count": 125,
     "metadata": {},
     "output_type": "execute_result"
    }
   ],
   "source": [
    "S1.add(9)\n",
    "S1"
   ]
  },
  {
   "cell_type": "code",
   "execution_count": 131,
   "id": "8475983b-7e53-441e-9d96-d44d6c2e298f",
   "metadata": {},
   "outputs": [
    {
     "data": {
      "text/plain": [
       "2141131417504"
      ]
     },
     "execution_count": 131,
     "metadata": {},
     "output_type": "execute_result"
    }
   ],
   "source": [
    "id(S1)"
   ]
  },
  {
   "cell_type": "code",
   "execution_count": 135,
   "id": "4e4e3c8e-c0c0-4077-8179-32428d170c52",
   "metadata": {},
   "outputs": [
    {
     "data": {
      "text/plain": [
       "{2, 3, 4, 5, 9, 10, 1000}"
      ]
     },
     "execution_count": 135,
     "metadata": {},
     "output_type": "execute_result"
    }
   ],
   "source": [
    "S1.add(10)\n",
    "S1"
   ]
  },
  {
   "cell_type": "code",
   "execution_count": 141,
   "id": "7524f726-1815-4205-a8e8-a87c40619c9d",
   "metadata": {},
   "outputs": [
    {
     "name": "stdout",
     "output_type": "stream",
     "text": [
      "{2, 3, 4, 5, 6, 7, 1000, 9, 10}\n"
     ]
    }
   ],
   "source": [
    "S1.update([5,6,7])\n",
    "print(S1)"
   ]
  },
  {
   "cell_type": "markdown",
   "id": "497d8ba5-ad54-46d4-8bf7-a07598ede0b2",
   "metadata": {},
   "source": [
    "# 5.Delete"
   ]
  },
  {
   "cell_type": "code",
   "execution_count": 152,
   "id": "10ca6959-d60e-43f5-a19a-d4c6fdd08e7b",
   "metadata": {},
   "outputs": [],
   "source": [
    "#delete\n",
    "#remove()\n",
    "#pop()\n",
    "#discard()\n",
    "#clear()"
   ]
  },
  {
   "cell_type": "code",
   "execution_count": 154,
   "id": "47e36afb-6447-4b9d-9b64-2430d960f51e",
   "metadata": {},
   "outputs": [
    {
     "data": {
      "text/plain": [
       "{2, 3, 4, 5, 6, 7, 9, 10, 1000}"
      ]
     },
     "execution_count": 154,
     "metadata": {},
     "output_type": "execute_result"
    }
   ],
   "source": [
    "S1"
   ]
  },
  {
   "cell_type": "code",
   "execution_count": 158,
   "id": "bfe5e528-5149-4aef-9d10-a90e6326cd5d",
   "metadata": {},
   "outputs": [
    {
     "data": {
      "text/plain": [
       "{1, 2, 3, 4, 5}"
      ]
     },
     "execution_count": 158,
     "metadata": {},
     "output_type": "execute_result"
    }
   ],
   "source": [
    "S2"
   ]
  },
  {
   "cell_type": "code",
   "execution_count": 162,
   "id": "192a0ed9-23d3-4224-b2e7-0a2aab17912f",
   "metadata": {},
   "outputs": [
    {
     "data": {
      "text/plain": [
       "{4.5, 'Hello', True}"
      ]
     },
     "execution_count": 162,
     "metadata": {},
     "output_type": "execute_result"
    }
   ],
   "source": [
    "S2={4.5, 'Hello', True}\n",
    "S2"
   ]
  },
  {
   "cell_type": "code",
   "execution_count": 167,
   "id": "dbc36e21-05d2-41e4-9b47-db531676d52b",
   "metadata": {},
   "outputs": [
    {
     "data": {
      "text/plain": [
       "{4.5, 'Hello', True}"
      ]
     },
     "execution_count": 167,
     "metadata": {},
     "output_type": "execute_result"
    }
   ],
   "source": [
    "S2 "
   ]
  },
  {
   "cell_type": "code",
   "execution_count": 169,
   "id": "39f2ae14-d86f-4bf4-b545-90eb893c6f5a",
   "metadata": {},
   "outputs": [
    {
     "ename": "NameError",
     "evalue": "name 'delete' is not defined",
     "output_type": "error",
     "traceback": [
      "\u001b[1;31m---------------------------------------------------------------------------\u001b[0m",
      "\u001b[1;31mNameError\u001b[0m                                 Traceback (most recent call last)",
      "Cell \u001b[1;32mIn[169], line 1\u001b[0m\n\u001b[1;32m----> 1\u001b[0m delete(S2)\n\u001b[0;32m      2\u001b[0m S2\n",
      "\u001b[1;31mNameError\u001b[0m: name 'delete' is not defined"
     ]
    }
   ],
   "source": [
    "delete(S2)\n",
    "S2"
   ]
  },
  {
   "cell_type": "code",
   "execution_count": 175,
   "id": "6934d298-8a3f-443e-b5d3-165f2b0b1c06",
   "metadata": {},
   "outputs": [
    {
     "data": {
      "text/plain": [
       "{2, 3, 4, 5, 6, 7, 9, 10}"
      ]
     },
     "execution_count": 175,
     "metadata": {},
     "output_type": "execute_result"
    }
   ],
   "source": [
    "S1.remove(1000)\n",
    "S1"
   ]
  },
  {
   "cell_type": "code",
   "execution_count": 177,
   "id": "c96407ec-04e7-4235-8668-0a00c4a3577d",
   "metadata": {},
   "outputs": [
    {
     "data": {
      "text/plain": [
       "2"
      ]
     },
     "execution_count": 177,
     "metadata": {},
     "output_type": "execute_result"
    }
   ],
   "source": [
    "S1.pop()"
   ]
  },
  {
   "cell_type": "code",
   "execution_count": 180,
   "id": "906b8069-049c-44e0-b13c-85715077fac5",
   "metadata": {},
   "outputs": [
    {
     "data": {
      "text/plain": [
       "3"
      ]
     },
     "execution_count": 180,
     "metadata": {},
     "output_type": "execute_result"
    }
   ],
   "source": [
    "S1.pop()"
   ]
  },
  {
   "cell_type": "code",
   "execution_count": 183,
   "id": "7ba9ce34-44d3-44d1-8f0f-61d4e83cf9be",
   "metadata": {},
   "outputs": [
    {
     "data": {
      "text/plain": [
       "{4, 5, 6, 7, 9, 10}"
      ]
     },
     "execution_count": 183,
     "metadata": {},
     "output_type": "execute_result"
    }
   ],
   "source": [
    "S1"
   ]
  },
  {
   "cell_type": "code",
   "execution_count": 187,
   "id": "d616dec4-b10a-4fe8-bbdc-776ce3eb3528",
   "metadata": {},
   "outputs": [
    {
     "data": {
      "text/plain": [
       "set()"
      ]
     },
     "execution_count": 187,
     "metadata": {},
     "output_type": "execute_result"
    }
   ],
   "source": [
    "S1.clear()\n",
    "S1"
   ]
  },
  {
   "cell_type": "code",
   "execution_count": 189,
   "id": "c65ced97-a7b7-4a96-96ac-2e338707b429",
   "metadata": {},
   "outputs": [
    {
     "data": {
      "text/plain": [
       "set()"
      ]
     },
     "execution_count": 189,
     "metadata": {},
     "output_type": "execute_result"
    }
   ],
   "source": [
    "S1"
   ]
  },
  {
   "cell_type": "markdown",
   "id": "7157f489-080b-4869-a204-b25153b0a331",
   "metadata": {},
   "source": [
    "# 6.operation"
   ]
  },
  {
   "cell_type": "code",
   "execution_count": 192,
   "id": "8396ab7a-bdc1-4503-82a8-0a19695c2115",
   "metadata": {},
   "outputs": [
    {
     "ename": "TypeError",
     "evalue": "unsupported operand type(s) for +: 'set' and 'set'",
     "output_type": "error",
     "traceback": [
      "\u001b[1;31m---------------------------------------------------------------------------\u001b[0m",
      "\u001b[1;31mTypeError\u001b[0m                                 Traceback (most recent call last)",
      "Cell \u001b[1;32mIn[192], line 3\u001b[0m\n\u001b[0;32m      1\u001b[0m S1\u001b[38;5;241m=\u001b[39m{\u001b[38;5;241m1\u001b[39m,\u001b[38;5;241m2\u001b[39m,\u001b[38;5;241m3\u001b[39m,\u001b[38;5;241m4\u001b[39m}\n\u001b[0;32m      2\u001b[0m S2\u001b[38;5;241m=\u001b[39m{\u001b[38;5;241m3\u001b[39m,\u001b[38;5;241m4\u001b[39m,\u001b[38;5;241m5\u001b[39m,\u001b[38;5;241m6\u001b[39m}\n\u001b[1;32m----> 3\u001b[0m S1\u001b[38;5;241m+\u001b[39mS2\n",
      "\u001b[1;31mTypeError\u001b[0m: unsupported operand type(s) for +: 'set' and 'set'"
     ]
    }
   ],
   "source": [
    "S1={1,2,3,4}\n",
    "S2={3,4,5,6}\n",
    "S1+S2"
   ]
  },
  {
   "cell_type": "code",
   "execution_count": 194,
   "id": "b1f7b6b5-d9e2-4a02-97a5-1e774cfa3abe",
   "metadata": {},
   "outputs": [
    {
     "ename": "TypeError",
     "evalue": "unsupported operand type(s) for *: 'set' and 'set'",
     "output_type": "error",
     "traceback": [
      "\u001b[1;31m---------------------------------------------------------------------------\u001b[0m",
      "\u001b[1;31mTypeError\u001b[0m                                 Traceback (most recent call last)",
      "Cell \u001b[1;32mIn[194], line 1\u001b[0m\n\u001b[1;32m----> 1\u001b[0m S1\u001b[38;5;241m*\u001b[39mS2\n",
      "\u001b[1;31mTypeError\u001b[0m: unsupported operand type(s) for *: 'set' and 'set'"
     ]
    }
   ],
   "source": [
    "S1*S2"
   ]
  },
  {
   "cell_type": "code",
   "execution_count": 198,
   "id": "856d6a23-97b5-4a05-9a4c-0a7e67da428f",
   "metadata": {},
   "outputs": [
    {
     "name": "stdout",
     "output_type": "stream",
     "text": [
      "1\n",
      "2\n",
      "3\n",
      "4\n"
     ]
    }
   ],
   "source": [
    "#iteration\n",
    "for i in S1:\n",
    "    print(i)"
   ]
  },
  {
   "cell_type": "code",
   "execution_count": 200,
   "id": "bb4afb8d-9452-4277-936e-766badd86d86",
   "metadata": {},
   "outputs": [
    {
     "data": {
      "text/plain": [
       "True"
      ]
     },
     "execution_count": 200,
     "metadata": {},
     "output_type": "execute_result"
    }
   ],
   "source": [
    "#member test\n",
    "1 in S1"
   ]
  },
  {
   "cell_type": "code",
   "execution_count": 202,
   "id": "c9320471-d49c-4db0-b904-9a98f66bcc2d",
   "metadata": {},
   "outputs": [
    {
     "data": {
      "text/plain": [
       "False"
      ]
     },
     "execution_count": 202,
     "metadata": {},
     "output_type": "execute_result"
    }
   ],
   "source": [
    "8 in S1"
   ]
  },
  {
   "cell_type": "code",
   "execution_count": 204,
   "id": "d499983a-da13-45e0-9300-975c0776ad7a",
   "metadata": {},
   "outputs": [],
   "source": [
    "S1={1,2,3,4,5}\n",
    "S2={3,4,5,6,7}"
   ]
  },
  {
   "cell_type": "code",
   "execution_count": 206,
   "id": "3a2a0ce3-f396-4554-9472-8ddb00f8da26",
   "metadata": {},
   "outputs": [
    {
     "data": {
      "text/plain": [
       "{1, 2, 3, 4, 5, 6, 7}"
      ]
     },
     "execution_count": 206,
     "metadata": {},
     "output_type": "execute_result"
    }
   ],
   "source": [
    "#union(|)\n",
    "S1|S2"
   ]
  },
  {
   "cell_type": "code",
   "execution_count": 214,
   "id": "9e367d69-b122-47dd-8192-88552e4aaa7f",
   "metadata": {},
   "outputs": [
    {
     "data": {
      "text/plain": [
       "{3, 4, 5}"
      ]
     },
     "execution_count": 214,
     "metadata": {},
     "output_type": "execute_result"
    }
   ],
   "source": [
    "#intersection\n",
    "S1 & S2"
   ]
  },
  {
   "cell_type": "code",
   "execution_count": 216,
   "id": "17ef2a5c-9498-4173-a116-9953b7cedb38",
   "metadata": {},
   "outputs": [
    {
     "data": {
      "text/plain": [
       "{1, 2}"
      ]
     },
     "execution_count": 216,
     "metadata": {},
     "output_type": "execute_result"
    }
   ],
   "source": [
    "#Difference(-)\n",
    "S1-S2"
   ]
  },
  {
   "cell_type": "code",
   "execution_count": 218,
   "id": "b40a67ea-ec33-4c81-965a-cf604ac83edb",
   "metadata": {},
   "outputs": [
    {
     "data": {
      "text/plain": [
       "{6, 7}"
      ]
     },
     "execution_count": 218,
     "metadata": {},
     "output_type": "execute_result"
    }
   ],
   "source": [
    "S2-S1"
   ]
  },
  {
   "cell_type": "code",
   "execution_count": 220,
   "id": "3138acf4-5483-406e-bf19-c91975cdb35d",
   "metadata": {},
   "outputs": [
    {
     "data": {
      "text/plain": [
       "{6, 7}"
      ]
     },
     "execution_count": 220,
     "metadata": {},
     "output_type": "execute_result"
    }
   ],
   "source": [
    "#Difference(-)\n",
    "S1-S2\n",
    "S2-S1"
   ]
  },
  {
   "cell_type": "code",
   "execution_count": 222,
   "id": "ce1e8f00-c142-491c-9199-83ff5c83d63c",
   "metadata": {},
   "outputs": [
    {
     "data": {
      "text/plain": [
       "{1, 2, 6, 7}"
      ]
     },
     "execution_count": 222,
     "metadata": {},
     "output_type": "execute_result"
    }
   ],
   "source": [
    "#symmetric difference(^)\n",
    "S1^S2"
   ]
  },
  {
   "cell_type": "markdown",
   "id": "5740cbff-9985-40f5-81e6-efd8211e373f",
   "metadata": {},
   "source": [
    "# 7.Function"
   ]
  },
  {
   "cell_type": "code",
   "execution_count": 225,
   "id": "949a603b-0761-4c25-bc77-e8fb2a7484c5",
   "metadata": {},
   "outputs": [],
   "source": [
    "# len()\n",
    "# min()\n",
    "# max()\n",
    "# sorted()"
   ]
  },
  {
   "cell_type": "code",
   "execution_count": 227,
   "id": "2ab6f05d-4449-4c46-9804-6e3a4e77cb21",
   "metadata": {},
   "outputs": [
    {
     "data": {
      "text/plain": [
       "5"
      ]
     },
     "execution_count": 227,
     "metadata": {},
     "output_type": "execute_result"
    }
   ],
   "source": [
    "len(S1)"
   ]
  },
  {
   "cell_type": "code",
   "execution_count": 229,
   "id": "451b3b2f-47c0-4ab9-9e83-47bb5261f6b7",
   "metadata": {},
   "outputs": [
    {
     "data": {
      "text/plain": [
       "1"
      ]
     },
     "execution_count": 229,
     "metadata": {},
     "output_type": "execute_result"
    }
   ],
   "source": [
    "min(S1)"
   ]
  },
  {
   "cell_type": "code",
   "execution_count": 231,
   "id": "801f5042-57f6-4442-a04b-3f415d905533",
   "metadata": {},
   "outputs": [
    {
     "data": {
      "text/plain": [
       "5"
      ]
     },
     "execution_count": 231,
     "metadata": {},
     "output_type": "execute_result"
    }
   ],
   "source": [
    "max(S1)"
   ]
  },
  {
   "cell_type": "code",
   "execution_count": 233,
   "id": "28f43d5d-7a23-44b7-a7ca-af72df8ec7ae",
   "metadata": {},
   "outputs": [
    {
     "data": {
      "text/plain": [
       "[1, 2, 3, 4, 5]"
      ]
     },
     "execution_count": 233,
     "metadata": {},
     "output_type": "execute_result"
    }
   ],
   "source": [
    "sorted(S1)\n",
    "       "
   ]
  },
  {
   "cell_type": "code",
   "execution_count": 239,
   "id": "42411d98-1704-424d-bfd0-64cb64040286",
   "metadata": {},
   "outputs": [
    {
     "data": {
      "text/plain": [
       "[5, 4, 3, 2, 1]"
      ]
     },
     "execution_count": 239,
     "metadata": {},
     "output_type": "execute_result"
    }
   ],
   "source": [
    "sorted(S1,reverse=True)"
   ]
  },
  {
   "cell_type": "code",
   "execution_count": 243,
   "id": "4ebdf853-51c3-4663-a42c-9916a71c1fd9",
   "metadata": {},
   "outputs": [
    {
     "data": {
      "text/plain": [
       "{1, 2, 3, 4, 5}"
      ]
     },
     "execution_count": 243,
     "metadata": {},
     "output_type": "execute_result"
    }
   ],
   "source": [
    "S1"
   ]
  },
  {
   "cell_type": "code",
   "execution_count": 245,
   "id": "b511b03d-1d1f-4438-b2c3-d3fc44724639",
   "metadata": {},
   "outputs": [
    {
     "data": {
      "text/plain": [
       "{3, 4, 5, 6, 7}"
      ]
     },
     "execution_count": 245,
     "metadata": {},
     "output_type": "execute_result"
    }
   ],
   "source": [
    "S2"
   ]
  },
  {
   "cell_type": "code",
   "execution_count": 251,
   "id": "2ca3f31d-a6b0-4cc7-897b-63a4b6143830",
   "metadata": {},
   "outputs": [
    {
     "data": {
      "text/plain": [
       "{1, 2, 3, 4, 5, 6, 7}"
      ]
     },
     "execution_count": 251,
     "metadata": {},
     "output_type": "execute_result"
    }
   ],
   "source": [
    "(S1).union (S2)"
   ]
  },
  {
   "cell_type": "code",
   "execution_count": 253,
   "id": "f3f08b3f-c006-4e58-a021-ca38e195ad2b",
   "metadata": {},
   "outputs": [
    {
     "data": {
      "text/plain": [
       "{3, 4, 5}"
      ]
     },
     "execution_count": 253,
     "metadata": {},
     "output_type": "execute_result"
    }
   ],
   "source": [
    "(S1).intersection(S2)"
   ]
  },
  {
   "cell_type": "code",
   "execution_count": 257,
   "id": "3389b003-341c-417e-8a2b-ba2835876dca",
   "metadata": {},
   "outputs": [
    {
     "data": {
      "text/plain": [
       "{1, 2}"
      ]
     },
     "execution_count": 257,
     "metadata": {},
     "output_type": "execute_result"
    }
   ],
   "source": [
    "S1.difference(S2)"
   ]
  },
  {
   "cell_type": "code",
   "execution_count": 261,
   "id": "b76cc13c-fcf6-4305-86b5-ec9c58284228",
   "metadata": {},
   "outputs": [
    {
     "data": {
      "text/plain": [
       "{6, 7}"
      ]
     },
     "execution_count": 261,
     "metadata": {},
     "output_type": "execute_result"
    }
   ],
   "source": [
    "S2.difference (S1)"
   ]
  },
  {
   "cell_type": "code",
   "execution_count": 263,
   "id": "b7ff1722-a6d9-4e83-a32d-042b55fcd182",
   "metadata": {},
   "outputs": [
    {
     "data": {
      "text/plain": [
       "{1, 2, 6, 7}"
      ]
     },
     "execution_count": 263,
     "metadata": {},
     "output_type": "execute_result"
    }
   ],
   "source": [
    "S1.symmetric_difference(S2)"
   ]
  },
  {
   "cell_type": "code",
   "execution_count": 265,
   "id": "b5b88eed-641e-475a-88d3-58b8e98f1344",
   "metadata": {},
   "outputs": [
    {
     "data": {
      "text/plain": [
       "False"
      ]
     },
     "execution_count": 265,
     "metadata": {},
     "output_type": "execute_result"
    }
   ],
   "source": [
    "S1.isdisjoint(S2)"
   ]
  },
  {
   "cell_type": "code",
   "execution_count": 267,
   "id": "a08e806d-31a4-4558-987d-d4d75d760663",
   "metadata": {},
   "outputs": [
    {
     "data": {
      "text/plain": [
       "False"
      ]
     },
     "execution_count": 267,
     "metadata": {},
     "output_type": "execute_result"
    }
   ],
   "source": [
    "S1.issubset(S2)"
   ]
  },
  {
   "cell_type": "code",
   "execution_count": 269,
   "id": "3a313164-e6c5-4055-b38e-1c2bc18a91d1",
   "metadata": {},
   "outputs": [
    {
     "data": {
      "text/plain": [
       "False"
      ]
     },
     "execution_count": 269,
     "metadata": {},
     "output_type": "execute_result"
    }
   ],
   "source": [
    "S1.issuperset(S2)"
   ]
  },
  {
   "cell_type": "code",
   "execution_count": 271,
   "id": "c39749c5-094b-4c8d-8292-53872c4ecdbe",
   "metadata": {},
   "outputs": [
    {
     "data": {
      "text/plain": [
       "set()"
      ]
     },
     "execution_count": 271,
     "metadata": {},
     "output_type": "execute_result"
    }
   ],
   "source": [
    "S1.clear()\n",
    "S1"
   ]
  },
  {
   "cell_type": "code",
   "execution_count": 273,
   "id": "513e6ab4-370f-4e14-85a6-495405563213",
   "metadata": {},
   "outputs": [
    {
     "name": "stdout",
     "output_type": "stream",
     "text": [
      "{1, 2, 3}\n",
      "{1, 2, 3}\n"
     ]
    }
   ],
   "source": [
    "# copy\n",
    "s1 = {1, 2, 3}\n",
    "s2 = s1.copy()\n",
    "print(s1)\n",
    "print(s2)"
   ]
  },
  {
   "cell_type": "markdown",
   "id": "91244dc0-b69c-4cc5-ae8b-b57a87d47d12",
   "metadata": {},
   "source": [
    "# 8.Frozen set\n",
    "#Frozen set\n",
    "#Immutable set.\n",
    "#Created via frozenset().\n",
    "#Ideal for hashable items: strings, numbers"
   ]
  },
  {
   "cell_type": "code",
   "execution_count": 283,
   "id": "b9a015db-17c4-4756-943e-e62e10f3014d",
   "metadata": {},
   "outputs": [
    {
     "data": {
      "text/plain": [
       "frozenset({1, 2, 3, 4, 5})"
      ]
     },
     "execution_count": 283,
     "metadata": {},
     "output_type": "execute_result"
    }
   ],
   "source": [
    "# create frozenset\n",
    "fs1 = frozenset([1, 2, 3])\n",
    "fs2 = frozenset([3, 4, 5])\n",
    "fs1 | fs2\n"
   ]
  },
  {
   "cell_type": "code",
   "execution_count": 285,
   "id": "d2e4fb41-d8a4-4b9f-a33b-c990c606b48f",
   "metadata": {},
   "outputs": [],
   "source": [
    "# what works and what does not\n",
    "# Works       ---> all read functions\n",
    "# Doesn't Work ---> write o"
   ]
  },
  {
   "cell_type": "markdown",
   "id": "fd2240b9-c9cf-42f5-b4c1-5056311e951b",
   "metadata": {},
   "source": [
    "# set comprehension"
   ]
  },
  {
   "cell_type": "code",
   "execution_count": 291,
   "id": "14d43771-9bac-445a-9bfa-ef7f5ed80714",
   "metadata": {},
   "outputs": [
    {
     "data": {
      "text/plain": [
       "{36, 49, 64, 81, 100}"
      ]
     },
     "execution_count": 291,
     "metadata": {},
     "output_type": "execute_result"
    }
   ],
   "source": [
    "# examples\n",
    "{i**2 for i in range(1, 11) if i>5}"
   ]
  },
  {
   "cell_type": "code",
   "execution_count": null,
   "id": "ca6ec8ca-eece-41f1-95f9-853c38a31052",
   "metadata": {},
   "outputs": [],
   "source": []
  }
 ],
 "metadata": {
  "kernelspec": {
   "display_name": "Python [conda env:base] *",
   "language": "python",
   "name": "conda-base-py"
  },
  "language_info": {
   "codemirror_mode": {
    "name": "ipython",
    "version": 3
   },
   "file_extension": ".py",
   "mimetype": "text/x-python",
   "name": "python",
   "nbconvert_exporter": "python",
   "pygments_lexer": "ipython3",
   "version": "3.12.7"
  }
 },
 "nbformat": 4,
 "nbformat_minor": 5
}
