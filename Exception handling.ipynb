{
 "cells": [
  {
   "cell_type": "markdown",
   "id": "7c3f108c-dc91-4d11-ad99-35188b019d37",
   "metadata": {},
   "source": [
    "# What is exception  handling ?"
   ]
  },
  {
   "cell_type": "raw",
   "id": "7905ecde-5cd7-4152-b2c5-bc34076113b7",
   "metadata": {},
   "source": [
    "exception handling is a mechanism in python that allows you to handle errors gracefully instead of crasing the program.\n",
    "It insures that even are occur the programe can continue running provide a meaningful error or message \n",
    "types of error in python:\n",
    "before dividing into exception handling lets learn type of python\n",
    "types of syntax error(compile time error):\n",
    "this occur when python fails to interupt the code due to incorrect syntax.\n",
    "\n"
   ]
  },
  {
   "cell_type": "code",
   "execution_count": 6,
   "id": "b27a5bad-7455-4f77-b490-2356c733446b",
   "metadata": {},
   "outputs": [
    {
     "ename": "SyntaxError",
     "evalue": "incomplete input (2586951544.py, line 8)",
     "output_type": "error",
     "traceback": [
      "\u001b[1;36m  Cell \u001b[1;32mIn[6], line 8\u001b[1;36m\u001b[0m\n\u001b[1;33m    \u001b[0m\n\u001b[1;37m    ^\u001b[0m\n\u001b[1;31mSyntaxError\u001b[0m\u001b[1;31m:\u001b[0m incomplete input\n"
     ]
    }
   ],
   "source": [
    "print(\"hello world\"      #missisng closing paranthesis\n",
    "     # syntex error()  unexpected eof while presting\n",
    "      \n",
    "\n",
    "    #  solution  :       fix the syntax before running the code \n",
    "    #Exception:          (Run time error)\n",
    "    #execute:            this occur during programe when an operation is invalid\n",
    "    "
   ]
  },
  {
   "cell_type": "code",
   "execution_count": 7,
   "id": "07d01998-ba00-4482-94b8-7e34e827d5b2",
   "metadata": {},
   "outputs": [
    {
     "name": "stdin",
     "output_type": "stream",
     "text": [
      "enter the number 4\n"
     ]
    },
    {
     "name": "stdout",
     "output_type": "stream",
     "text": [
      "multiplication table of 4is:\n",
      "4*1=int4*1\n",
      "4*2=int4*2\n",
      "4*3=int4*3\n",
      "4*4=int4*4\n",
      "4*5=int4*5\n",
      "4*6=int4*6\n",
      "4*7=int4*7\n",
      "4*8=int4*8\n",
      "4*9=int4*9\n",
      "4*10=int4*10\n"
     ]
    }
   ],
   "source": [
    "a=input(\"enter the number\")\n",
    "print(f\"multiplication table of {a}is:\")\n",
    "try:\n",
    "    for i in range (1,11):\n",
    "        print(f\"{int(a)}*{i}=int{a}*{i}\")\n",
    "except:\n",
    "    print(\"invalid input\")\n",
    "    print(\"some important line of code\")\n",
    "    print(\"end of program\")"
   ]
  },
  {
   "cell_type": "code",
   "execution_count": 5,
   "id": "31593cec-06b5-4da9-b429-ebf236bac519",
   "metadata": {},
   "outputs": [
    {
     "name": "stdin",
     "output_type": "stream",
     "text": [
      "enter the number rohit\n"
     ]
    },
    {
     "name": "stdout",
     "output_type": "stream",
     "text": [
      "multiplication table of rohitis:\n",
      "invalid input\n",
      "some important line of code\n",
      "end of program\n"
     ]
    }
   ],
   "source": [
    "a=input(\"enter the number\")\n",
    "print(f\"multiplication table of {a}is:\")\n",
    "try:\n",
    "    for i in range (1,11):\n",
    "        print(f\"{int(a)}*{i}=int{a}*{i}\")\n",
    "except:\n",
    "    print(\"invalid input\")\n",
    "    print(\"some important line of code\")\n",
    "    print(\"end of program\")\n",
    "    "
   ]
  },
  {
   "cell_type": "code",
   "execution_count": null,
   "id": "04afa3ab-bf59-498c-a510-4232b4815eeb",
   "metadata": {},
   "outputs": [],
   "source": []
  }
 ],
 "metadata": {
  "kernelspec": {
   "display_name": "Python 3 (ipykernel)",
   "language": "python",
   "name": "python3"
  },
  "language_info": {
   "codemirror_mode": {
    "name": "ipython",
    "version": 3
   },
   "file_extension": ".py",
   "mimetype": "text/x-python",
   "name": "python",
   "nbconvert_exporter": "python",
   "pygments_lexer": "ipython3",
   "version": "3.12.7"
  }
 },
 "nbformat": 4,
 "nbformat_minor": 5
}
