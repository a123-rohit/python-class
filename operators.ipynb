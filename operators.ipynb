{
 "cells": [
  {
   "cell_type": "markdown",
   "id": "e7471223-a8a2-4487-baca-49b56f936ee5",
   "metadata": {},
   "source": [
    "# Operators in Python"
   ]
  },
  {
   "cell_type": "code",
   "execution_count": 2,
   "id": "0af0d614-1c73-45e2-8f45-f9a57f927636",
   "metadata": {},
   "outputs": [],
   "source": [
    "#Arithmetic: +, -, *, /, %, **, //\n",
    "#Comparison: ==, !=, >, <, >=, <=\n",
    "#Logical: and, or, not\n",
    "#Bitwise: &, |, ^, ~, <<, >>\n",
    "#Assignment: =, +=, -=, *=, /=, %=, **=, //=\n",
    "#Identity: is, is not\n",
    "#Membership: in, not in"
   ]
  },
  {
   "cell_type": "markdown",
   "id": "6760c38a-c147-4182-9669-692f2855a0f7",
   "metadata": {},
   "source": [
    "# 1.Arithmatic operation"
   ]
  },
  {
   "cell_type": "code",
   "execution_count": 29,
   "id": "44af4664-1e3e-41c4-ab9e-9846cc47bf7a",
   "metadata": {},
   "outputs": [
    {
     "name": "stdout",
     "output_type": "stream",
     "text": [
      "20\n"
     ]
    }
   ],
   "source": [
    "x=15\n",
    "y=5\n",
    "print(x+y)"
   ]
  },
  {
   "cell_type": "code",
   "execution_count": 31,
   "id": "7359a1de-7832-4254-9e4d-61a2bcb242c6",
   "metadata": {},
   "outputs": [
    {
     "name": "stdout",
     "output_type": "stream",
     "text": [
      "10\n"
     ]
    }
   ],
   "source": [
    "print(x-y)"
   ]
  },
  {
   "cell_type": "code",
   "execution_count": 33,
   "id": "54f1f515-e887-4019-b5e9-faa89066ace4",
   "metadata": {},
   "outputs": [
    {
     "name": "stdout",
     "output_type": "stream",
     "text": [
      "75\n"
     ]
    }
   ],
   "source": [
    "print(x*y)"
   ]
  },
  {
   "cell_type": "code",
   "execution_count": 35,
   "id": "2dd55930-57c8-4177-befe-39cc2692957a",
   "metadata": {},
   "outputs": [
    {
     "name": "stdout",
     "output_type": "stream",
     "text": [
      "3.0\n"
     ]
    }
   ],
   "source": [
    "print(x/y)"
   ]
  },
  {
   "cell_type": "code",
   "execution_count": 37,
   "id": "47cb3df8-cc1f-4007-be9f-f5f40d25865a",
   "metadata": {},
   "outputs": [
    {
     "name": "stdout",
     "output_type": "stream",
     "text": [
      "0\n"
     ]
    }
   ],
   "source": [
    "print(x%y)#prob"
   ]
  },
  {
   "cell_type": "code",
   "execution_count": 39,
   "id": "abd1dd08-f491-41f6-8c53-0cbf22035fb9",
   "metadata": {},
   "outputs": [
    {
     "name": "stdout",
     "output_type": "stream",
     "text": [
      "759375\n"
     ]
    }
   ],
   "source": [
    " print(x**y)#prob"
   ]
  },
  {
   "cell_type": "code",
   "execution_count": 41,
   "id": "cd6c0045-71c4-44e0-aa19-f8168ecd87fd",
   "metadata": {},
   "outputs": [
    {
     "name": "stdout",
     "output_type": "stream",
     "text": [
      "3\n"
     ]
    }
   ],
   "source": [
    "print(x//y)"
   ]
  },
  {
   "cell_type": "markdown",
   "id": "a0d65fa1-aa6f-444a-aec6-52e0872cb707",
   "metadata": {},
   "source": [
    "# 2. comperision test"
   ]
  },
  {
   "cell_type": "code",
   "execution_count": 53,
   "id": "78e674c7-177d-4eb3-aebd-5c96fdf09ff1",
   "metadata": {},
   "outputs": [],
   "source": [
    "x=8\n",
    "y=2"
   ]
  },
  {
   "cell_type": "code",
   "execution_count": 59,
   "id": "ed98cee9-0ddb-4796-8916-9365b08a7846",
   "metadata": {},
   "outputs": [
    {
     "name": "stdout",
     "output_type": "stream",
     "text": [
      "False\n"
     ]
    }
   ],
   "source": [
    "print(x<y)"
   ]
  },
  {
   "cell_type": "code",
   "execution_count": 61,
   "id": "ce3fe76c-7d3a-4348-904c-6d6e8cda2c88",
   "metadata": {},
   "outputs": [
    {
     "name": "stdout",
     "output_type": "stream",
     "text": [
      "True\n"
     ]
    }
   ],
   "source": [
    "print(x>y)"
   ]
  },
  {
   "cell_type": "code",
   "execution_count": 65,
   "id": "9b1faf58-e65b-466d-9481-d0182b701a0d",
   "metadata": {},
   "outputs": [
    {
     "name": "stdout",
     "output_type": "stream",
     "text": [
      "False\n"
     ]
    }
   ],
   "source": [
    "print(x==y)"
   ]
  },
  {
   "cell_type": "code",
   "execution_count": 67,
   "id": "09780d18-87ed-4945-9b1b-723597616fdc",
   "metadata": {},
   "outputs": [
    {
     "name": "stdout",
     "output_type": "stream",
     "text": [
      "True\n"
     ]
    }
   ],
   "source": [
    "print(x!=y)"
   ]
  },
  {
   "cell_type": "code",
   "execution_count": 69,
   "id": "85c26c07-e393-4749-ad0d-86627468a3d6",
   "metadata": {},
   "outputs": [
    {
     "name": "stdout",
     "output_type": "stream",
     "text": [
      "False\n"
     ]
    }
   ],
   "source": [
    "print(x<=y)"
   ]
  },
  {
   "cell_type": "code",
   "execution_count": 71,
   "id": "a96dcd95-e4f2-43a6-9b9e-6828dfb7fec5",
   "metadata": {},
   "outputs": [
    {
     "name": "stdout",
     "output_type": "stream",
     "text": [
      "True\n"
     ]
    }
   ],
   "source": [
    "print(x>=y)"
   ]
  },
  {
   "cell_type": "markdown",
   "id": "1f452374-daad-402a-bbfe-131de88f8659",
   "metadata": {},
   "source": [
    "# 3.logical"
   ]
  },
  {
   "cell_type": "code",
   "execution_count": 84,
   "id": "6906be3d-f2dc-48bd-abbf-5d5f834e4e56",
   "metadata": {},
   "outputs": [
    {
     "name": "stdout",
     "output_type": "stream",
     "text": [
      "True\n"
     ]
    }
   ],
   "source": [
    "x=True\n",
    "y=False\n",
    "print(x or y)"
   ]
  },
  {
   "cell_type": "code",
   "execution_count": 86,
   "id": "3f962cc8-4886-47f8-9810-5bae64eec7b3",
   "metadata": {},
   "outputs": [
    {
     "name": "stdout",
     "output_type": "stream",
     "text": [
      "False\n"
     ]
    }
   ],
   "source": [
    "print(x and y)"
   ]
  },
  {
   "cell_type": "code",
   "execution_count": 88,
   "id": "0efbe4cd-e5df-4ac9-9b6e-5196f49e49a5",
   "metadata": {},
   "outputs": [
    {
     "name": "stdout",
     "output_type": "stream",
     "text": [
      "False\n"
     ]
    }
   ],
   "source": [
    "print(not x)"
   ]
  },
  {
   "cell_type": "code",
   "execution_count": 90,
   "id": "67e473cd-ca3d-4762-9e69-503abcbbedbb",
   "metadata": {},
   "outputs": [
    {
     "name": "stdout",
     "output_type": "stream",
     "text": [
      "True\n"
     ]
    }
   ],
   "source": [
    "print(not y)"
   ]
  },
  {
   "cell_type": "markdown",
   "id": "57407983-aa5e-4451-80f1-8e718395482c",
   "metadata": {},
   "source": [
    "# 4. Bitwise operators"
   ]
  },
  {
   "cell_type": "code",
   "execution_count": 93,
   "id": "2a6295aa-87c0-4b02-a240-cc9d8cf94d34",
   "metadata": {},
   "outputs": [],
   "source": [
    "x=2\n",
    "y=3"
   ]
  },
  {
   "cell_type": "code",
   "execution_count": 95,
   "id": "a11ae223-37fa-498b-99f3-7ad6c8443720",
   "metadata": {},
   "outputs": [
    {
     "name": "stdout",
     "output_type": "stream",
     "text": [
      "2\n"
     ]
    }
   ],
   "source": [
    "print(x&y)#& is AND"
   ]
  },
  {
   "cell_type": "code",
   "execution_count": 107,
   "id": "b2615ffc-2c03-48a2-8aca-84d69d59824e",
   "metadata": {},
   "outputs": [
    {
     "name": "stdout",
     "output_type": "stream",
     "text": [
      "3\n"
     ]
    }
   ],
   "source": [
    "print(x |y)#| is OR"
   ]
  },
  {
   "cell_type": "markdown",
   "id": "5655ade0-36bb-4cca-89a8-3d094bddf60c",
   "metadata": {},
   "source": [
    "# 5.Assignment operators"
   ]
  },
  {
   "cell_type": "code",
   "execution_count": 112,
   "id": "0c7064e0-c677-4ffd-9afd-e9093d7c3f59",
   "metadata": {},
   "outputs": [
    {
     "name": "stdout",
     "output_type": "stream",
     "text": [
      "3\n"
     ]
    }
   ],
   "source": [
    "a=3 \n",
    "print(a)"
   ]
  },
  {
   "cell_type": "code",
   "execution_count": 122,
   "id": "50916fbc-c2a1-434b-aaa9-f22f91f402e7",
   "metadata": {},
   "outputs": [
    {
     "name": "stdout",
     "output_type": "stream",
     "text": [
      "6\n"
     ]
    }
   ],
   "source": [
    "a += 3\n",
    "print(a)"
   ]
  },
  {
   "cell_type": "code",
   "execution_count": 124,
   "id": "5427411e-0528-4d9a-9630-35c94deb6fe9",
   "metadata": {},
   "outputs": [
    {
     "name": "stdout",
     "output_type": "stream",
     "text": [
      "6\n"
     ]
    }
   ],
   "source": [
    "print(a)"
   ]
  },
  {
   "cell_type": "code",
   "execution_count": 126,
   "id": "f707c146-1663-40be-9ea5-f0a398315755",
   "metadata": {},
   "outputs": [],
   "source": [
    "a -= 4"
   ]
  },
  {
   "cell_type": "code",
   "execution_count": 128,
   "id": "9a3f3f3e-79c8-41a0-92db-34c44cf34b54",
   "metadata": {},
   "outputs": [
    {
     "name": "stdout",
     "output_type": "stream",
     "text": [
      "2\n"
     ]
    }
   ],
   "source": [
    "print(a)"
   ]
  },
  {
   "cell_type": "code",
   "execution_count": 132,
   "id": "086d0f6b-86e7-4e75-b744-634f71c66e16",
   "metadata": {},
   "outputs": [
    {
     "name": "stdout",
     "output_type": "stream",
     "text": [
      "8\n"
     ]
    }
   ],
   "source": [
    "a *= 4\n",
    "print(a)"
   ]
  },
  {
   "cell_type": "code",
   "execution_count": 134,
   "id": "8e73a8a3-aead-4906-9565-7d4ce0542166",
   "metadata": {},
   "outputs": [
    {
     "name": "stdout",
     "output_type": "stream",
     "text": [
      "1.0\n"
     ]
    }
   ],
   "source": [
    "a /=8\n",
    "print(a)"
   ]
  },
  {
   "cell_type": "markdown",
   "id": "9159d737-9eb8-4856-b63f-cfccee093f6e",
   "metadata": {},
   "source": [
    "# 5.Identity operators"
   ]
  },
  {
   "cell_type": "code",
   "execution_count": 141,
   "id": "a9e4e598-453c-4924-afc7-08b0107a0780",
   "metadata": {},
   "outputs": [
    {
     "name": "stdout",
     "output_type": "stream",
     "text": [
      "True\n"
     ]
    }
   ],
   "source": [
    "a=3\n",
    "b=3\n",
    "print(a is b)"
   ]
  },
  {
   "cell_type": "code",
   "execution_count": 143,
   "id": "d4ec1fd6-b807-4de8-afa7-f59e2528d6db",
   "metadata": {},
   "outputs": [
    {
     "name": "stdout",
     "output_type": "stream",
     "text": [
      "True\n"
     ]
    }
   ],
   "source": [
    "a=(\"hello\")\n",
    "b=(\"hello\")\n",
    "print(b in a)"
   ]
  },
  {
   "cell_type": "code",
   "execution_count": 145,
   "id": "a6e79430-68c5-4070-b6ee-f565f61db6dc",
   "metadata": {},
   "outputs": [
    {
     "name": "stdout",
     "output_type": "stream",
     "text": [
      "False\n"
     ]
    }
   ],
   "source": [
    "a={1,2,3,4}\n",
    "b={1,2,3,4}\n",
    "print(a in b)"
   ]
  },
  {
   "cell_type": "markdown",
   "id": "08486963-c2da-4595-b650-38c3a34d14ad",
   "metadata": {},
   "source": [
    "# 6.Membership operators"
   ]
  },
  {
   "cell_type": "code",
   "execution_count": null,
   "id": "972d35f4-4946-4e32-9676-c4bfb3c8a689",
   "metadata": {},
   "outputs": [],
   "source": []
  }
 ],
 "metadata": {
  "kernelspec": {
   "display_name": "Python [conda env:base] *",
   "language": "python",
   "name": "conda-base-py"
  },
  "language_info": {
   "codemirror_mode": {
    "name": "ipython",
    "version": 3
   },
   "file_extension": ".py",
   "mimetype": "text/x-python",
   "name": "python",
   "nbconvert_exporter": "python",
   "pygments_lexer": "ipython3",
   "version": "3.12.7"
  }
 },
 "nbformat": 4,
 "nbformat_minor": 5
}
