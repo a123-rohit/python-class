{
 "cells": [
  {
   "cell_type": "code",
   "execution_count": 40,
   "id": "3ed50917-00f1-4cb3-85cd-4b9c99751b67",
   "metadata": {},
   "outputs": [
    {
     "ename": "SyntaxError",
     "evalue": "invalid syntax (1055036568.py, line 1)",
     "output_type": "error",
     "traceback": [
      "\u001b[1;36m  Cell \u001b[1;32mIn[40], line 1\u001b[1;36m\u001b[0m\n\u001b[1;33m    def sum((num 1),(num 2)):\u001b[0m\n\u001b[1;37m            ^\u001b[0m\n\u001b[1;31mSyntaxError\u001b[0m\u001b[1;31m:\u001b[0m invalid syntax\n"
     ]
    }
   ],
   "source": [
    "def sum((num 1),(num 2)):\n",
    "num 1=int(input('enter num 1'))\n",
    "num 2=int(input('enter num 2'))\n",
    "    print(enter num 1+enter num 2)\n"
   ]
  },
  {
   "cell_type": "code",
   "execution_count": 94,
   "id": "d3156cdc-2d47-4eed-b6a7-97e551b691ba",
   "metadata": {},
   "outputs": [
    {
     "ename": "NameError",
     "evalue": "name 'result' is not defined",
     "output_type": "error",
     "traceback": [
      "\u001b[1;31m---------------------------------------------------------------------------\u001b[0m",
      "\u001b[1;31mNameError\u001b[0m                                 Traceback (most recent call last)",
      "Cell \u001b[1;32mIn[94], line 5\u001b[0m\n\u001b[0;32m      3\u001b[0m     b\u001b[38;5;241m=\u001b[39m\u001b[38;5;28mint\u001b[39m(\u001b[38;5;28minput\u001b[39m(\u001b[38;5;124m'\u001b[39m\u001b[38;5;124menter second number:\u001b[39m\u001b[38;5;124m'\u001b[39m))    \n\u001b[0;32m      4\u001b[0m     result\u001b[38;5;241m=\u001b[39m\u001b[38;5;28msum\u001b[39m(a\u001b[38;5;241m+\u001b[39mb)\n\u001b[1;32m----> 5\u001b[0m \u001b[38;5;28mprint\u001b[39m(result)\n",
      "\u001b[1;31mNameError\u001b[0m: name 'result' is not defined"
     ]
    }
   ],
   "source": [
    "def sum(a,b):\n",
    "    a=int(input('enter first number:'))\n",
    "    b=int(input('enter second number:'))    \n",
    "    result=sum(a+b)\n",
    "print(result)    "
   ]
  },
  {
   "cell_type": "code",
   "execution_count": 44,
   "id": "7c0fc155-728e-48e6-a7f6-85986bef64e8",
   "metadata": {},
   "outputs": [
    {
     "data": {
      "text/plain": [
       "8"
      ]
     },
     "execution_count": 44,
     "metadata": {},
     "output_type": "execute_result"
    }
   ],
   "source": [
    "def mul(a,b):\n",
    "    return(a*b)\n",
    "mul(2,4)"
   ]
  },
  {
   "cell_type": "code",
   "execution_count": 68,
   "id": "733b0363-c0d4-4422-a1b0-6c6c236d22f5",
   "metadata": {},
   "outputs": [
    {
     "name": "stdout",
     "output_type": "stream",
     "text": [
      "[1, 4, 9, 16, 25]\n"
     ]
    }
   ],
   "source": [
    "numbers=[1,2,3,4,5]\n",
    "  # sequering each number using map()\n",
    "a=list(map(lambda x:x**2,numbers))\n",
    "print(a)"
   ]
  },
  {
   "cell_type": "code",
   "execution_count": 76,
   "id": "a034897c-7b4f-4a18-87b0-9bb9c8bea1e0",
   "metadata": {},
   "outputs": [
    {
     "name": "stdout",
     "output_type": "stream",
     "text": [
      "['HELLO', 'WORLD', 'KEYWORD']\n"
     ]
    }
   ],
   "source": [
    "words=[\"hello\",\"world\",\"keyword\"]\n",
    "upper_case=list(map(str.upper,words))\n",
    "print(upper_case)"
   ]
  },
  {
   "cell_type": "code",
   "execution_count": 86,
   "id": "0de77cc8-8e95-4e6a-bb54-bc90f3b6191d",
   "metadata": {},
   "outputs": [
    {
     "name": "stdout",
     "output_type": "stream",
     "text": [
      "[4, 16, 36, 64]\n"
     ]
    }
   ],
   "source": [
    "numbers=[1,2,3,4,5,6,7,8]\n",
    "\n",
    "  # first filter even numbers,then square them\n",
    "even_squares=list(map(lambda x: x ** 2,filter(lambda x: x % 2==0,numbers)))\n",
    "print(even_squares)"
   ]
  },
  {
   "cell_type": "code",
   "execution_count": 82,
   "id": "46933d83-dff4-411c-ba0c-650e75f9001f",
   "metadata": {},
   "outputs": [
    {
     "name": "stdout",
     "output_type": "stream",
     "text": [
      "[4, 16, 36, 64]\n"
     ]
    }
   ],
   "source": [
    "numbers = [1, 2, 3, 4, 5, 6, 7, 8]\n",
    "\n",
    "# First filter even numbers, then square them\n",
    "even_squares = list(map(lambda x: x ** 2, filter(lambda x: x % 2 == 0, numbers)))\n",
    "\n",
    "print(even_squares)"
   ]
  },
  {
   "cell_type": "code",
   "execution_count": null,
   "id": "e7922bc3-82d8-4464-8ced-31e0da435b5a",
   "metadata": {},
   "outputs": [],
   "source": []
  }
 ],
 "metadata": {
  "kernelspec": {
   "display_name": "Python [conda env:base] *",
   "language": "python",
   "name": "conda-base-py"
  },
  "language_info": {
   "codemirror_mode": {
    "name": "ipython",
    "version": 3
   },
   "file_extension": ".py",
   "mimetype": "text/x-python",
   "name": "python",
   "nbconvert_exporter": "python",
   "pygments_lexer": "ipython3",
   "version": "3.12.7"
  }
 },
 "nbformat": 4,
 "nbformat_minor": 5
}
