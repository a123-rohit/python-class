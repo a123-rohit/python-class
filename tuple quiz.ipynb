{
 "cells": [
  {
   "cell_type": "markdown",
   "id": "5e3e619a-6d32-4273-93c1-e01b3e8ae9f9",
   "metadata": {},
   "source": [
    "Tuple Quiz (20 Questions)\n",
    "Basic Questions\n",
    "What is a tuple in Python?\n",
    "a) A mutable data structure\n",
    "b) An immutable data structure    ()\n",
    "c) A dictionary\n",
    "d) A function\n",
    "\n",
    "How do you create an empty tuple?\n",
    "a) t = []\n",
    "b) t = {}\n",
    "c) t = ()     ()\n",
    "d) t = None\n",
    "\n",
    "Which of the following is a correct way to create a tuple with a single element?\n",
    "a) t = (10,)   ()\n",
    "b) t = (10)\n",
    "c) t = [10]\n",
    "d) t = {10}\n",
    "\n",
    "What is the main difference between a tuple and a list?\n",
    "a) Tuples are mutable, lists are immutable\n",
    "b) Tuples are immutable, lists are mutable        ()\n",
    "c) Tuples store only numbers\n",
    "d) Lists take less memory than tuples\n",
    "\n",
    "Which function is used to find the length of a tuple?\n",
    "a) size()\n",
    "b) count()\n",
    "c) length()\n",
    "d) len()     ()\n",
    "\n",
    "# Indexing & Slicing\n",
    "How do you access the first element of a tuple t = (10, 20, 30, 40)?\n",
    "a) t[1]   ()\n",
    "b) t[0]\n",
    "c) t[-1]\n",
    "d) t.first()\n",
    "\n",
    "How do you access the last element of a tuple?\n",
    "a) t[-1]    ()\n",
    "b) t[0]\n",
    "c) t[1]\n",
    "d) t.last()\n",
    "\n",
    "What will be the output of t = (10, 20, 30, 40); print(t[1:3])?\n",
    "a) (20, 30, 40)       ()\n",
    "b) (20, 30)\n",
    "c) (10, 20, 30)\n",
    "d) (30, 40)\n",
    "\n",
    "What happens if you try to change an element in a tuple?\n",
    "a) It gets updated\n",
    "b) It raises an error   ()\n",
    "c) It creates a copy of the tuple\n",
    "d) It adds a new element\n",
    "\n",
    "How do you find the index of an element in a tuple?\n",
    "a) t.find(value)\n",
    "b) t.index(value)   ()\n",
    "c) t.locate(value)\n",
    "d) t.search(value)\n",
    "\n",
    "#  Tuple Operations\n",
    "How do you concatenate two tuples t1 = (1, 2) and t2 = (3, 4)?\n",
    "a) t1 + t2   ()\n",
    "b) t1 * t2\n",
    "c) t1.concat(t2)\n",
    "d) t1.append(t2)\n",
    "\n",
    "What will be the output of ('a', 'b') * 3?\n",
    "a) ('a', 'b', 'a', 'b', 'a', 'b')     ()\n",
    "b) ('a', 'b', 'a', 'b')\n",
    "c) ('aaa', 'bbb')\n",
    "d) ('a', 'a', 'a', 'b', 'b', 'b')\n",
    "\n",
    "How do you check if an element exists in a tuple t = (10, 20, 30)?\n",
    "a) exists(20, t)   \n",
    "b) t.contains(20)\n",
    "c) 20 in t     ()\n",
    "d) t.has(20)\n",
    "\n",
    "What will be the output of t = (1, 2, 3, 4, 5); print(t[-3:])?\n",
    "a) (1, 2, 3)\n",
    "b) (3, 4, 5)    ()\n",
    "c) (2, 3, 4)\n",
    "d) (5, 4, 3)\n",
    "\n",
    "What is the result of t = (10, 20, 30, 40); print(min(t))?\n",
    "a) 10    ()\n",
    "b) 20\n",
    "c) 30\n",
    "d) 40\n",
    "\n",
    "#  Advanced Questions\n",
    "Can a tuple contain a list as an element?\n",
    "a) Yes   ()\n",
    "b) No\n",
    "\n",
    "What is the output of t = (1, 2, (3, 4)); print(t[2][1])?\n",
    "a) 3  \n",
    "b) 4   ()\n",
    "c) 2\n",
    "d) (3, 4)\n",
    "\n",
    "What happens when you apply sorted() to a tuple?\n",
    "a) It modifies the tuple\n",
    "b) It returns a sorted list   ()\n",
    "c) It returns a sorted tuple   \n",
    "d) It throws an error\n",
    "\n",
    "How do you count occurrences of an element in a tuple?\n",
    "a) t.count(value)  ()\n",
    "b) t.index(value)\n",
    "c) t.find(value)\n",
    "d) t.search(value)\n",
    "\n",
    "What is the output of t = (10, 20, 30); print(type(t))?\n",
    "a) <class 'tuple'>     ()\n",
    "b) <class 'list'>\n",
    "c) <class 'dict'>\n",
    "d) <class 'set'>\n",
    "\n",
    "Answer Key\n",
    "b) An immutable data structure\n",
    "c) t = ()\n",
    "a) t = (10,)\n",
    "b) Tuples are immutable, lists are mutable\n",
    "d) len()\n",
    "b) t[0]\n",
    "a) t[-1]\n",
    "b) (20, 30)\n",
    "b) It raises an error\n",
    "b) t.index(value)\n",
    "a) t1 + t2\n",
    "a) ('a', 'b', 'a', 'b', 'a', 'b')\n",
    "c) 20 in t\n",
    "b) (3, 4, 5)\n",
    "a) 10\n",
    "a) Yes\n",
    "b) 4\n",
    "b) It returns a sorted list\n",
    "a) t.count(value)\n",
    "a) <class 'tuple'>\n",
    "Hope you find this quiz helpful! 😊 Let me know if you need more. 🚀\n",
    "\n"
   ]
  },
  {
   "cell_type": "code",
   "execution_count": 7,
   "id": "c5d13443-2d4a-418a-875a-551769873609",
   "metadata": {},
   "outputs": [
    {
     "data": {
      "text/plain": [
       "(10,)"
      ]
     },
     "execution_count": 7,
     "metadata": {},
     "output_type": "execute_result"
    }
   ],
   "source": [
    "t=(10,)\n",
    "t"
   ]
  },
  {
   "cell_type": "code",
   "execution_count": 8,
   "id": "cb680afa-dce3-47f6-ac1d-a002f2bbfd67",
   "metadata": {},
   "outputs": [
    {
     "data": {
      "text/plain": [
       "1"
      ]
     },
     "execution_count": 8,
     "metadata": {},
     "output_type": "execute_result"
    }
   ],
   "source": [
    "len(t)"
   ]
  },
  {
   "cell_type": "code",
   "execution_count": 7,
   "id": "0b2f6c47-d8d9-4a19-9d2a-1e8562ed6196",
   "metadata": {},
   "outputs": [
    {
     "name": "stdout",
     "output_type": "stream",
     "text": [
      "4\n"
     ]
    }
   ],
   "source": [
    "t=(1,2,(3,4));\n",
    "print(t[2][1])"
   ]
  },
  {
   "cell_type": "code",
   "execution_count": 5,
   "id": "90000ec2-9a5a-4d01-bdf6-6657d03005d8",
   "metadata": {},
   "outputs": [
    {
     "name": "stdout",
     "output_type": "stream",
     "text": [
      "4\n"
     ]
    }
   ],
   "source": [
    " t = (1, 2, (3, 4)); print(t[2][1])\n",
    "\n"
   ]
  },
  {
   "cell_type": "code",
   "execution_count": 8,
   "id": "589f9ede-3d6c-45ad-94c0-f15f21ab7bad",
   "metadata": {},
   "outputs": [
    {
     "ename": "TypeError",
     "evalue": "'<' not supported between instances of 'tuple' and 'int'",
     "output_type": "error",
     "traceback": [
      "\u001b[1;31m---------------------------------------------------------------------------\u001b[0m",
      "\u001b[1;31mTypeError\u001b[0m                                 Traceback (most recent call last)",
      "Cell \u001b[1;32mIn[8], line 1\u001b[0m\n\u001b[1;32m----> 1\u001b[0m \u001b[38;5;28msorted\u001b[39m(t)\n",
      "\u001b[1;31mTypeError\u001b[0m: '<' not supported between instances of 'tuple' and 'int'"
     ]
    }
   ],
   "source": [
    "sorted(t)"
   ]
  },
  {
   "cell_type": "code",
   "execution_count": 9,
   "id": "94bac427-649d-48b9-9b9a-05a31dfc48f1",
   "metadata": {},
   "outputs": [
    {
     "data": {
      "text/plain": [
       "0"
      ]
     },
     "execution_count": 9,
     "metadata": {},
     "output_type": "execute_result"
    }
   ],
   "source": [
    " t.count(t)"
   ]
  },
  {
   "cell_type": "code",
   "execution_count": null,
   "id": "b3f7856d-1d3c-4be5-97fd-dd9988d87841",
   "metadata": {},
   "outputs": [],
   "source": []
  },
  {
   "cell_type": "code",
   "execution_count": null,
   "id": "0b599436-333a-47c1-8a1d-581ae40712e6",
   "metadata": {},
   "outputs": [],
   "source": []
  },
  {
   "cell_type": "code",
   "execution_count": 2,
   "id": "6b42c679-545f-4e97-a7cb-ad182071d902",
   "metadata": {},
   "outputs": [
    {
     "data": {
      "text/plain": [
       "[1, 2, 3, 4, 5]"
      ]
     },
     "execution_count": 2,
     "metadata": {},
     "output_type": "execute_result"
    }
   ],
   "source": [
    "T=(1,2,3,4,5)\n",
    "sorted(T)"
   ]
  },
  {
   "cell_type": "code",
   "execution_count": null,
   "id": "742c1162-c69d-46b2-b780-9168673ad0ce",
   "metadata": {},
   "outputs": [],
   "source": []
  }
 ],
 "metadata": {
  "kernelspec": {
   "display_name": "Python 3 (ipykernel)",
   "language": "python",
   "name": "python3"
  },
  "language_info": {
   "codemirror_mode": {
    "name": "ipython",
    "version": 3
   },
   "file_extension": ".py",
   "mimetype": "text/x-python",
   "name": "python",
   "nbconvert_exporter": "python",
   "pygments_lexer": "ipython3",
   "version": "3.12.7"
  }
 },
 "nbformat": 4,
 "nbformat_minor": 5
}
