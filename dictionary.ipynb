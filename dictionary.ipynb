{
 "cells": [
  {
   "cell_type": "markdown",
   "id": "578b912c-fc9b-49c4-9911-54364d21ac84",
   "metadata": {},
   "source": [
    "# dictionary"
   ]
  },
  {
   "cell_type": "raw",
   "id": "cd001408-9359-4250-9ba1-ea7c81da187e",
   "metadata": {},
   "source": [
    "Key-Value Pairs : Data mapping.\n",
    "Aliases : Map, associative array."
   ]
  },
  {
   "cell_type": "code",
   "execution_count": 2,
   "id": "2b826bf7-2734-461c-91da-adc8a80d22ee",
   "metadata": {},
   "outputs": [
    {
     "data": {
      "text/plain": [
       "{'name': 'rohit', 'age': 20, 'class': 'b.tech'}"
      ]
     },
     "execution_count": 2,
     "metadata": {},
     "output_type": "execute_result"
    }
   ],
   "source": [
    "dict={\"name\":\"rohit\",\"age\":20,\"class\":\"b.tech\"}\n",
    "dict"
   ]
  },
  {
   "cell_type": "markdown",
   "id": "876f4ab4-66b1-4a2c-a544-9d6627a454f7",
   "metadata": {},
   "source": [
    "# Traits"
   ]
  },
  {
   "cell_type": "markdown",
   "id": "268fdd9c-644e-4cf3-bdbf-bfd257c0421d",
   "metadata": {},
   "source": [
    "Mutable\n",
    "unique keys\n",
    "No indexing\n",
    "immutable keys"
   ]
  },
  {
   "cell_type": "code",
   "execution_count": 3,
   "id": "e31af5d4-a429-40e8-8bc8-ceeabe6b0a9c",
   "metadata": {},
   "outputs": [
    {
     "data": {
      "text/plain": [
       "{'name': 'rohit', 'age': 20, 'class': 'b.tech'}"
      ]
     },
     "execution_count": 3,
     "metadata": {},
     "output_type": "execute_result"
    }
   ],
   "source": [
    "{\"name\":\"rohit\",\"age\":20,\"class\":\"b.tech\"}"
   ]
  },
  {
   "cell_type": "markdown",
   "id": "d4b22adf-cb9b-4529-ab3a-88edf53ad2e1",
   "metadata": {},
   "source": [
    "#  4 key rules and dictionary"
   ]
  },
  {
   "cell_type": "raw",
   "id": "ac1ee585-eb8a-43c7-91fe-b8d9d2a42c0b",
   "metadata": {},
   "source": [
    " 1.No Indexing: No index support.\n",
    " 2.wMutable: Can modify post-creation.\n",
    " 3.Keys: Immutable (str, num, tuple); Values: Any type.\n",
    " 4.Unique Keys: Keys must be unique; overwrite on reassignment."
   ]
  },
  {
   "cell_type": "raw",
   "id": "f81439ab-bae7-4a4a-a942-8a542d033b6c",
   "metadata": {},
   "source": [
    "# Mutable Types   ---> Lists, Sets, Dicts\n",
    "\n",
    "# Immutable Types ---> Str, Tuples, Int, Float, Bool, Complex"
   ]
  },
  {
   "cell_type": "raw",
   "id": "a840f29f-1bc6-4c77-bbbb-f3a2b2865f98",
   "metadata": {},
   "source": [
    "1.Create\n",
    "2.Access\n",
    "3.Edit\n",
    "4.Add\n",
    "5.Delete\n",
    "6.Operations\n",
    "7.Functions"
   ]
  },
  {
   "cell_type": "markdown",
   "id": "6f2698c3-3d94-4835-9cca-afec91f60707",
   "metadata": {},
   "source": [
    "# 1.Create"
   ]
  },
  {
   "cell_type": "code",
   "execution_count": 5,
   "id": "62642076-a7a3-44ba-8e7c-6dcdbcc4f798",
   "metadata": {},
   "outputs": [
    {
     "data": {
      "text/plain": [
       "{}"
      ]
     },
     "execution_count": 5,
     "metadata": {},
     "output_type": "execute_result"
    }
   ],
   "source": [
    " # empty dictionary\n",
    "D={}\n",
    "D"
   ]
  },
  {
   "cell_type": "code",
   "execution_count": 5,
   "id": "43a88b27-240a-4362-a9a2-a0baafb5a5cb",
   "metadata": {},
   "outputs": [
    {
     "data": {
      "text/plain": [
       "{'name': 'rohit', 'age': 20, 'gender': 'male'}"
      ]
     },
     "execution_count": 5,
     "metadata": {},
     "output_type": "execute_result"
    }
   ],
   "source": [
    "# 1D dictionary\n",
    "D={\"name\":\"rohit\",\"age\":20,\"gender\":\"male\"}\n",
    "D"
   ]
  },
  {
   "cell_type": "code",
   "execution_count": 6,
   "id": "ad595d02-d907-470f-9606-17e964d5fae0",
   "metadata": {},
   "outputs": [
    {
     "ename": "TypeError",
     "evalue": "unhashable type: 'list'",
     "output_type": "error",
     "traceback": [
      "\u001b[1;31m---------------------------------------------------------------------------\u001b[0m",
      "\u001b[1;31mTypeError\u001b[0m                                 Traceback (most recent call last)",
      "Cell \u001b[1;32mIn[6], line 1\u001b[0m\n\u001b[1;32m----> 1\u001b[0m D1\u001b[38;5;241m=\u001b[39m{[\u001b[38;5;241m1\u001b[39m,\u001b[38;5;241m2\u001b[39m,\u001b[38;5;241m3\u001b[39m,\u001b[38;5;241m4\u001b[39m]:\u001b[38;5;124m\"\u001b[39m\u001b[38;5;124mrohit\u001b[39m\u001b[38;5;124m\"\u001b[39m}\n\u001b[0;32m      2\u001b[0m D1\n",
      "\u001b[1;31mTypeError\u001b[0m: unhashable type: 'list'"
     ]
    }
   ],
   "source": [
    "D1={[1,2,3,4]:\"rohit\"}\n",
    "D1\n"
   ]
  },
  {
   "cell_type": "code",
   "execution_count": 7,
   "id": "fe516153-23af-4eec-948c-5a1a1bf8cdaf",
   "metadata": {},
   "outputs": [
    {
     "data": {
      "text/plain": [
       "{(1, 2, 3, 4): 'rohit'}"
      ]
     },
     "execution_count": 7,
     "metadata": {},
     "output_type": "execute_result"
    }
   ],
   "source": [
    "# with mixed keys\n",
    "D1={(1,2,3,4):\"rohit\"}\n",
    "D1"
   ]
  },
  {
   "cell_type": "code",
   "execution_count": 8,
   "id": "a626c845-eb2d-4f27-99ed-67aaabe4ec0d",
   "metadata": {},
   "outputs": [
    {
     "data": {
      "text/plain": [
       "{'name': 'choudhary'}"
      ]
     },
     "execution_count": 8,
     "metadata": {},
     "output_type": "execute_result"
    }
   ],
   "source": [
    "# Duplicate keys\n",
    "D2={\"name\":\"rohit\",\"name\":\"choudhary\"}\n",
    "D2"
   ]
  },
  {
   "cell_type": "code",
   "execution_count": 9,
   "id": "1282aa89-915c-46d8-ab91-af39c45128d8",
   "metadata": {},
   "outputs": [
    {
     "data": {
      "text/plain": [
       "{'name': 'rohit', 'Name': 'choudhary'}"
      ]
     },
     "execution_count": 9,
     "metadata": {},
     "output_type": "execute_result"
    }
   ],
   "source": [
    "D2={\"name\":\"rohit\",\"Name\":\"choudhary\"}\n",
    "D2"
   ]
  },
  {
   "cell_type": "code",
   "execution_count": 10,
   "id": "d78cef94-8578-4091-ad6d-edb0fa21eb91",
   "metadata": {},
   "outputs": [
    {
     "data": {
      "text/plain": [
       "{'name': 'rohit',\n",
       " 'college': 'SRCEM',\n",
       " 'marks': {'dsa': 89, 'hindi': 9, 'mathe': 98}}"
      ]
     },
     "execution_count": 10,
     "metadata": {},
     "output_type": "execute_result"
    }
   ],
   "source": [
    "D3={\"name\":\"rohit\",\"college\":\"SRCEM\",\"marks\":{\"dsa\":89,\"hindi\":9,\"mathe\":98}}\n",
    "D3"
   ]
  },
  {
   "cell_type": "code",
   "execution_count": 11,
   "id": "9f5c7c3f-56e6-4074-967f-d0391e63a840",
   "metadata": {},
   "outputs": [
    {
     "data": {
      "text/plain": [
       "{'name': 'rohit', 'Name': 'choudhary'}"
      ]
     },
     "execution_count": 11,
     "metadata": {},
     "output_type": "execute_result"
    }
   ],
   "source": [
    "D2={\"name\":\"rohit\",\"Name\":\"choudhary\"}\n",
    "D2"
   ]
  },
  {
   "cell_type": "code",
   "execution_count": 12,
   "id": "92cfcba5-1034-4051-8378-e7a56c39d676",
   "metadata": {},
   "outputs": [
    {
     "data": {
      "text/plain": [
       "{'name': 'rohit',\n",
       " 'college': 'SRCEM',\n",
       " 'marks': {'dsa': 89, 'hindi': 9, 'mathe': 98}}"
      ]
     },
     "execution_count": 12,
     "metadata": {},
     "output_type": "execute_result"
    }
   ],
   "source": [
    "s={'name': 'rohit',\n",
    " 'college': 'SRCEM',\n",
    " 'marks': {'dsa': 89,\n",
    "           'hindi': 9,\n",
    "           'mathe': 98}}\n",
    "s"
   ]
  },
  {
   "cell_type": "code",
   "execution_count": 13,
   "id": "65a635e7-9932-449b-afef-9f89fc5a5f15",
   "metadata": {},
   "outputs": [
    {
     "data": {
      "text/plain": [
       "{'name': 'rohit',\n",
       " 'college': 'SRCEM',\n",
       " 'marks': {'dsa': 89, 'hindi': 9, 'mathe': 98}}"
      ]
     },
     "execution_count": 13,
     "metadata": {},
     "output_type": "execute_result"
    }
   ],
   "source": [
    "s"
   ]
  },
  {
   "cell_type": "code",
   "execution_count": 14,
   "id": "f1667125-d14d-4a22-92b4-ab782d5fa35d",
   "metadata": {},
   "outputs": [
    {
     "name": "stdout",
     "output_type": "stream",
     "text": [
      "{'name': 'nitish', (1, 2, 3): 2}\n"
     ]
    }
   ],
   "source": [
    "# mutable items as keys\n",
    "D4 = {'name':'nitish', (1, 2, 3):2}\n",
    "print(D4)"
   ]
  },
  {
   "cell_type": "code",
   "execution_count": 15,
   "id": "3429d517-2ed7-4585-8f3c-b7eb378bca7c",
   "metadata": {},
   "outputs": [
    {
     "data": {
      "text/plain": [
       "{'name': 'nitish', 'age': 32, 3: 3}"
      ]
     },
     "execution_count": 15,
     "metadata": {},
     "output_type": "execute_result"
    }
   ],
   "source": [
    "# using sequence and dict function\n",
    "D5 = dict([('name', 'nitish'), ('age', 32), (3, 3)])\n",
    "D5"
   ]
  },
  {
   "cell_type": "code",
   "execution_count": null,
   "id": "deb6ba57-30cf-4bdc-a423-f036380ffd4a",
   "metadata": {},
   "outputs": [],
   "source": []
  },
  {
   "cell_type": "markdown",
   "id": "499ed770-8b54-47c5-bc4f-408d875018a7",
   "metadata": {},
   "source": [
    "# 2 Access"
   ]
  },
  {
   "cell_type": "code",
   "execution_count": 16,
   "id": "ec0b9041-999b-4810-9edd-29de580a9fe0",
   "metadata": {},
   "outputs": [
    {
     "data": {
      "text/plain": [
       "{'name': 'rohit', 'age': 20, 'gender': 'male'}"
      ]
     },
     "execution_count": 16,
     "metadata": {},
     "output_type": "execute_result"
    }
   ],
   "source": [
    "D"
   ]
  },
  {
   "cell_type": "code",
   "execution_count": 17,
   "id": "1086b24c-4a4c-4799-851c-b07867ed5f16",
   "metadata": {},
   "outputs": [
    {
     "ename": "KeyError",
     "evalue": "0",
     "output_type": "error",
     "traceback": [
      "\u001b[1;31m---------------------------------------------------------------------------\u001b[0m",
      "\u001b[1;31mKeyError\u001b[0m                                  Traceback (most recent call last)",
      "Cell \u001b[1;32mIn[17], line 1\u001b[0m\n\u001b[1;32m----> 1\u001b[0m D[\u001b[38;5;241m0\u001b[39m]\n",
      "\u001b[1;31mKeyError\u001b[0m: 0"
     ]
    }
   ],
   "source": [
    "D[0]"
   ]
  },
  {
   "cell_type": "code",
   "execution_count": 18,
   "id": "a6c53c85-8fc4-4e19-b067-fc15ca4e5428",
   "metadata": {},
   "outputs": [
    {
     "data": {
      "text/plain": [
       "'rohit'"
      ]
     },
     "execution_count": 18,
     "metadata": {},
     "output_type": "execute_result"
    }
   ],
   "source": [
    "D['name']"
   ]
  },
  {
   "cell_type": "code",
   "execution_count": 19,
   "id": "82a65cfe-b98e-4c96-94a7-dada00fc5b46",
   "metadata": {},
   "outputs": [
    {
     "data": {
      "text/plain": [
       "20"
      ]
     },
     "execution_count": 19,
     "metadata": {},
     "output_type": "execute_result"
    }
   ],
   "source": [
    "D['age']"
   ]
  },
  {
   "cell_type": "code",
   "execution_count": 22,
   "id": "6c2820f4-b0cf-482a-a520-d207bef2ab67",
   "metadata": {},
   "outputs": [
    {
     "data": {
      "text/plain": [
       "'rohit'"
      ]
     },
     "execution_count": 22,
     "metadata": {},
     "output_type": "execute_result"
    }
   ],
   "source": [
    "D.get('name')"
   ]
  },
  {
   "cell_type": "code",
   "execution_count": 26,
   "id": "f2b20746-1cd8-4a96-9707-25d966f7bf4d",
   "metadata": {},
   "outputs": [
    {
     "data": {
      "text/plain": [
       "'male'"
      ]
     },
     "execution_count": 26,
     "metadata": {},
     "output_type": "execute_result"
    }
   ],
   "source": [
    "D.get(\"gender\")\n",
    "# .get() ---> 1-D dicts only; Not for 2-D/nested dicts."
   ]
  },
  {
   "cell_type": "code",
   "execution_count": 27,
   "id": "464cfb32-5389-4191-aa4a-b29dbd5d8ea0",
   "metadata": {},
   "outputs": [
    {
     "data": {
      "text/plain": [
       "'male'"
      ]
     },
     "execution_count": 27,
     "metadata": {},
     "output_type": "execute_result"
    }
   ],
   "source": [
    "D.get(\"gender\")"
   ]
  },
  {
   "cell_type": "code",
   "execution_count": 30,
   "id": "f632d68b-b7be-475d-890a-6c43eb4a009c",
   "metadata": {},
   "outputs": [
    {
     "data": {
      "text/plain": [
       "89"
      ]
     },
     "execution_count": 30,
     "metadata": {},
     "output_type": "execute_result"
    }
   ],
   "source": [
    "D3['marks']['dsa']"
   ]
  },
  {
   "cell_type": "markdown",
   "id": "5f64a3a2-c90e-4d03-a91f-06a4f7443a63",
   "metadata": {},
   "source": [
    "# 3.Edit"
   ]
  },
  {
   "cell_type": "code",
   "execution_count": 31,
   "id": "200e4088-2aca-4e95-80b9-15071bc777ba",
   "metadata": {},
   "outputs": [
    {
     "data": {
      "text/plain": [
       "{'name': 'rohit',\n",
       " 'college': 'SRCEM',\n",
       " 'marks': {'dsa': 89, 'hindi': 9, 'mathe': 98}}"
      ]
     },
     "execution_count": 31,
     "metadata": {},
     "output_type": "execute_result"
    }
   ],
   "source": [
    "D3"
   ]
  },
  {
   "cell_type": "code",
   "execution_count": 33,
   "id": "afeea984-3351-48b0-b536-03a5583b4976",
   "metadata": {},
   "outputs": [],
   "source": [
    "D3[\"name\"]=\"choudhary shaab\""
   ]
  },
  {
   "cell_type": "code",
   "execution_count": 34,
   "id": "e4bc1fef-f3c3-4089-83e4-9eb398bc93e3",
   "metadata": {},
   "outputs": [
    {
     "data": {
      "text/plain": [
       "{'name': 'choudhary shaab',\n",
       " 'college': 'SRCEM',\n",
       " 'marks': {'dsa': 89, 'hindi': 9, 'mathe': 98}}"
      ]
     },
     "execution_count": 34,
     "metadata": {},
     "output_type": "execute_result"
    }
   ],
   "source": [
    "D3 "
   ]
  },
  {
   "cell_type": "code",
   "execution_count": 35,
   "id": "1a9f6cff-0173-4ba1-87d3-801919684ad3",
   "metadata": {},
   "outputs": [],
   "source": [
    "D3[\"marks\"][\"dsa\"]=87"
   ]
  },
  {
   "cell_type": "code",
   "execution_count": 36,
   "id": "6aed79d5-e74a-4381-9dea-4c2f483be083",
   "metadata": {},
   "outputs": [
    {
     "data": {
      "text/plain": [
       "{'name': 'choudhary shaab',\n",
       " 'college': 'SRCEM',\n",
       " 'marks': {'dsa': 87, 'hindi': 9, 'mathe': 98}}"
      ]
     },
     "execution_count": 36,
     "metadata": {},
     "output_type": "execute_result"
    }
   ],
   "source": [
    "D3"
   ]
  },
  {
   "cell_type": "markdown",
   "id": "8968dbce-ab45-4177-93aa-5694ba097ff5",
   "metadata": {},
   "source": [
    "# 4.Add"
   ]
  },
  {
   "cell_type": "code",
   "execution_count": 37,
   "id": "0012e641-866f-401a-8dd1-f2cf8bd5416a",
   "metadata": {},
   "outputs": [
    {
     "data": {
      "text/plain": [
       "{'name': 'nitish', 'age': 32, 3: 3}"
      ]
     },
     "execution_count": 37,
     "metadata": {},
     "output_type": "execute_result"
    }
   ],
   "source": [
    "D5"
   ]
  },
  {
   "cell_type": "code",
   "execution_count": 38,
   "id": "68aeef9a-771b-43fa-b5fb-a813aa20e731",
   "metadata": {},
   "outputs": [],
   "source": [
    "D5[\"gender\"]=\"male\""
   ]
  },
  {
   "cell_type": "code",
   "execution_count": 39,
   "id": "845a0498-4cb7-4a9d-87bb-4fb08b122937",
   "metadata": {},
   "outputs": [
    {
     "data": {
      "text/plain": [
       "{'name': 'nitish', 'age': 32, 3: 3, 'gender': 'male'}"
      ]
     },
     "execution_count": 39,
     "metadata": {},
     "output_type": "execute_result"
    }
   ],
   "source": [
    "D5"
   ]
  },
  {
   "cell_type": "markdown",
   "id": "54ec9317-4bcb-49df-b1c6-c02f9834d9df",
   "metadata": {},
   "source": [
    "# 5.Delete"
   ]
  },
  {
   "cell_type": "code",
   "execution_count": 40,
   "id": "c5b6bba9-0bd9-464a-9ee0-ec19e6c8fb2e",
   "metadata": {},
   "outputs": [],
   "source": [
    "d5=\n",
    "{}"
   ]
  },
  {
   "cell_type": "code",
   "execution_count": 41,
   "id": "51ae70d7-45c3-49b3-9d39-8b7a850f6841",
   "metadata": {},
   "outputs": [
    {
     "data": {
      "text/plain": [
       "{'name': 'nitish', 'age': 32, 3: 3, 'gender': 'male'}"
      ]
     },
     "execution_count": 41,
     "metadata": {},
     "output_type": "execute_result"
    }
   ],
   "source": [
    "D5"
   ]
  },
  {
   "cell_type": "code",
   "execution_count": 42,
   "id": "ac546089-2f65-4d87-8346-9ba214afa835",
   "metadata": {},
   "outputs": [
    {
     "data": {
      "text/plain": [
       "{}"
      ]
     },
     "execution_count": 42,
     "metadata": {},
     "output_type": "execute_result"
    }
   ],
   "source": [
    "d5"
   ]
  },
  {
   "cell_type": "code",
   "execution_count": 44,
   "id": "9e44c5e0-9b2f-469c-a1f7-849561df8113",
   "metadata": {},
   "outputs": [],
   "source": [
    "del d5"
   ]
  },
  {
   "cell_type": "code",
   "execution_count": 45,
   "id": "e2095923-eeaf-458c-826c-affaf7ed08b1",
   "metadata": {},
   "outputs": [
    {
     "ename": "NameError",
     "evalue": "name 'd5' is not defined",
     "output_type": "error",
     "traceback": [
      "\u001b[1;31m---------------------------------------------------------------------------\u001b[0m",
      "\u001b[1;31mNameError\u001b[0m                                 Traceback (most recent call last)",
      "Cell \u001b[1;32mIn[45], line 1\u001b[0m\n\u001b[1;32m----> 1\u001b[0m d5\n",
      "\u001b[1;31mNameError\u001b[0m: name 'd5' is not defined"
     ]
    }
   ],
   "source": [
    "d5"
   ]
  },
  {
   "cell_type": "code",
   "execution_count": 46,
   "id": "c1c20a0e-6bbc-46b9-a7ba-6b0739a4bb5f",
   "metadata": {},
   "outputs": [
    {
     "data": {
      "text/plain": [
       "{'name': 'rohit', 'age': 20, 'gender': 'male'}"
      ]
     },
     "execution_count": 46,
     "metadata": {},
     "output_type": "execute_result"
    }
   ],
   "source": [
    "D"
   ]
  },
  {
   "cell_type": "code",
   "execution_count": 50,
   "id": "f50444a5-5db8-4013-8a5e-61f8b295f0f8",
   "metadata": {},
   "outputs": [
    {
     "data": {
      "text/plain": [
       "('age', 20)"
      ]
     },
     "execution_count": 50,
     "metadata": {},
     "output_type": "execute_result"
    }
   ],
   "source": [
    "D.popitem()\n"
   ]
  },
  {
   "cell_type": "code",
   "execution_count": 52,
   "id": "330eb2c6-c1ad-4cef-9f30-7d67820f2309",
   "metadata": {},
   "outputs": [
    {
     "ename": "KeyError",
     "evalue": "'gender'",
     "output_type": "error",
     "traceback": [
      "\u001b[1;31m---------------------------------------------------------------------------\u001b[0m",
      "\u001b[1;31mKeyError\u001b[0m                                  Traceback (most recent call last)",
      "Cell \u001b[1;32mIn[52], line 1\u001b[0m\n\u001b[1;32m----> 1\u001b[0m D\u001b[38;5;241m.\u001b[39mpop(\u001b[38;5;124m'\u001b[39m\u001b[38;5;124mgender\u001b[39m\u001b[38;5;124m'\u001b[39m)\n",
      "\u001b[1;31mKeyError\u001b[0m: 'gender'"
     ]
    }
   ],
   "source": [
    "D.pop('gender')"
   ]
  },
  {
   "cell_type": "code",
   "execution_count": 54,
   "id": "983869b1-1b2a-4288-8379-1ae56ea0e4eb",
   "metadata": {},
   "outputs": [
    {
     "data": {
      "text/plain": [
       "'rohit'"
      ]
     },
     "execution_count": 54,
     "metadata": {},
     "output_type": "execute_result"
    }
   ],
   "source": [
    "D.pop('name')"
   ]
  },
  {
   "cell_type": "code",
   "execution_count": null,
   "id": "e3f3dd3a-185e-4699-84d4-e1dca171eaa0",
   "metadata": {},
   "outputs": [],
   "source": []
  },
  {
   "cell_type": "code",
   "execution_count": 56,
   "id": "81920512-ffe4-4f06-831d-2b7cce115891",
   "metadata": {},
   "outputs": [
    {
     "data": {
      "text/plain": [
       "{}"
      ]
     },
     "execution_count": 56,
     "metadata": {},
     "output_type": "execute_result"
    }
   ],
   "source": [
    "D"
   ]
  },
  {
   "cell_type": "code",
   "execution_count": 57,
   "id": "60f33599-4f79-448f-a579-687206c6740b",
   "metadata": {},
   "outputs": [
    {
     "data": {
      "text/plain": [
       "{'name': 'choudhary shaab',\n",
       " 'college': 'SRCEM',\n",
       " 'marks': {'dsa': 87, 'hindi': 9, 'mathe': 98}}"
      ]
     },
     "execution_count": 57,
     "metadata": {},
     "output_type": "execute_result"
    }
   ],
   "source": [
    "D3"
   ]
  },
  {
   "cell_type": "code",
   "execution_count": 58,
   "id": "3b61e699-432a-4d42-b7ba-73819de548c3",
   "metadata": {},
   "outputs": [],
   "source": [
    "D3.clear()"
   ]
  },
  {
   "cell_type": "code",
   "execution_count": 59,
   "id": "4f84edfd-7b49-4066-8899-eddc293c2440",
   "metadata": {},
   "outputs": [
    {
     "data": {
      "text/plain": [
       "{}"
      ]
     },
     "execution_count": 59,
     "metadata": {},
     "output_type": "execute_result"
    }
   ],
   "source": [
    "D3"
   ]
  },
  {
   "cell_type": "markdown",
   "id": "b9ee310b-7034-4a57-8fe3-3ad8ffc9d4f8",
   "metadata": {},
   "source": [
    "# 6.operations"
   ]
  },
  {
   "cell_type": "code",
   "execution_count": 60,
   "id": "900e4751-cec2-45ae-81d2-2bb3fe625edb",
   "metadata": {},
   "outputs": [
    {
     "data": {
      "text/plain": [
       "{}"
      ]
     },
     "execution_count": 60,
     "metadata": {},
     "output_type": "execute_result"
    }
   ],
   "source": [
    "D"
   ]
  },
  {
   "cell_type": "code",
   "execution_count": 62,
   "id": "f9e94818-b582-434f-b357-2d15324c8b17",
   "metadata": {},
   "outputs": [
    {
     "data": {
      "text/plain": [
       "{'name': 'rohit', 'Name': 'choudhary'}"
      ]
     },
     "execution_count": 62,
     "metadata": {},
     "output_type": "execute_result"
    }
   ],
   "source": [
    "D2"
   ]
  },
  {
   "cell_type": "code",
   "execution_count": 63,
   "id": "6240802f-6432-4fa3-a9f9-c4b8569c6c17",
   "metadata": {},
   "outputs": [
    {
     "data": {
      "text/plain": [
       "{'name': 'nitish', 'age': 32, 3: 3, 'gender': 'male'}"
      ]
     },
     "execution_count": 63,
     "metadata": {},
     "output_type": "execute_result"
    }
   ],
   "source": [
    "D5"
   ]
  },
  {
   "cell_type": "code",
   "execution_count": 64,
   "id": "36374776-555f-45a6-ae3a-3716ad52c03f",
   "metadata": {},
   "outputs": [
    {
     "ename": "TypeError",
     "evalue": "unsupported operand type(s) for +: 'dict' and 'dict'",
     "output_type": "error",
     "traceback": [
      "\u001b[1;31m---------------------------------------------------------------------------\u001b[0m",
      "\u001b[1;31mTypeError\u001b[0m                                 Traceback (most recent call last)",
      "Cell \u001b[1;32mIn[64], line 1\u001b[0m\n\u001b[1;32m----> 1\u001b[0m D2\u001b[38;5;241m+\u001b[39mD5\n",
      "\u001b[1;31mTypeError\u001b[0m: unsupported operand type(s) for +: 'dict' and 'dict'"
     ]
    }
   ],
   "source": [
    "D2+D5"
   ]
  },
  {
   "cell_type": "code",
   "execution_count": 65,
   "id": "60ec9907-bfdf-4de9-a7c1-be2d62c02355",
   "metadata": {},
   "outputs": [
    {
     "ename": "TypeError",
     "evalue": "unsupported operand type(s) for *: 'dict' and 'dict'",
     "output_type": "error",
     "traceback": [
      "\u001b[1;31m---------------------------------------------------------------------------\u001b[0m",
      "\u001b[1;31mTypeError\u001b[0m                                 Traceback (most recent call last)",
      "Cell \u001b[1;32mIn[65], line 1\u001b[0m\n\u001b[1;32m----> 1\u001b[0m D2\u001b[38;5;241m*\u001b[39mD5\n",
      "\u001b[1;31mTypeError\u001b[0m: unsupported operand type(s) for *: 'dict' and 'dict'"
     ]
    }
   ],
   "source": [
    "D2*D5"
   ]
  },
  {
   "cell_type": "code",
   "execution_count": 66,
   "id": "6d3d629e-f4a6-4452-a325-bf96f30bed14",
   "metadata": {},
   "outputs": [
    {
     "data": {
      "text/plain": [
       "{}"
      ]
     },
     "execution_count": 66,
     "metadata": {},
     "output_type": "execute_result"
    }
   ],
   "source": [
    "D3\n"
   ]
  },
  {
   "cell_type": "code",
   "execution_count": 5,
   "id": "13810dc6-2dc9-4e24-9cb4-2206b9397cb4",
   "metadata": {},
   "outputs": [
    {
     "data": {
      "text/plain": [
       "{'Name': 'Saurabh', 'College': 'SGT', 'Marks': {'M1': 99, 'DS': 97, 'Eng': 98}}"
      ]
     },
     "execution_count": 5,
     "metadata": {},
     "output_type": "execute_result"
    }
   ],
   "source": [
    "D3 = {\"Name\":\"Saurabh\", \"College\":\"SGT\", \"Marks\":{\"M1\":99, \"DS\":97, \"Eng\":98}}\n",
    "D3"
   ]
  },
  {
   "cell_type": "code",
   "execution_count": 6,
   "id": "c3c64f80-92e2-477d-9684-c1eee8d9dbef",
   "metadata": {},
   "outputs": [
    {
     "ename": "SyntaxError",
     "evalue": "invalid syntax (2307404328.py, line 2)",
     "output_type": "error",
     "traceback": [
      "\u001b[1;36m  Cell \u001b[1;32mIn[6], line 2\u001b[1;36m\u001b[0m\n\u001b[1;33m    for i D3:\u001b[0m\n\u001b[1;37m          ^\u001b[0m\n\u001b[1;31mSyntaxError\u001b[0m\u001b[1;31m:\u001b[0m invalid syntax\n"
     ]
    }
   ],
   "source": [
    "# Iteration\n",
    "for i D3:\n",
    "    print(i)"
   ]
  },
  {
   "cell_type": "code",
   "execution_count": 7,
   "id": "0253b8bd-c7ef-4ce0-8fd1-10b421a2b313",
   "metadata": {},
   "outputs": [
    {
     "name": "stdout",
     "output_type": "stream",
     "text": [
      "Name\n",
      "College\n",
      "Marks\n"
     ]
    }
   ],
   "source": [
    "# Iteration\n",
    "for i in D3:\n",
    "    print(i)"
   ]
  },
  {
   "cell_type": "code",
   "execution_count": 8,
   "id": "fbcf0c95-9936-46c2-8aa2-e119cfc8cf07",
   "metadata": {},
   "outputs": [
    {
     "name": "stdout",
     "output_type": "stream",
     "text": [
      "Name Saurabh\n",
      "College SGT\n",
      "Marks {'M1': 99, 'DS': 97, 'Eng': 98}\n"
     ]
    }
   ],
   "source": [
    "for i in D3:\n",
    "    print(i,D3[i])"
   ]
  },
  {
   "cell_type": "code",
   "execution_count": 9,
   "id": "fdf63b25-c8b0-4349-a812-e7ab81c2f273",
   "metadata": {},
   "outputs": [
    {
     "data": {
      "text/plain": [
       "False"
      ]
     },
     "execution_count": 9,
     "metadata": {},
     "output_type": "execute_result"
    }
   ],
   "source": [
    "# Membership\n",
    "\"Saurabh\" in  D3"
   ]
  },
  {
   "cell_type": "code",
   "execution_count": 10,
   "id": "cc4b6a47-121e-40a0-92fb-ef37e87fd8c0",
   "metadata": {},
   "outputs": [
    {
     "data": {
      "text/plain": [
       "True"
      ]
     },
     "execution_count": 10,
     "metadata": {},
     "output_type": "execute_result"
    }
   ],
   "source": [
    "\"Name\" in  D3"
   ]
  },
  {
   "cell_type": "code",
   "execution_count": 13,
   "id": "0d85abfd-7080-416a-afa3-8c40437e0499",
   "metadata": {},
   "outputs": [
    {
     "data": {
      "text/plain": [
       "True"
      ]
     },
     "execution_count": 13,
     "metadata": {},
     "output_type": "execute_result"
    }
   ],
   "source": [
    "\"College\" in D3"
   ]
  },
  {
   "cell_type": "code",
   "execution_count": 15,
   "id": "e7b4e877-70b8-46e4-9e3b-cd7481944044",
   "metadata": {},
   "outputs": [
    {
     "data": {
      "text/plain": [
       "False"
      ]
     },
     "execution_count": 15,
     "metadata": {},
     "output_type": "execute_result"
    }
   ],
   "source": [
    "\"SGT\" in D3"
   ]
  },
  {
   "cell_type": "markdown",
   "id": "6c313053-2a35-4432-94dc-b754c3de5403",
   "metadata": {},
   "source": [
    "# 7. Functions"
   ]
  },
  {
   "cell_type": "code",
   "execution_count": 16,
   "id": "ac650c86-76ca-43c9-8feb-b84826311602",
   "metadata": {},
   "outputs": [
    {
     "data": {
      "text/plain": [
       "3"
      ]
     },
     "execution_count": 16,
     "metadata": {},
     "output_type": "execute_result"
    }
   ],
   "source": [
    "len(D3)"
   ]
  },
  {
   "cell_type": "code",
   "execution_count": 17,
   "id": "b4d46ea1-4c2f-4656-8432-e3f58b1ef8f0",
   "metadata": {},
   "outputs": [
    {
     "data": {
      "text/plain": [
       "'College'"
      ]
     },
     "execution_count": 17,
     "metadata": {},
     "output_type": "execute_result"
    }
   ],
   "source": [
    "min(D3)"
   ]
  },
  {
   "cell_type": "code",
   "execution_count": 18,
   "id": "eb9bc113-9809-442e-b1fd-4f6c51723a25",
   "metadata": {},
   "outputs": [
    {
     "data": {
      "text/plain": [
       "'Name'"
      ]
     },
     "execution_count": 18,
     "metadata": {},
     "output_type": "execute_result"
    }
   ],
   "source": [
    "max(D3)"
   ]
  },
  {
   "cell_type": "code",
   "execution_count": 19,
   "id": "497be2b0-1bd3-4b1c-8169-a28ae5ced8a5",
   "metadata": {},
   "outputs": [
    {
     "data": {
      "text/plain": [
       "['College', 'Marks', 'Name']"
      ]
     },
     "execution_count": 19,
     "metadata": {},
     "output_type": "execute_result"
    }
   ],
   "source": [
    "sorted(D3)"
   ]
  },
  {
   "cell_type": "code",
   "execution_count": 22,
   "id": "27a107c2-3828-416f-862b-a0536c46084c",
   "metadata": {},
   "outputs": [
    {
     "data": {
      "text/plain": [
       "['Name', 'Marks', 'College']"
      ]
     },
     "execution_count": 22,
     "metadata": {},
     "output_type": "execute_result"
    }
   ],
   "source": [
    "sorted(D3,reverse=True)"
   ]
  },
  {
   "cell_type": "code",
   "execution_count": 24,
   "id": "2c83189e-4554-46fe-abe2-2cd48a75e17a",
   "metadata": {},
   "outputs": [
    {
     "data": {
      "text/plain": [
       "dict_items([('Name', 'Saurabh'), ('College', 'SGT'), ('Marks', {'M1': 99, 'DS': 97, 'Eng': 98})])"
      ]
     },
     "execution_count": 24,
     "metadata": {},
     "output_type": "execute_result"
    }
   ],
   "source": [
    "D3.items()"
   ]
  },
  {
   "cell_type": "code",
   "execution_count": 25,
   "id": "afdd473f-84d0-4205-83e7-1c3a104f1bee",
   "metadata": {},
   "outputs": [
    {
     "data": {
      "text/plain": [
       "dict_keys(['Name', 'College', 'Marks'])"
      ]
     },
     "execution_count": 25,
     "metadata": {},
     "output_type": "execute_result"
    }
   ],
   "source": [
    "D3.keys()"
   ]
  },
  {
   "cell_type": "code",
   "execution_count": 26,
   "id": "4ab28d04-0996-4cc7-8895-28463a0e7662",
   "metadata": {},
   "outputs": [
    {
     "data": {
      "text/plain": [
       "dict_values(['Saurabh', 'SGT', {'M1': 99, 'DS': 97, 'Eng': 98}])"
      ]
     },
     "execution_count": 26,
     "metadata": {},
     "output_type": "execute_result"
    }
   ],
   "source": [
    "D3.values()"
   ]
  },
  {
   "cell_type": "code",
   "execution_count": 27,
   "id": "7afb705e-4b8d-4c9f-8e20-b0d23db1539d",
   "metadata": {},
   "outputs": [
    {
     "name": "stdout",
     "output_type": "stream",
     "text": [
      "{1: 2, 3: 4, 4: 7, 6: 8}\n"
     ]
    }
   ],
   "source": [
    "# update\n",
    "d1 = {1:2, 3:4, 4:5}\n",
    "d2 = {4:7, 6:8}\n",
    "d1.update(d2)\n",
    "print(d1)"
   ]
  },
  {
   "cell_type": "markdown",
   "id": "7ce9f394-7a31-4289-8a99-952cdbaade4e",
   "metadata": {},
   "source": [
    " # Dictionary Comprehension"
   ]
  },
  {
   "cell_type": "markdown",
   "id": "fd7489fc-a569-4692-a0bc-de03a8b20a58",
   "metadata": {},
   "source": [
    "{key : value for var in iterable}\n",
    "Creates dicts from iterables.\n",
    "\n",
    "Example:\n",
    "\n",
    "squares_dict = {x: x**2 for x in range(5)}\n",
    "\n",
    "Maps numbers to squares.\n",
    "\n",
    "Supports conditions & expressions."
   ]
  },
  {
   "cell_type": "code",
   "execution_count": 2,
   "id": "89af2d28-1dfe-479e-8ab3-4e038442e026",
   "metadata": {},
   "outputs": [],
   "source": [
    "D = {\"Name\":\"Nitish\", \"Gender\":\"Male\", \"Age\":30}"
   ]
  },
  {
   "cell_type": "code",
   "execution_count": 3,
   "id": "3de6a77c-65fd-47cb-8cb0-c875e0b0fa94",
   "metadata": {},
   "outputs": [
    {
     "data": {
      "text/plain": [
       "{'Name': 'Nitish', 'Gender': 'Male', 'Age': 30}"
      ]
     },
     "execution_count": 3,
     "metadata": {},
     "output_type": "execute_result"
    }
   ],
   "source": [
    "D"
   ]
  },
  {
   "cell_type": "code",
   "execution_count": 4,
   "id": "22320a28-cb23-4c44-a152-4a668b1cab7e",
   "metadata": {},
   "outputs": [
    {
     "data": {
      "text/plain": [
       "dict_items([('Name', 'Nitish'), ('Gender', 'Male'), ('Age', 30)])"
      ]
     },
     "execution_count": 4,
     "metadata": {},
     "output_type": "execute_result"
    }
   ],
   "source": [
    "D.items()"
   ]
  },
  {
   "cell_type": "code",
   "execution_count": 5,
   "id": "3ebf89e7-69e5-4ddb-946f-c7b0053b5281",
   "metadata": {},
   "outputs": [
    {
     "data": {
      "text/plain": [
       "{'Name': 'Nitish', 'Gender': 'Male'}"
      ]
     },
     "execution_count": 5,
     "metadata": {},
     "output_type": "execute_result"
    }
   ],
   "source": [
    "D1 = {key:value for key, value in D.items() if len(key)>3}\n",
    "D1"
   ]
  },
  {
   "cell_type": "code",
   "execution_count": 7,
   "id": "0a4a8bab-9efb-4705-aaa1-559ebb26aad5",
   "metadata": {},
   "outputs": [],
   "source": [
    "D1={key:value for key,value in D.items()if len(key)>3}"
   ]
  },
  {
   "cell_type": "code",
   "execution_count": 8,
   "id": "0f413503-cf21-422c-b9a6-d32f0b14170d",
   "metadata": {},
   "outputs": [
    {
     "data": {
      "text/plain": [
       "{'Name': 'Nitish', 'Gender': 'Male'}"
      ]
     },
     "execution_count": 8,
     "metadata": {},
     "output_type": "execute_result"
    }
   ],
   "source": [
    "D1"
   ]
  },
  {
   "cell_type": "code",
   "execution_count": 11,
   "id": "b7b59bb7-8ac7-417a-a090-0ef92cdab8ee",
   "metadata": {},
   "outputs": [],
   "source": [
    "L=[1,2,3,4,5,6,7]"
   ]
  },
  {
   "cell_type": "code",
   "execution_count": 12,
   "id": "89b71f46-9468-4a65-8117-1830ab5d3f2c",
   "metadata": {},
   "outputs": [],
   "source": [
    " D2={item:item**2 for item in L}"
   ]
  },
  {
   "cell_type": "code",
   "execution_count": 13,
   "id": "0535dc23-bfa3-46bc-862d-5a05a8d0e2da",
   "metadata": {},
   "outputs": [
    {
     "data": {
      "text/plain": [
       "{1: 1, 2: 4, 3: 9, 4: 16, 5: 25, 6: 36, 7: 49}"
      ]
     },
     "execution_count": 13,
     "metadata": {},
     "output_type": "execute_result"
    }
   ],
   "source": [
    "D2"
   ]
  },
  {
   "cell_type": "code",
   "execution_count": 15,
   "id": "b1c1953a-8f88-4af0-acfe-42a21bc49e5b",
   "metadata": {},
   "outputs": [],
   "source": [
    "D3={item :item**2 for item in L if item%2==0}"
   ]
  },
  {
   "cell_type": "code",
   "execution_count": 16,
   "id": "4edd0c66-acdd-4afd-8341-a68b880ee4e5",
   "metadata": {},
   "outputs": [
    {
     "data": {
      "text/plain": [
       "{2: 4, 4: 16, 6: 36}"
      ]
     },
     "execution_count": 16,
     "metadata": {},
     "output_type": "execute_result"
    }
   ],
   "source": [
    "D3"
   ]
  },
  {
   "cell_type": "code",
   "execution_count": 17,
   "id": "5b3e096b-0a92-4974-974f-7ab1215d8e8f",
   "metadata": {},
   "outputs": [
    {
     "data": {
      "text/plain": [
       "{1: 1, 2: 4, 3: 9, 4: 16, 5: 25, 6: 36, 7: 49, 8: 64, 9: 81, 10: 100}"
      ]
     },
     "execution_count": 17,
     "metadata": {},
     "output_type": "execute_result"
    }
   ],
   "source": [
    "# Print 1st 10 nums & squares\n",
    "{i:i**2 for i in range(1, 11)}"
   ]
  },
  {
   "cell_type": "code",
   "execution_count": 1,
   "id": "693bc221-083a-48a2-af2b-3ccb123ea883",
   "metadata": {},
   "outputs": [
    {
     "name": "stdout",
     "output_type": "stream",
     "text": [
      "dict_items([('delhi', 1000), ('mumbai', 2000), ('bangalore', 3000)])\n"
     ]
    }
   ],
   "source": [
    "distances = {'delhi':1000, 'mumbai':2000, 'bangalore':3000}\n",
    "print(distances.items())"
   ]
  },
  {
   "cell_type": "code",
   "execution_count": 2,
   "id": "27847f0c-d4d6-43a2-a521-c129afbab9f0",
   "metadata": {},
   "outputs": [
    {
     "data": {
      "text/plain": [
       "{'delhi': 620.0, 'mumbai': 1240.0, 'bangalore': 1860.0}"
      ]
     },
     "execution_count": 2,
     "metadata": {},
     "output_type": "execute_result"
    }
   ],
   "source": [
    "# using existing dict\n",
    "distances = {'delhi':1000, 'mumbai':2000, 'bangalore':3000}\n",
    "{key:value*0.62 for (key, value) in distances.items()}"
   ]
  },
  {
   "cell_type": "code",
   "execution_count": 3,
   "id": "00fcef9a-02c9-441a-b708-4409f2b8a959",
   "metadata": {},
   "outputs": [
    {
     "data": {
      "text/plain": [
       "{'Sunday': 30.5,\n",
       " 'Monday': 32.6,\n",
       " 'Tuesday': 31.8,\n",
       " 'Wednesday': 33.4,\n",
       " 'Thursday': 29.8,\n",
       " 'Friday': 30.2,\n",
       " 'Saturday': 29.9}"
      ]
     },
     "execution_count": 3,
     "metadata": {},
     "output_type": "execute_result"
    }
   ],
   "source": [
    "# using zip\n",
    "days = [\"Sunday\", \"Monday\", \"Tuesday\", \"Wednesday\", \"Thursday\", \"Friday\", \"Saturday\"]\n",
    "temp_C = [30.5, 32.6, 31.8, 33.4, 29.8, 30.2, 29.9]\n",
    "{i:j for (i, j) in zip(days, temp_C)}\n"
   ]
  },
  {
   "cell_type": "code",
   "execution_count": 4,
   "id": "6c5a07bc-4b21-46be-82b7-8c3c73ff5362",
   "metadata": {},
   "outputs": [
    {
     "data": {
      "text/plain": [
       "{'phone': 10, 'charger': 32}"
      ]
     },
     "execution_count": 4,
     "metadata": {},
     "output_type": "execute_result"
    }
   ],
   "source": [
    "# using if condition\n",
    "products = {'phone':10, 'laptop':0, 'charger':32, 'tablet':0}\n",
    "{key:value for (key, value) in products.items() if value>0}"
   ]
  },
  {
   "cell_type": "code",
   "execution_count": 5,
   "id": "0adb79d8-a7b9-4df3-bf3f-656d014d7a84",
   "metadata": {},
   "outputs": [
    {
     "data": {
      "text/plain": [
       "{2: {1: 2, 2: 4, 3: 6, 4: 8, 5: 10, 6: 12, 7: 14, 8: 16, 9: 18, 10: 20},\n",
       " 3: {1: 3, 2: 6, 3: 9, 4: 12, 5: 15, 6: 18, 7: 21, 8: 24, 9: 27, 10: 30},\n",
       " 4: {1: 4, 2: 8, 3: 12, 4: 16, 5: 20, 6: 24, 7: 28, 8: 32, 9: 36, 10: 40}}"
      ]
     },
     "execution_count": 5,
     "metadata": {},
     "output_type": "execute_result"
    }
   ],
   "source": [
    "# Nested Comprehension\n",
    "# Print multiplication tables for 2 to 4\n",
    "{i:{j:i*j for j in range(1, 11)} for i in range(2, 5)}"
   ]
  },
  {
   "cell_type": "code",
   "execution_count": 6,
   "id": "f7acc72e-12c1-4554-8aaf-1c0cee9c13cb",
   "metadata": {},
   "outputs": [
    {
     "data": {
      "text/plain": [
       "{2: {1: 2, 2: 4, 3: 6, 4: 8},\n",
       " 3: {1: 3, 2: 6, 3: 9, 4: 12},\n",
       " 4: {1: 4, 2: 8, 3: 12, 4: 16}}"
      ]
     },
     "execution_count": 6,
     "metadata": {},
     "output_type": "execute_result"
    }
   ],
   "source": [
    "{\n",
    "    2:{1:2, 2:4, 3:6, 4:8},\n",
    "    3:{1:3, 2:6, 3:9, 4:12},\n",
    "    4:{1:4, 2:8, 3:12, 4:16}\n",
    "}\n"
   ]
  },
  {
   "cell_type": "code",
   "execution_count": null,
   "id": "428c5d59-0778-4fd6-aeda-ed5c7dbad4cb",
   "metadata": {},
   "outputs": [],
   "source": []
  }
 ],
 "metadata": {
  "kernelspec": {
   "display_name": "Python 3 (ipykernel)",
   "language": "python",
   "name": "python3"
  },
  "language_info": {
   "codemirror_mode": {
    "name": "ipython",
    "version": 3
   },
   "file_extension": ".py",
   "mimetype": "text/x-python",
   "name": "python",
   "nbconvert_exporter": "python",
   "pygments_lexer": "ipython3",
   "version": "3.12.7"
  }
 },
 "nbformat": 4,
 "nbformat_minor": 5
}
