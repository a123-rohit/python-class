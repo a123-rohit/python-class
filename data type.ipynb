{
 "cells": [
  {
   "cell_type": "markdown",
   "id": "9034eae6-3385-4f7b-a29b-a23d9da60821",
   "metadata": {},
   "source": [
    "data type "
   ]
  },
  {
   "cell_type": "markdown",
   "id": "7afa0a5a-0a47-4d20-bc7e-41eadf1be58c",
   "metadata": {},
   "source": [
    "basic data type"
   ]
  },
  {
   "cell_type": "code",
   "execution_count": 2,
   "id": "313c4ed6-e18e-4f39-8272-9a57f1dc1d81",
   "metadata": {},
   "outputs": [
    {
     "data": {
      "text/plain": [
       "5"
      ]
     },
     "execution_count": 2,
     "metadata": {},
     "output_type": "execute_result"
    }
   ],
   "source": [
    "int(5)"
   ]
  },
  {
   "cell_type": "code",
   "execution_count": 4,
   "id": "f53309a5-0bc0-4c7b-afdc-b1c8839096aa",
   "metadata": {},
   "outputs": [
    {
     "data": {
      "text/plain": [
       "int"
      ]
     },
     "execution_count": 4,
     "metadata": {},
     "output_type": "execute_result"
    }
   ],
   "source": [
    "type(6)"
   ]
  },
  {
   "cell_type": "code",
   "execution_count": 6,
   "id": "a8ae1082-28dd-4d0f-98a2-447c80cf2942",
   "metadata": {},
   "outputs": [
    {
     "data": {
      "text/plain": [
       "2"
      ]
     },
     "execution_count": 6,
     "metadata": {},
     "output_type": "execute_result"
    }
   ],
   "source": [
    "int(2.5)"
   ]
  },
  {
   "cell_type": "code",
   "execution_count": 8,
   "id": "49d5ccef-7471-4c3f-85b2-a3b75174cd39",
   "metadata": {},
   "outputs": [
    {
     "data": {
      "text/plain": [
       "float"
      ]
     },
     "execution_count": 8,
     "metadata": {},
     "output_type": "execute_result"
    }
   ],
   "source": [
    "type(2.5)"
   ]
  },
  {
   "cell_type": "code",
   "execution_count": 25,
   "id": "ada72991-621c-4324-918d-9e14ee7971b4",
   "metadata": {},
   "outputs": [
    {
     "name": "stdout",
     "output_type": "stream",
     "text": [
      "2\n"
     ]
    }
   ],
   "source": [
    "print(True+True)"
   ]
  },
  {
   "cell_type": "code",
   "execution_count": 27,
   "id": "8050faab-8214-4b33-91af-8b7c41698741",
   "metadata": {},
   "outputs": [
    {
     "name": "stdout",
     "output_type": "stream",
     "text": [
      "1\n"
     ]
    }
   ],
   "source": [
    "print(True+False)"
   ]
  },
  {
   "cell_type": "code",
   "execution_count": 29,
   "id": "0543a26e-6777-4e74-a467-02bbbd8dcded",
   "metadata": {},
   "outputs": [
    {
     "name": "stdout",
     "output_type": "stream",
     "text": [
      "-1\n"
     ]
    }
   ],
   "source": [
    "print(False-True)"
   ]
  },
  {
   "cell_type": "code",
   "execution_count": 33,
   "id": "0ba84c26-5ca2-422c-9894-180fcdb22026",
   "metadata": {},
   "outputs": [
    {
     "data": {
      "text/plain": [
       "bool"
      ]
     },
     "execution_count": 33,
     "metadata": {},
     "output_type": "execute_result"
    }
   ],
   "source": [
    "type(True)"
   ]
  },
  {
   "cell_type": "code",
   "execution_count": 35,
   "id": "47b545f1-4e6f-4170-a1d0-c5cf5c23f8cc",
   "metadata": {},
   "outputs": [
    {
     "name": "stdout",
     "output_type": "stream",
     "text": [
      "(1+5j)\n"
     ]
    }
   ],
   "source": [
    "print(1+5j)"
   ]
  },
  {
   "cell_type": "code",
   "execution_count": 37,
   "id": "dfe84413-cb56-4500-bd0c-3f91c855af33",
   "metadata": {},
   "outputs": [
    {
     "data": {
      "text/plain": [
       "complex"
      ]
     },
     "execution_count": 37,
     "metadata": {},
     "output_type": "execute_result"
    }
   ],
   "source": [
    "type(21+697j)"
   ]
  },
  {
   "cell_type": "code",
   "execution_count": 39,
   "id": "031dcb29-16e1-4dfb-ad3f-a403fb78f197",
   "metadata": {},
   "outputs": [
    {
     "data": {
      "text/plain": [
       "str"
      ]
     },
     "execution_count": 39,
     "metadata": {},
     "output_type": "execute_result"
    }
   ],
   "source": [
    "type(\"choudhary\")"
   ]
  },
  {
   "cell_type": "code",
   "execution_count": 41,
   "id": "c3e519de-7bb8-48b7-ba6c-f406ecdc23f3",
   "metadata": {},
   "outputs": [
    {
     "name": "stdout",
     "output_type": "stream",
     "text": [
      "rohit\n"
     ]
    }
   ],
   "source": [
    "print('rohit')"
   ]
  },
  {
   "cell_type": "markdown",
   "id": "6ff6bd23-c406-45d5-ab47-432d3312ecdd",
   "metadata": {},
   "source": [
    "container data type "
   ]
  },
  {
   "cell_type": "code",
   "execution_count": 52,
   "id": "3f3327d3-e4a7-441d-937d-b6afffd70391",
   "metadata": {},
   "outputs": [
    {
     "data": {
      "text/plain": [
       "list"
      ]
     },
     "execution_count": 52,
     "metadata": {},
     "output_type": "execute_result"
    }
   ],
   "source": [
    "type([1,2,3,4,5])"
   ]
  },
  {
   "cell_type": "code",
   "execution_count": 54,
   "id": "393382a5-3868-4d54-9115-a3b106d5d4bd",
   "metadata": {},
   "outputs": [
    {
     "name": "stdout",
     "output_type": "stream",
     "text": [
      "[1, 3, 4, 5]\n"
     ]
    }
   ],
   "source": [
    "print([1,3,4,5])"
   ]
  },
  {
   "cell_type": "code",
   "execution_count": 58,
   "id": "6f84523c-d4dd-4d31-949d-2180bc1f9fee",
   "metadata": {},
   "outputs": [
    {
     "data": {
      "text/plain": [
       "tuple"
      ]
     },
     "execution_count": 58,
     "metadata": {},
     "output_type": "execute_result"
    }
   ],
   "source": [
    "type((1,2,3,4,5,6))"
   ]
  },
  {
   "cell_type": "code",
   "execution_count": 62,
   "id": "2e729ffb-243f-4020-9561-f8b6498eb9b6",
   "metadata": {},
   "outputs": [
    {
     "data": {
      "text/plain": [
       "set"
      ]
     },
     "execution_count": 62,
     "metadata": {},
     "output_type": "execute_result"
    }
   ],
   "source": [
    "type({1,2,3,4,5})"
   ]
  },
  {
   "cell_type": "code",
   "execution_count": 66,
   "id": "5dabb6d6-a023-4694-890d-d04093dab2a7",
   "metadata": {},
   "outputs": [
    {
     "name": "stdout",
     "output_type": "stream",
     "text": [
      "{'name': 'rohit', 'age': 20}\n"
     ]
    }
   ],
   "source": [
    "print({\"name\":\"rohit\",\"age\":20,})"
   ]
  },
  {
   "cell_type": "code",
   "execution_count": null,
   "id": "4d3b6fa7-958f-43fd-a52d-3726107da0af",
   "metadata": {},
   "outputs": [],
   "source": []
  }
 ],
 "metadata": {
  "kernelspec": {
   "display_name": "Python [conda env:base] *",
   "language": "python",
   "name": "conda-base-py"
  },
  "language_info": {
   "codemirror_mode": {
    "name": "ipython",
    "version": 3
   },
   "file_extension": ".py",
   "mimetype": "text/x-python",
   "name": "python",
   "nbconvert_exporter": "python",
   "pygments_lexer": "ipython3",
   "version": "3.12.7"
  }
 },
 "nbformat": 4,
 "nbformat_minor": 5
}
