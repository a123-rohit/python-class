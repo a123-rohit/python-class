{
 "cells": [
  {
   "cell_type": "markdown",
   "id": "fb53c9a6-bf9d-4407-b542-3dfd07fc1143",
   "metadata": {},
   "source": [
    "# oops(object oriented programming)"
   ]
  },
  {
   "cell_type": "code",
   "execution_count": 11,
   "id": "e41f2ae6-d894-44f1-9135-3c19c3f5c987",
   "metadata": {},
   "outputs": [
    {
     "name": "stdout",
     "output_type": "stream",
     "text": [
      "rohit\n",
      "rohit\n",
      "\n"
     ]
    }
   ],
   "source": [
    "class test:\n",
    "    def __init__(self):\n",
    "        print(\"rohit\")\n",
    "t1=test()\n",
    "t2=test()\n",
    "print()"
   ]
  },
  {
   "cell_type": "code",
   "execution_count": 26,
   "id": "36043719-ea1c-4891-85d2-fac0140b3025",
   "metadata": {},
   "outputs": [
    {
     "name": "stdout",
     "output_type": "stream",
     "text": [
      "3 4\n"
     ]
    }
   ],
   "source": [
    "class test:\n",
    "    def __init__(self,a,b): \n",
    "        self.a=a\n",
    "        self.b=b \n",
    "r1=test(3,4)\n",
    "print(r1.a,r1.b)"
   ]
  },
  {
   "cell_type": "code",
   "execution_count": 36,
   "id": "5f445a2b-32ef-4419-af79-f3e19a9a5564",
   "metadata": {},
   "outputs": [
    {
     "name": "stdout",
     "output_type": "stream",
     "text": [
      "58 66\n"
     ]
    }
   ],
   "source": [
    "class tecnoglobe:\n",
    "    def __init__(self,c,e):\n",
    "        self.c=c\n",
    "        self.e=e\n",
    "t1=tecnoglobe(58,66)\n",
    "print(t1.c,t1.e)"
   ]
  },
  {
   "cell_type": "raw",
   "id": "63ee82dd-bab1-4b33-8789-ccca6ea866c7",
   "metadata": {},
   "source": [
    "\"Everything in Python is an Object\"\n",
    "But, What is an Object?\n",
    "What is OOP?\n",
    "The PROBLEM!\n",
    "Generality to Specificity\n",
    "The Core Fundamental Feature of OOP:\n",
    "\n",
    "\"One of the core fundamental features of OOP is the ability to create Custom Data Types tailored to specific needs (e.g., LinkedIn platform).\n",
    "\n",
    "Without OOP:\n",
    "\n",
    "Reliance on primitive data types: int, list, tuple.\n",
    "Less optimal Not tailored, harder to manage.\n",
    "With OOP:\n",
    "\n",
    "Custom Types: Efficient, intuitive, scalable.\n",
    "Encapsulation: Better feature management.\n",
    "Manageable Codebase.\n",
    "So, What is Object Oriented Programming?\n",
    "Key Concepts of OOP:\n",
    "\n",
    "Object\n",
    "Class\n",
    "Polymorphism\n",
    "Encapsulation\n",
    "Inheritance\n",
    "Abstraction\n",
    "CLASS\n",
    "Blueprint for objects\n",
    "Defines object behavior\n",
    "(from now onwards variable == object)"
   ]
  },
  {
   "cell_type": "code",
   "execution_count": 46,
   "id": "0b2c8109-897e-4011-beb6-8cab843dedde",
   "metadata": {},
   "outputs": [
    {
     "data": {
      "text/plain": [
       "[(5, 6, 5, 7, 5, 8, 6, 10, 7, 13)]"
      ]
     },
     "execution_count": 46,
     "metadata": {},
     "output_type": "execute_result"
    }
   ],
   "source": [
    " [(5, 6)+ (5, 7)+(5, 8)+ (6, 10)+ (7, 13)]"
   ]
  },
  {
   "cell_type": "code",
   "execution_count": null,
   "id": "8c80cd44-dcf5-497a-b6f6-7308d7618c52",
   "metadata": {},
   "outputs": [],
   "source": []
  }
 ],
 "metadata": {
  "kernelspec": {
   "display_name": "Python [conda env:base] *",
   "language": "python",
   "name": "conda-base-py"
  },
  "language_info": {
   "codemirror_mode": {
    "name": "ipython",
    "version": 3
   },
   "file_extension": ".py",
   "mimetype": "text/x-python",
   "name": "python",
   "nbconvert_exporter": "python",
   "pygments_lexer": "ipython3",
   "version": "3.12.7"
  }
 },
 "nbformat": 4,
 "nbformat_minor": 5
}
