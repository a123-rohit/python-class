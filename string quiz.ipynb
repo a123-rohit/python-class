{
 "cells": [
  {
   "cell_type": "markdown",
   "id": "e4f84eb8-381a-4d17-9d3d-97547600a263",
   "metadata": {},
   "source": [
    "# String quiz"
   ]
  },
  {
   "cell_type": "code",
   "execution_count": 4,
   "id": "401994a2-1848-4219-b888-a8467cd09a24",
   "metadata": {},
   "outputs": [
    {
     "data": {
      "text/plain": [
       "6"
      ]
     },
     "execution_count": 4,
     "metadata": {},
     "output_type": "execute_result"
    }
   ],
   "source": [
    "len(\"python\")"
   ]
  },
  {
   "cell_type": "code",
   "execution_count": 10,
   "id": "9c314bc7-e12d-46cb-b750-b915945cc3b3",
   "metadata": {},
   "outputs": [
    {
     "data": {
      "text/plain": [
       "'e'"
      ]
     },
     "execution_count": 10,
     "metadata": {},
     "output_type": "execute_result"
    }
   ],
   "source": [
    "\"hello\"[1]"
   ]
  },
  {
   "cell_type": "code",
   "execution_count": 14,
   "id": "bcab12ba-021e-4d40-b1cb-f79640b7c8a1",
   "metadata": {},
   "outputs": [
    {
     "data": {
      "text/plain": [
       "'n'"
      ]
     },
     "execution_count": 14,
     "metadata": {},
     "output_type": "execute_result"
    }
   ],
   "source": [
    "\"python\"[-1]"
   ]
  },
  {
   "cell_type": "code",
   "execution_count": 30,
   "id": "77dca915-79f3-4b32-84d0-a88a91952af5",
   "metadata": {},
   "outputs": [
    {
     "ename": "NameError",
     "evalue": "name 'lower' is not defined",
     "output_type": "error",
     "traceback": [
      "\u001b[1;31m---------------------------------------------------------------------------\u001b[0m",
      "\u001b[1;31mNameError\u001b[0m                                 Traceback (most recent call last)",
      "Cell \u001b[1;32mIn[30], line 1\u001b[0m\n\u001b[1;32m----> 1\u001b[0m lower(\u001b[38;5;124m\"\u001b[39m\u001b[38;5;124mPYTHON\u001b[39m\u001b[38;5;124m\"\u001b[39m)\n",
      "\u001b[1;31mNameError\u001b[0m: name 'lower' is not defined"
     ]
    }
   ],
   "source": [
    "lower(\"PYTHON\")"
   ]
  },
  {
   "cell_type": "code",
   "execution_count": 32,
   "id": "91e7988c-b421-4faf-ba49-549615b9620e",
   "metadata": {},
   "outputs": [
    {
     "data": {
      "text/plain": [
       "'python'"
      ]
     },
     "execution_count": 32,
     "metadata": {},
     "output_type": "execute_result"
    }
   ],
   "source": [
    "\"PYTHON\".lower()"
   ]
  },
  {
   "cell_type": "code",
   "execution_count": 34,
   "id": "e01272a8-7b1a-4ef9-816e-c5d5a09ea51d",
   "metadata": {},
   "outputs": [
    {
     "data": {
      "text/plain": [
       "'PYTHON'"
      ]
     },
     "execution_count": 34,
     "metadata": {},
     "output_type": "execute_result"
    }
   ],
   "source": [
    "\"python\".upper()"
   ]
  },
  {
   "cell_type": "code",
   "execution_count": 38,
   "id": "71b2ecc6-b361-4265-9a76-2d0722927054",
   "metadata": {},
   "outputs": [
    {
     "data": {
      "text/plain": [
       "'tho'"
      ]
     },
     "execution_count": 38,
     "metadata": {},
     "output_type": "execute_result"
    }
   ],
   "source": [
    "\"python\"[2:5]"
   ]
  },
  {
   "cell_type": "code",
   "execution_count": 44,
   "id": "ce3917e4-d824-473c-a811-b1b78aaa6f72",
   "metadata": {},
   "outputs": [
    {
     "data": {
      "text/plain": [
       "'pythonpython'"
      ]
     },
     "execution_count": 44,
     "metadata": {},
     "output_type": "execute_result"
    }
   ],
   "source": [
    "\"python\"*2"
   ]
  },
  {
   "cell_type": "code",
   "execution_count": 46,
   "id": "7e798074-907e-419f-943f-eff8f26559f7",
   "metadata": {},
   "outputs": [
    {
     "data": {
      "text/plain": [
       "'PythonPython'"
      ]
     },
     "execution_count": 46,
     "metadata": {},
     "output_type": "execute_result"
    }
   ],
   "source": [
    "\"Python\" * 2 "
   ]
  },
  {
   "cell_type": "code",
   "execution_count": 50,
   "id": "900788eb-1a97-4fbf-9612-138134e46544",
   "metadata": {},
   "outputs": [
    {
     "ename": "SyntaxError",
     "evalue": "invalid syntax (448161920.py, line 1)",
     "output_type": "error",
     "traceback": [
      "\u001b[1;36m  Cell \u001b[1;32mIn[50], line 1\u001b[1;36m\u001b[0m\n\u001b[1;33m    \"python\"startwith()\u001b[0m\n\u001b[1;37m            ^\u001b[0m\n\u001b[1;31mSyntaxError\u001b[0m\u001b[1;31m:\u001b[0m invalid syntax\n"
     ]
    }
   ],
   "source": [
    "\"python\"startwith()"
   ]
  },
  {
   "cell_type": "code",
   "execution_count": 66,
   "id": "91d65ade-7c5a-475c-963f-00ad2e2b2efd",
   "metadata": {},
   "outputs": [
    {
     "data": {
      "text/plain": [
       "'startwith()hello'"
      ]
     },
     "execution_count": 66,
     "metadata": {},
     "output_type": "execute_result"
    }
   ],
   "source": [
    "\"startwith()\" \"hello\""
   ]
  },
  {
   "cell_type": "markdown",
   "id": "21fffce9-06cf-44e7-89d6-d0dd6a137bba",
   "metadata": {},
   "source": [
    "# "
   ]
  },
  {
   "cell_type": "raw",
   "id": "5b114e73-faef-4b8e-aafb-51ab46fa831d",
   "metadata": {},
   "source": [
    "How can you check if a string starts with a particular substring?\n",
    "a) startswith()\n",
    "b) beginswith()\n",
    "c) hasprefix()\n",
    "d) start()"
   ]
  },
  {
   "cell_type": "markdown",
   "id": "ba60e7fc-dc18-403f-986a-0abb062d4c13",
   "metadata": {},
   "source": [
    "# Intermediate level"
   ]
  },
  {
   "cell_type": "code",
   "execution_count": 69,
   "id": "896c26e7-ba1e-4a09-a78a-e6a7555249f7",
   "metadata": {},
   "outputs": [
    {
     "data": {
      "text/plain": [
       "'heLLo'"
      ]
     },
     "execution_count": 69,
     "metadata": {},
     "output_type": "execute_result"
    }
   ],
   "source": [
    "\"hello\".replace('l','L')"
   ]
  },
  {
   "cell_type": "code",
   "execution_count": 85,
   "id": "2f28ef5f-69c4-4382-9807-3453f6582349",
   "metadata": {},
   "outputs": [
    {
     "data": {
      "text/plain": [
       "'      world    '"
      ]
     },
     "execution_count": 85,
     "metadata": {},
     "output_type": "execute_result"
    }
   ],
   "source": [
    "a=\"      world    \"\n",
    "a"
   ]
  },
  {
   "cell_type": "code",
   "execution_count": 87,
   "id": "d1666412-f799-47f5-a20d-0331499d624d",
   "metadata": {},
   "outputs": [
    {
     "data": {
      "text/plain": [
       "'world'"
      ]
     },
     "execution_count": 87,
     "metadata": {},
     "output_type": "execute_result"
    }
   ],
   "source": [
    "a.strip()"
   ]
  },
  {
   "cell_type": "code",
   "execution_count": null,
   "id": "f4e3853e-4d86-4bff-961f-d2459d25370d",
   "metadata": {},
   "outputs": [],
   "source": []
  },
  {
   "cell_type": "code",
   "execution_count": 96,
   "id": "98279f20-2076-4902-9dce-3c2c10e2adba",
   "metadata": {},
   "outputs": [
    {
     "data": {
      "text/plain": [
       "['hello', 'world']"
      ]
     },
     "execution_count": 96,
     "metadata": {},
     "output_type": "execute_result"
    }
   ],
   "source": [
    "\"hello,world\".split(\",\")"
   ]
  },
  {
   "cell_type": "code",
   "execution_count": 100,
   "id": "df440ab3-de9b-4554-bcab-bc9500b0b3f4",
   "metadata": {},
   "outputs": [
    {
     "ename": "NameError",
     "evalue": "name 'isdigit' is not defined",
     "output_type": "error",
     "traceback": [
      "\u001b[1;31m---------------------------------------------------------------------------\u001b[0m",
      "\u001b[1;31mNameError\u001b[0m                                 Traceback (most recent call last)",
      "Cell \u001b[1;32mIn[100], line 1\u001b[0m\n\u001b[1;32m----> 1\u001b[0m isdigit(\u001b[38;5;241m1\u001b[39m,\u001b[38;5;241m2\u001b[39m,\u001b[38;5;241m43\u001b[39m,\u001b[38;5;241m5\u001b[39m,\u001b[38;5;124m\"\u001b[39m\u001b[38;5;124mhello world\u001b[39m\u001b[38;5;124m\"\u001b[39m)\n",
      "\u001b[1;31mNameError\u001b[0m: name 'isdigit' is not defined"
     ]
    }
   ],
   "source": [
    "isdigit(1,2,43,5,\"hello world\")"
   ]
  },
  {
   "cell_type": "code",
   "execution_count": 108,
   "id": "e85ea3f4-a01e-4dc9-810a-31050804cf1f",
   "metadata": {},
   "outputs": [
    {
     "ename": "AttributeError",
     "evalue": "'list' object has no attribute 'digit'",
     "output_type": "error",
     "traceback": [
      "\u001b[1;31m---------------------------------------------------------------------------\u001b[0m",
      "\u001b[1;31mAttributeError\u001b[0m                            Traceback (most recent call last)",
      "Cell \u001b[1;32mIn[108], line 2\u001b[0m\n\u001b[0;32m      1\u001b[0m a\u001b[38;5;241m=\u001b[39m[\u001b[38;5;241m1\u001b[39m,\u001b[38;5;241m2\u001b[39m,\u001b[38;5;241m3\u001b[39m]\n\u001b[1;32m----> 2\u001b[0m a\u001b[38;5;241m.\u001b[39mdigit\n",
      "\u001b[1;31mAttributeError\u001b[0m: 'list' object has no attribute 'digit'"
     ]
    }
   ],
   "source": [
    "a=[1,2,3]\n",
    "a.digit"
   ]
  },
  {
   "cell_type": "code",
   "execution_count": 114,
   "id": "b8de4d04-4cdd-45c1-bc49-296f605ec4ce",
   "metadata": {},
   "outputs": [
    {
     "data": {
      "text/plain": [
       "True"
      ]
     },
     "execution_count": 114,
     "metadata": {},
     "output_type": "execute_result"
    }
   ],
   "source": [
    "a=\"11234\"\n",
    "(a.isdigit())"
   ]
  },
  {
   "cell_type": "code",
   "execution_count": 116,
   "id": "89eb30f6-9981-479d-8fa6-cf166cfcf8db",
   "metadata": {},
   "outputs": [
    {
     "data": {
      "text/plain": [
       "'00123'"
      ]
     },
     "execution_count": 116,
     "metadata": {},
     "output_type": "execute_result"
    }
   ],
   "source": [
    "\"123\".zfill(5)"
   ]
  },
  {
   "cell_type": "code",
   "execution_count": 118,
   "id": "a165c6fb-263b-46df-9052-0dea4dd6532e",
   "metadata": {},
   "outputs": [
    {
     "data": {
      "text/plain": [
       "2"
      ]
     },
     "execution_count": 118,
     "metadata": {},
     "output_type": "execute_result"
    }
   ],
   "source": [
    "\"Hello\".find(\"l\") "
   ]
  },
  {
   "cell_type": "code",
   "execution_count": 120,
   "id": "cea6ffe0-2f47-45c0-b70f-11c2b020e0fd",
   "metadata": {},
   "outputs": [
    {
     "data": {
      "text/plain": [
       "'Hello'"
      ]
     },
     "execution_count": 120,
     "metadata": {},
     "output_type": "execute_result"
    }
   ],
   "source": [
    "\"hello\".capitalize()\n",
    "\n"
   ]
  },
  {
   "cell_type": "code",
   "execution_count": 126,
   "id": "97ffcc44-8eff-4bf7-9f35-ef28ef05b778",
   "metadata": {},
   "outputs": [
    {
     "data": {
      "text/plain": [
       "True"
      ]
     },
     "execution_count": 126,
     "metadata": {},
     "output_type": "execute_result"
    }
   ],
   "source": [
    "a=\"rohit\"\n",
    "(a.isalpha())"
   ]
  },
  {
   "cell_type": "code",
   "execution_count": 128,
   "id": "f2202b68-739d-44f9-8179-d7cb9b18b95e",
   "metadata": {},
   "outputs": [
    {
     "data": {
      "text/plain": [
       "False"
      ]
     },
     "execution_count": 128,
     "metadata": {},
     "output_type": "execute_result"
    }
   ],
   "source": [
    "a=\"3849\"\n",
    "(a.isalpha())"
   ]
  },
  {
   "cell_type": "code",
   "execution_count": 130,
   "id": "94796997-15bb-4cb2-b89c-359f4c11b8ef",
   "metadata": {},
   "outputs": [
    {
     "data": {
      "text/plain": [
       "'Python-is-fun'"
      ]
     },
     "execution_count": 130,
     "metadata": {},
     "output_type": "execute_result"
    }
   ],
   "source": [
    "\"-\".join([\"Python\", \"is\", \"fun\"])"
   ]
  },
  {
   "cell_type": "code",
   "execution_count": 134,
   "id": "1d087bfe-ae9b-4924-aad5-717d2acfcdfd",
   "metadata": {},
   "outputs": [
    {
     "data": {
      "text/plain": [
       "'nohtyP'"
      ]
     },
     "execution_count": 134,
     "metadata": {},
     "output_type": "execute_result"
    }
   ],
   "source": [
    "\"Python\"[::-1]"
   ]
  },
  {
   "cell_type": "code",
   "execution_count": 138,
   "id": "54abe3d4-2905-47ff-9562-cbc0fab19896",
   "metadata": {},
   "outputs": [
    {
     "data": {
      "text/plain": [
       "'HELLO'"
      ]
     },
     "execution_count": 138,
     "metadata": {},
     "output_type": "execute_result"
    }
   ],
   "source": [
    "\"hello\".upper()"
   ]
  },
  {
   "cell_type": "code",
   "execution_count": 142,
   "id": "6187398d-9206-4f71-94fa-5f90707425f6",
   "metadata": {},
   "outputs": [
    {
     "data": {
      "text/plain": [
       "'hello'"
      ]
     },
     "execution_count": 142,
     "metadata": {},
     "output_type": "execute_result"
    }
   ],
   "source": [
    "\"HELLO\".lower()"
   ]
  },
  {
   "cell_type": "code",
   "execution_count": 148,
   "id": "3f1b095a-114e-4416-b842-cc328b73b1af",
   "metadata": {},
   "outputs": [
    {
     "data": {
      "text/plain": [
       "1"
      ]
     },
     "execution_count": 148,
     "metadata": {},
     "output_type": "execute_result"
    }
   ],
   "source": [
    "\"python\".find(\"y\")"
   ]
  },
  {
   "cell_type": "code",
   "execution_count": 150,
   "id": "9b1ca7cc-a8ab-4ae2-91dc-751f8e82b77a",
   "metadata": {},
   "outputs": [
    {
     "data": {
      "text/plain": [
       "'Jython'"
      ]
     },
     "execution_count": 150,
     "metadata": {},
     "output_type": "execute_result"
    }
   ],
   "source": [
    "\"Python\".replace(\"P\", \"J\")"
   ]
  },
  {
   "cell_type": "code",
   "execution_count": 152,
   "id": "2c84f879-6818-457e-a931-6c448bdcd4d9",
   "metadata": {},
   "outputs": [
    {
     "data": {
      "text/plain": [
       "['a', 'b', 'c']"
      ]
     },
     "execution_count": 152,
     "metadata": {},
     "output_type": "execute_result"
    }
   ],
   "source": [
    "\"a,b,c\".split(\",\")"
   ]
  },
  {
   "cell_type": "code",
   "execution_count": 154,
   "id": "2be057ca-12ef-43ad-8b7f-6f86fe350c19",
   "metadata": {},
   "outputs": [
    {
     "data": {
      "text/plain": [
       "'Hello World'"
      ]
     },
     "execution_count": 154,
     "metadata": {},
     "output_type": "execute_result"
    }
   ],
   "source": [
    "\" \".join([\"Hello\", \"World\"])"
   ]
  },
  {
   "cell_type": "code",
   "execution_count": 156,
   "id": "9d5d7063-768f-4868-89f3-331b34c67c52",
   "metadata": {},
   "outputs": [
    {
     "data": {
      "text/plain": [
       "'Hello World'"
      ]
     },
     "execution_count": 156,
     "metadata": {},
     "output_type": "execute_result"
    }
   ],
   "source": [
    "\"hello world\".title()"
   ]
  },
  {
   "cell_type": "code",
   "execution_count": 158,
   "id": "f5f0ca4a-aca8-4611-a396-25093b8f7996",
   "metadata": {},
   "outputs": [
    {
     "data": {
      "text/plain": [
       "True"
      ]
     },
     "execution_count": 158,
     "metadata": {},
     "output_type": "execute_result"
    }
   ],
   "source": [
    "\"Python\".startswith(\"Py\")"
   ]
  },
  {
   "cell_type": "code",
   "execution_count": 160,
   "id": "4dfd8cda-dd62-49ce-b71e-7c8bf8a79db1",
   "metadata": {},
   "outputs": [
    {
     "data": {
      "text/plain": [
       "True"
      ]
     },
     "execution_count": 160,
     "metadata": {},
     "output_type": "execute_result"
    }
   ],
   "source": [
    "\"Python\".endswith(\"on\")"
   ]
  },
  {
   "cell_type": "code",
   "execution_count": 162,
   "id": "7fef61a3-7f4b-452a-b5d7-a03fc71e5d25",
   "metadata": {},
   "outputs": [
    {
     "data": {
      "text/plain": [
       "'hello'"
      ]
     },
     "execution_count": 162,
     "metadata": {},
     "output_type": "execute_result"
    }
   ],
   "source": [
    "\"  hello  \".strip()"
   ]
  },
  {
   "cell_type": "code",
   "execution_count": 164,
   "id": "86557b49-5ad9-4424-ac69-a545c5442a51",
   "metadata": {},
   "outputs": [
    {
     "data": {
      "text/plain": [
       "True"
      ]
     },
     "execution_count": 164,
     "metadata": {},
     "output_type": "execute_result"
    }
   ],
   "source": [
    "\"hello123\".isalnum()"
   ]
  },
  {
   "cell_type": "code",
   "execution_count": 166,
   "id": "353021c7-41e7-4165-a17f-e7a274e6725b",
   "metadata": {},
   "outputs": [
    {
     "data": {
      "text/plain": [
       "True"
      ]
     },
     "execution_count": 166,
     "metadata": {},
     "output_type": "execute_result"
    }
   ],
   "source": [
    "\"12345\".isdigit()"
   ]
  },
  {
   "cell_type": "code",
   "execution_count": 168,
   "id": "8156c89d-a2f1-49b3-9a0e-66659a502eab",
   "metadata": {},
   "outputs": [
    {
     "data": {
      "text/plain": [
       "True"
      ]
     },
     "execution_count": 168,
     "metadata": {},
     "output_type": "execute_result"
    }
   ],
   "source": [
    "\"Hello\".isalpha()"
   ]
  },
  {
   "cell_type": "code",
   "execution_count": 170,
   "id": "5b658068-513f-4678-922e-38043b226e48",
   "metadata": {},
   "outputs": [
    {
     "data": {
      "text/plain": [
       "2"
      ]
     },
     "execution_count": 170,
     "metadata": {},
     "output_type": "execute_result"
    }
   ],
   "source": [
    "\"hello world\".count(\"o\")"
   ]
  },
  {
   "cell_type": "code",
   "execution_count": 172,
   "id": "b9a6c089-9e90-4339-843e-69e02ad17b63",
   "metadata": {},
   "outputs": [
    {
     "data": {
      "text/plain": [
       "'hello-----'"
      ]
     },
     "execution_count": 172,
     "metadata": {},
     "output_type": "execute_result"
    }
   ],
   "source": [
    "\"hello\".ljust(10, '-')"
   ]
  },
  {
   "cell_type": "code",
   "execution_count": 174,
   "id": "42f8743b-1eae-4980-beb9-5ec794e005a6",
   "metadata": {},
   "outputs": [
    {
     "data": {
      "text/plain": [
       "'-----hello'"
      ]
     },
     "execution_count": 174,
     "metadata": {},
     "output_type": "execute_result"
    }
   ],
   "source": [
    "\"hello\".rjust(10, '-')"
   ]
  },
  {
   "cell_type": "code",
   "execution_count": 176,
   "id": "223a6880-2500-4214-9acf-c33c7ec7c509",
   "metadata": {},
   "outputs": [
    {
     "data": {
      "text/plain": [
       "'3.14'"
      ]
     },
     "execution_count": 176,
     "metadata": {},
     "output_type": "execute_result"
    }
   ],
   "source": [
    "\"{:.2f}\".format(3.14159)"
   ]
  },
  {
   "cell_type": "code",
   "execution_count": 178,
   "id": "0da7501a-d27c-4ff3-a899-d82e1e0c7555",
   "metadata": {},
   "outputs": [
    {
     "data": {
      "text/plain": [
       "'Value is 15'"
      ]
     },
     "execution_count": 178,
     "metadata": {},
     "output_type": "execute_result"
    }
   ],
   "source": [
    "f\"Value is {10+5}\""
   ]
  },
  {
   "cell_type": "code",
   "execution_count": null,
   "id": "b7249b31-7758-408b-a6a8-62da2a90b7c6",
   "metadata": {},
   "outputs": [],
   "source": []
  }
 ],
 "metadata": {
  "kernelspec": {
   "display_name": "Python [conda env:base] *",
   "language": "python",
   "name": "conda-base-py"
  },
  "language_info": {
   "codemirror_mode": {
    "name": "ipython",
    "version": 3
   },
   "file_extension": ".py",
   "mimetype": "text/x-python",
   "name": "python",
   "nbconvert_exporter": "python",
   "pygments_lexer": "ipython3",
   "version": "3.12.7"
  }
 },
 "nbformat": 4,
 "nbformat_minor": 5
}
