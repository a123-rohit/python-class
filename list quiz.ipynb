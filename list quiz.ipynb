{
 "cells": [
  {
   "cell_type": "raw",
   "id": "3a8761f4-af9d-432b-a262-a5ecfc9b92c8",
   "metadata": {},
   "source": [
    "Here are 20 Python **list** questions for practice:  \n",
    "\n",
    "### **Basic Level**  \n",
    "1. What is a list in Python? How is it different from a tuple?  \n",
    "2. How do you create an empty list in Python?  \n",
    "3. How do you add an element to the end of a list?  \n",
    "4. What is the difference between `append()` and `extend()` in lists?  \n",
    "5. How do you insert an element at a specific index in a list?  \n",
    "6. How do you remove an element from a list by value?  \n",
    "7. How do you remove an element from a list by index?  \n",
    "8. What is the difference between `pop()` and `remove()`?  \n",
    "9. How do you reverse a list in Python?  \n",
    "10. How do you sort a list in ascending and descending order?  \n",
    "\n",
    "### **Intermediate Level**  \n",
    "11. How do you find the length of a list?  \n",
    "12. How do you check if an element exists in a list?  \n",
    "13. How do you access the last element of a list?  \n",
    "14. What is list slicing? Provide an example.  \n",
    "15. How do you copy a list without modifying the original list?  \n",
    "16. What is the difference between `deepcopy()` and `copy()` for lists?  \n",
    "17. How do you concatenate two lists?  \n",
    "18. What is list comprehension? Provide an example.  \n",
    "\n",
    "### **Advanced Level**  \n",
    "19. How do you remove duplicate elements from a list?  \n",
    "20. How do you find the intersection of two lists?  \n",
    "\n",
    "Would you like me to provide solutions for these questions as well? 😊"
   ]
  },
  {
   "cell_type": "markdown",
   "id": "b06ab30e-a195-41e2-adfc-b2167fdd899d",
   "metadata": {},
   "source": [
    "# Basic "
   ]
  },
  {
   "cell_type": "code",
   "execution_count": null,
   "id": "ac23c43a-ca66-464e-920f-43dc09a4bb2b",
   "metadata": {},
   "outputs": [],
   "source": [
    "# 1. What is a list in Python? How is it different from a tuple? \n",
    "A list in Python is a mutable, ordered collection of elements, which can contain elements of different types (e.g., numbers, strings). Lists are created using square brackets [].\n",
    "A tuple is also an ordered collection but is immutable (cannot be changed after creation). Tuples are created using parentheses ()."
   ]
  },
  {
   "cell_type": "code",
   "execution_count": 1,
   "id": "5f20651e-2e6d-47bf-ac58-8fd321cf6d21",
   "metadata": {},
   "outputs": [
    {
     "data": {
      "text/plain": [
       "[]"
      ]
     },
     "execution_count": 1,
     "metadata": {},
     "output_type": "execute_result"
    }
   ],
   "source": [
    "# 2. How do you create an empty list in Python?\n",
    "L=[]\n",
    "L"
   ]
  },
  {
   "cell_type": "code",
   "execution_count": 4,
   "id": "6f6177b7-0452-41fb-8e40-90742134d6f8",
   "metadata": {},
   "outputs": [],
   "source": [
    "#3. How do you add an element to the end of a list? \n",
    "# this quetion we are solve by the help of append.\n",
    "L=[1,42,3]\n",
    "L.append(10)"
   ]
  },
  {
   "cell_type": "code",
   "execution_count": 5,
   "id": "7a66deb4-1eef-470b-9ff3-b2ef9adc7424",
   "metadata": {},
   "outputs": [
    {
     "data": {
      "text/plain": [
       "[1, 42, 3, 10]"
      ]
     },
     "execution_count": 5,
     "metadata": {},
     "output_type": "execute_result"
    }
   ],
   "source": [
    "L"
   ]
  },
  {
   "cell_type": "code",
   "execution_count": 13,
   "id": "d5c4e13a-3561-4c11-abab-0d56aec75424",
   "metadata": {},
   "outputs": [
    {
     "data": {
      "text/plain": [
       "[1, 42, 3, 10, 0, 0, 0, 0]"
      ]
     },
     "execution_count": 13,
     "metadata": {},
     "output_type": "execute_result"
    }
   ],
   "source": [
    "# 4. What is the difference between `append()` and `extend()` in lists?  \n",
    "# append \n",
    "#append() adds a single element to the end of the list.\n",
    "L.append(0)\n",
    "L"
   ]
  },
  {
   "cell_type": "code",
   "execution_count": 31,
   "id": "3a2ab96f-f6bc-4bd2-8434-2171c7759ce8",
   "metadata": {},
   "outputs": [
    {
     "data": {
      "text/plain": [
       "[1,\n",
       " 42,\n",
       " 438,\n",
       " 438,\n",
       " 3,\n",
       " 10,\n",
       " 0,\n",
       " 0,\n",
       " 0,\n",
       " 0,\n",
       " 0,\n",
       " 578,\n",
       " 438,\n",
       " 8077,\n",
       " 578,\n",
       " 438,\n",
       " 0,\n",
       " 578,\n",
       " 0,\n",
       " 578]"
      ]
     },
     "execution_count": 31,
     "metadata": {},
     "output_type": "execute_result"
    }
   ],
   "source": [
    "# extend\n",
    "# extend() adds multiple  element to the end of the list.\n",
    "L.extend([0,578])\n",
    "L"
   ]
  },
  {
   "cell_type": "code",
   "execution_count": 32,
   "id": "8d37e497-264f-447b-bfa1-4a7d7aeeac1d",
   "metadata": {},
   "outputs": [],
   "source": [
    "# How do you insert an element at a specific index in a list?\n",
    "L.insert(2,438)"
   ]
  },
  {
   "cell_type": "code",
   "execution_count": 33,
   "id": "d75f0565-57bd-4a3b-b335-e6ac5f5efdcb",
   "metadata": {},
   "outputs": [
    {
     "data": {
      "text/plain": [
       "[1,\n",
       " 42,\n",
       " 438,\n",
       " 438,\n",
       " 438,\n",
       " 3,\n",
       " 10,\n",
       " 0,\n",
       " 0,\n",
       " 0,\n",
       " 0,\n",
       " 0,\n",
       " 578,\n",
       " 438,\n",
       " 8077,\n",
       " 578,\n",
       " 438,\n",
       " 0,\n",
       " 578,\n",
       " 0,\n",
       " 578]"
      ]
     },
     "execution_count": 33,
     "metadata": {},
     "output_type": "execute_result"
    }
   ],
   "source": [
    "L"
   ]
  },
  {
   "cell_type": "code",
   "execution_count": 39,
   "id": "f5de6149-93f7-4898-9df6-0b67c65808db",
   "metadata": {},
   "outputs": [],
   "source": [
    "#How do you remove an element from a list by value?\n",
    "#Use the remove() method:\n",
    "L.remove(438)"
   ]
  },
  {
   "cell_type": "code",
   "execution_count": 40,
   "id": "efbce37a-44a8-4b40-9467-b5a5cd85891a",
   "metadata": {},
   "outputs": [
    {
     "data": {
      "text/plain": [
       "[1, 42, 438, 3, 10, 0, 0, 0, 0, 0, 578, 438, 8077, 578, 438, 0, 578, 0, 578]"
      ]
     },
     "execution_count": 40,
     "metadata": {},
     "output_type": "execute_result"
    }
   ],
   "source": [
    "L"
   ]
  },
  {
   "cell_type": "code",
   "execution_count": 46,
   "id": "57b7afbd-72de-439b-bd35-cf1a438ed5b0",
   "metadata": {},
   "outputs": [
    {
     "name": "stdout",
     "output_type": "stream",
     "text": [
      "Object `index` not found.\n"
     ]
    },
    {
     "data": {
      "text/plain": [
       "[42, 438, 3, 10, 0, 0, 0, 578, 438, 8077, 578, 438, 0, 578]"
      ]
     },
     "execution_count": 46,
     "metadata": {},
     "output_type": "execute_result"
    }
   ],
   "source": [
    "How do you remove an element from a list by index?\n",
    "# use the pop() method:\n",
    "L.pop(0)\n",
    "L"
   ]
  },
  {
   "cell_type": "code",
   "execution_count": 44,
   "id": "888c8582-d428-4401-a241-fe5277ac6faf",
   "metadata": {},
   "outputs": [
    {
     "ename": "SyntaxError",
     "evalue": "invalid syntax (525519296.py, line 1)",
     "output_type": "error",
     "traceback": [
      "\u001b[1;36m  Cell \u001b[1;32mIn[44], line 1\u001b[1;36m\u001b[0m\n\u001b[1;33m    |\u001b[0m\n\u001b[1;37m    ^\u001b[0m\n\u001b[1;31mSyntaxError\u001b[0m\u001b[1;31m:\u001b[0m invalid syntax\n"
     ]
    }
   ],
   "source": [
    "|"
   ]
  },
  {
   "cell_type": "code",
   "execution_count": 54,
   "id": "10d834f0-ce93-40d6-a1a7-a6a0d231ffcd",
   "metadata": {},
   "outputs": [],
   "source": [
    "# 8. What is the difference between `pop()` and `remove()`?  \n",
    "#pop() removes an element by index and returns the element removed.\n",
    "L.pop(1)  # Removes the element at index 1 and returns it\n",
    "\n",
    "#remove() removes the first occurrence of a value (not index) and does not return anything\n",
    "L.remove(0)# Removes the first occurrence of (0)"
   ]
  },
  {
   "cell_type": "code",
   "execution_count": 53,
   "id": "9f73a125-e003-4eac-9d8b-b450e7e80736",
   "metadata": {},
   "outputs": [
    {
     "data": {
      "text/plain": [
       "[42, 578, 438, 8077, 578, 438, 0, 578]"
      ]
     },
     "execution_count": 53,
     "metadata": {},
     "output_type": "execute_result"
    }
   ],
   "source": [
    "L"
   ]
  },
  {
   "cell_type": "code",
   "execution_count": 56,
   "id": "f33877c0-f213-44fd-9d2c-6a8413a0429e",
   "metadata": {},
   "outputs": [],
   "source": [
    "#How do you reverse a list in Python?\n",
    "\n",
    "#Use the reverse() method:\n",
    "L.reverse()"
   ]
  },
  {
   "cell_type": "code",
   "execution_count": 57,
   "id": "a432d223-0803-415a-a443-cf3ec520a8ac",
   "metadata": {},
   "outputs": [
    {
     "data": {
      "text/plain": [
       "[578, 438, 578, 8077, 438, 42]"
      ]
     },
     "execution_count": 57,
     "metadata": {},
     "output_type": "execute_result"
    }
   ],
   "source": [
    "L"
   ]
  },
  {
   "cell_type": "code",
   "execution_count": 58,
   "id": "d67c9247-89fd-45fc-8536-44129220c5f2",
   "metadata": {},
   "outputs": [],
   "source": [
    "#How do you sort a list in ascending and descending order?\n",
    "#For ascending order:\n",
    "L.sort()"
   ]
  },
  {
   "cell_type": "code",
   "execution_count": 59,
   "id": "a65b6e43-71f2-43f1-bcf3-9c705f8aaf71",
   "metadata": {},
   "outputs": [
    {
     "data": {
      "text/plain": [
       "[42, 438, 438, 578, 578, 8077]"
      ]
     },
     "execution_count": 59,
     "metadata": {},
     "output_type": "execute_result"
    }
   ],
   "source": [
    "L"
   ]
  },
  {
   "cell_type": "code",
   "execution_count": 60,
   "id": "caf54365-a114-40c2-a3aa-076cb543e358",
   "metadata": {},
   "outputs": [],
   "source": [
    "# for descending order\n",
    "L.sort(reverse=True)"
   ]
  },
  {
   "cell_type": "code",
   "execution_count": 61,
   "id": "6b6627e8-8cdf-4179-accd-705a519b0cd3",
   "metadata": {},
   "outputs": [
    {
     "data": {
      "text/plain": [
       "[8077, 578, 578, 438, 438, 42]"
      ]
     },
     "execution_count": 61,
     "metadata": {},
     "output_type": "execute_result"
    }
   ],
   "source": [
    "L"
   ]
  },
  {
   "cell_type": "markdown",
   "id": "54990f90-b14b-4a84-abdf-794ba37d2206",
   "metadata": {},
   "source": [
    "# Intermediate Level"
   ]
  },
  {
   "cell_type": "code",
   "execution_count": 63,
   "id": "822ccd41-a9bb-4a2f-ad0a-70b489d85cd7",
   "metadata": {},
   "outputs": [
    {
     "data": {
      "text/plain": [
       "6"
      ]
     },
     "execution_count": 63,
     "metadata": {},
     "output_type": "execute_result"
    }
   ],
   "source": [
    "# How do you find the length of a list?  \n",
    "# use the len() function\n",
    "len(L)"
   ]
  },
  {
   "cell_type": "code",
   "execution_count": 2,
   "id": "81e2c551-7d3b-46fd-bc81-5747cc5bfa94",
   "metadata": {},
   "outputs": [
    {
     "name": "stdout",
     "output_type": "stream",
     "text": [
      "element not found\n"
     ]
    }
   ],
   "source": [
    "#How do you check if an element exists in a list?\n",
    "#Use the in keyword:\n",
    "L=[1,2,3,45,6]\n",
    "if 5 in L:\n",
    "    print(\"element found\")\n",
    "else: \n",
    "    print(\"element not found\")\n"
   ]
  },
  {
   "cell_type": "code",
   "execution_count": 3,
   "id": "c2830e72-5bb3-410c-83b5-98fffdc5b3f9",
   "metadata": {},
   "outputs": [
    {
     "name": "stdout",
     "output_type": "stream",
     "text": [
      "Element found!\n"
     ]
    }
   ],
   "source": [
    "my_list = [1, 2, 3, 4]\n",
    "if 3 in my_list:\n",
    "    print(\"Element found!\")\n",
    "else:\n",
    "    print(\"Element not found!\")\n"
   ]
  },
  {
   "cell_type": "code",
   "execution_count": 4,
   "id": "c29c9d95-2e26-4be3-bb96-53ba4ec96dc1",
   "metadata": {},
   "outputs": [
    {
     "data": {
      "text/plain": [
       "6"
      ]
     },
     "execution_count": 4,
     "metadata": {},
     "output_type": "execute_result"
    }
   ],
   "source": [
    "# How do you access the last element of a list?\n",
    "#To access the last element of a list, you can use the index -1.\n",
    "# last element =L[-1]\n",
    "L[-1]"
   ]
  },
  {
   "cell_type": "code",
   "execution_count": 5,
   "id": "aee07ccf-f75c-4479-a6b1-bb7c18b779b6",
   "metadata": {},
   "outputs": [
    {
     "name": "stdout",
     "output_type": "stream",
     "text": [
      "[20, 30, 40]\n"
     ]
    }
   ],
   "source": [
    "#14. What is list slicing? Provide an example. \n",
    "#List slicing allows you to create a sublist by specifying a range of indices. The syntax is list[start:end:step], where:\n",
    "\n",
    "#start is the index to start the slice (inclusive),\n",
    "# is the index to stop the slice (exclusive),\n",
    "#step is the interval between elements.\n",
    "L = [10, 20, 30, 40, 50]\n",
    "sliced_list = L[1:4]  # Starts at index 1 and stops before index 4\n",
    "print(sliced_list)  # Output: [20, 30, 40]\n"
   ]
  },
  {
   "cell_type": "code",
   "execution_count": 7,
   "id": "46d9c54f-9353-4162-a6b5-c2db96a0bc34",
   "metadata": {},
   "outputs": [
    {
     "data": {
      "text/plain": [
       "[2, 5, 7]"
      ]
     },
     "execution_count": 7,
     "metadata": {},
     "output_type": "execute_result"
    }
   ],
   "source": [
    "L=[2,5,7,9,56]\n",
    "L[ :3]"
   ]
  },
  {
   "cell_type": "code",
   "execution_count": 9,
   "id": "22affbe3-cada-42e9-857d-706251a9ffa0",
   "metadata": {},
   "outputs": [],
   "source": [
    "#15. How do you copy a list without modifying the original list?\n",
    "#You can copy a list using several methods:\n",
    "    #Using the copy() method.\n",
    "    #Using list slicing ([:]).\n",
    "    #Using the list() constructor.\n",
    "#Example:\n",
    "\n",
    "my_list = [10, 20, 30]\n",
    "copied_list = my_list.copy()\n",
    "# or\n",
    "copied_list = my_list[:]\n",
    "# or\n",
    "copied_list = list(my_list)\n"
   ]
  },
  {
   "cell_type": "code",
   "execution_count": 13,
   "id": "9793f5f1-4dba-47d6-9711-10b7ebe8437a",
   "metadata": {},
   "outputs": [
    {
     "data": {
      "text/plain": [
       "list[[1, 3, 5, 6]]"
      ]
     },
     "execution_count": 13,
     "metadata": {},
     "output_type": "execute_result"
    }
   ],
   "source": [
    "L=[1,3,5,6]\n",
    "L.copy()\n",
    "#or\n",
    "L[ : ]\n",
    "#or\n",
    "list[L]"
   ]
  },
  {
   "cell_type": "code",
   "execution_count": 14,
   "id": "4120d17a-e8be-41cb-ae3b-ec3ca28caa4a",
   "metadata": {},
   "outputs": [
    {
     "data": {
      "text/plain": [
       "[1, 3, 5, 6]"
      ]
     },
     "execution_count": 14,
     "metadata": {},
     "output_type": "execute_result"
    }
   ],
   "source": [
    "L[ : ]"
   ]
  },
  {
   "cell_type": "code",
   "execution_count": 15,
   "id": "41811b5b-a9b4-4888-aabf-325f8f552b46",
   "metadata": {},
   "outputs": [
    {
     "data": {
      "text/plain": [
       "list[[1, 3, 5, 6]]"
      ]
     },
     "execution_count": 15,
     "metadata": {},
     "output_type": "execute_result"
    }
   ],
   "source": [
    "list[L]"
   ]
  },
  {
   "cell_type": "code",
   "execution_count": 16,
   "id": "5d31e7ec-dc11-4e63-91f1-16c13994c057",
   "metadata": {},
   "outputs": [
    {
     "name": "stdout",
     "output_type": "stream",
     "text": [
      "[[999, 2], [3, 4]]\n",
      "[[999, 2], [3, 4]]\n"
     ]
    }
   ],
   "source": [
    "#16. What is the difference between deepcopy() and copy() for lists?\n",
    "\n",
    "#copy() creates a shallow copy of the list. If the list contains nested objects (like other lists), those objects are not copied; the references to the original objects are retained.\n",
    "#deepcopy() creates a deep copy, meaning all objects are recursively copied, and the original list and the copied list do not share references to the same nested objects.\n",
    "import copy\n",
    "\n",
    "original_list = [[1, 2], [3, 4]]\n",
    "shallow_copy = copy.copy(original_list)  # Shallow copy\n",
    "deep_copy = copy.deepcopy(original_list)  # Deep copy\n",
    "\n",
    "# Modifying the shallow copy will affect the original list:\n",
    "shallow_copy[0][0] = 999\n",
    "print(original_list)  # Output: [[999, 2], [3, 4]] (the original list is affected)\n",
    "\n",
    "# Modifying the deep copy won't affect the original list:\n",
    "deep_copy[0][0] = 888\n",
    "print(original_list)  # Output: [[999, 2], [3, 4]] (original list is not affected)\n"
   ]
  },
  {
   "cell_type": "code",
   "execution_count": 30,
   "id": "a748f94f-3e64-4ac2-b9ab-4020c72b06d2",
   "metadata": {},
   "outputs": [
    {
     "name": "stdout",
     "output_type": "stream",
     "text": [
      "[1, 2, 3, 4, 5, 6]\n"
     ]
    }
   ],
   "source": [
    "#17. How do you concatenate two lists? You can concatenate two lists using the + operator.\n",
    "\n",
    "#Example:\n",
    "list1 = [1, 2, 3]\n",
    "list2 = [4, 5, 6]\n",
    "concatenated_list = list1 + list2\n",
    "print(concatenated_list)  # Output: [1, 2, 3, 4, 5, 6]"
   ]
  },
  {
   "cell_type": "code",
   "execution_count": 32,
   "id": "a559c796-745f-4a00-b91c-698611b346ff",
   "metadata": {},
   "outputs": [
    {
     "name": "stdout",
     "output_type": "stream",
     "text": [
      "[1, 2, 3, 4, 2, 3, 5, 7]\n"
     ]
    }
   ],
   "source": [
    "L1=[1,2,3,4]\n",
    "L2=[2,3,5,7]\n",
    "print(L1+L2)"
   ]
  },
  {
   "cell_type": "code",
   "execution_count": 34,
   "id": "ed5d6cd1-800b-4266-aed4-27e3fa100b59",
   "metadata": {},
   "outputs": [
    {
     "name": "stdout",
     "output_type": "stream",
     "text": [
      "[0, 1, 4, 9, 16]\n",
      "[0, 2, 4, 6, 8]\n"
     ]
    }
   ],
   "source": [
    "#18. What is list comprehension? Provide an example.\n",
    "#List comprehension is a concise way to create lists by applying an expression to each item in an iterable.\n",
    "\n",
    "#Example:\n",
    "\n",
    "# Create a list of squares of numbers from 0 to 4\n",
    "squares = [x ** 2 for x in range(5)]\n",
    "print(squares)  # Output: [0, 1, 4, 9, 16]\n",
    "\n",
    "# You can also include conditions in list comprehension:\n",
    "\n",
    "# Create a list of even numbers from 0 to 9\n",
    "even_numbers = [x for x in range(10) if x % 2 == 0]\n",
    "print(even_numbers)  # Output: [0, 2, 4, 6, 8]\n",
    "\n",
    "\n"
   ]
  },
  {
   "cell_type": "markdown",
   "id": "dfe503b0-53a1-4848-9224-1c34531fd022",
   "metadata": {},
   "source": [
    "# Intermediate  question"
   ]
  },
  {
   "cell_type": "code",
   "execution_count": 38,
   "id": "f2acbe3f-025b-4cdc-9fa2-ffe6117ab253",
   "metadata": {},
   "outputs": [
    {
     "name": "stdout",
     "output_type": "stream",
     "text": [
      "{1, 2, 67, 3, 5, 7, 8, 9}\n"
     ]
    }
   ],
   "source": [
    "# how do you remove duplicte elements?\n",
    "#To remove duplicates from a list, you can convert the list to a set (which automatically removes duplicates) and then convert it back to a list.\n",
    "L=[1,2,3,2,3,3,3,2,2,5,5,5,5,67,7,8,9,9]\n",
    "print(set(L))\n",
    "\n"
   ]
  },
  {
   "cell_type": "code",
   "execution_count": 39,
   "id": "d222e017-0d1c-48d9-86fb-a1f8333387f0",
   "metadata": {},
   "outputs": [
    {
     "name": "stdout",
     "output_type": "stream",
     "text": [
      "[1, 2, 3, 4, 5]\n"
     ]
    }
   ],
   "source": [
    "my_list = [1, 2, 2, 3, 4, 4, 5]\n",
    "unique_list = list(set(my_list))\n",
    "print(unique_list)\n"
   ]
  },
  {
   "cell_type": "code",
   "execution_count": 40,
   "id": "784e8d21-650f-4b4a-9d55-f41e23bcbb08",
   "metadata": {},
   "outputs": [
    {
     "name": "stdout",
     "output_type": "stream",
     "text": [
      "[1, 2, 3, 4, 5]\n",
      "[1, 2, 3, 4, 5]\n"
     ]
    }
   ],
   "source": [
    "#This method doesn't guarantee the order of elements. If you want to preserve the original order, you can use a loop or a comprehension:\n",
    "\n",
    "\n",
    "my_list = [1, 2, 2, 3, 4, 4, 5]\n",
    "unique_list = []\n",
    "for item in my_list:\n",
    "    if item not in unique_list:\n",
    "        unique_list.append(item)\n",
    "print(unique_list)\n",
    "#Alternatively, using a comprehension:\n",
    "\n",
    "my_list = [1, 2, 2, 3, 4, 4, 5]\n",
    "unique_list = []\n",
    "[unique_list.append(item) for item in my_list if item not in unique_list]\n",
    "print(unique_list)\n"
   ]
  },
  {
   "cell_type": "code",
   "execution_count": 47,
   "id": "5a44eb53-31ab-41d6-a804-11a2ca134f66",
   "metadata": {},
   "outputs": [
    {
     "name": "stdout",
     "output_type": "stream",
     "text": [
      "[3, 4]\n",
      "[3, 4]\n"
     ]
    }
   ],
   "source": [
    "#20. How do you find the intersection of two lists?\n",
    "#To find the intersection (common elements) of two lists, you can convert them to sets and then use the intersection method or the & operator.\n",
    "\n",
    "list1 = [1, 2, 3, 4]\n",
    "list2 = [3, 4, 5, 6]\n",
    "intersection = list(set(list1) & set(list2))\n",
    "print(intersection)\n",
    "#Alternatively, you can use a list comprehension:\n",
    "\n",
    "list1 = [1, 2, 3, 4]\n",
    "list2 = [3, 4, 5, 6]\n",
    "intersection = [item for item in list1 if item in list2]\n",
    "print(intersection)\n",
    "#This will give you the common elements between the two lists.\n",
    "\n",
    "\n",
    "\n"
   ]
  },
  {
   "cell_type": "code",
   "execution_count": null,
   "id": "a7c9416f-273b-45eb-9586-866da2154bfc",
   "metadata": {},
   "outputs": [],
   "source": []
  }
 ],
 "metadata": {
  "kernelspec": {
   "display_name": "Python 3 (ipykernel)",
   "language": "python",
   "name": "python3"
  },
  "language_info": {
   "codemirror_mode": {
    "name": "ipython",
    "version": 3
   },
   "file_extension": ".py",
   "mimetype": "text/x-python",
   "name": "python",
   "nbconvert_exporter": "python",
   "pygments_lexer": "ipython3",
   "version": "3.12.7"
  }
 },
 "nbformat": 4,
 "nbformat_minor": 5
}
