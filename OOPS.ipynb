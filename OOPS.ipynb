{
 "cells": [
  {
   "cell_type": "markdown",
   "id": "56eb2de8-6b5b-41e9-854c-2621265f8491",
   "metadata": {},
   "source": [
    "# OOPS in python"
   ]
  },
  {
   "cell_type": "raw",
   "id": "9ed16473-7024-49fe-aa73-50009471e034",
   "metadata": {},
   "source": [
    "to map with real world scenarious, we started using objects  in code.this is called object oriented programming\n"
   ]
  },
  {
   "cell_type": "markdown",
   "id": "3424e51e-dde2-4b19-9e1c-effeed48eda2",
   "metadata": {},
   "source": [
    "# class & object in Python"
   ]
  },
  {
   "cell_type": "raw",
   "id": "869d63ed-feb3-4e6a-87ab-e7df649a3f91",
   "metadata": {},
   "source": [
    "class is a blueprint for creating objects.\n",
    "                "
   ]
  },
  {
   "cell_type": "code",
   "execution_count": 1,
   "id": "4e86bace-490e-4bde-b6b3-75cc2ef96bd8",
   "metadata": {},
   "outputs": [],
   "source": [
    "# creating class:\n",
    "class Student:\n",
    "    name =\"rohit choudhary\""
   ]
  },
  {
   "cell_type": "code",
   "execution_count": 3,
   "id": "2409cce8-87a8-47a6-9827-c544e6639bb1",
   "metadata": {},
   "outputs": [
    {
     "name": "stdout",
     "output_type": "stream",
     "text": [
      "rohit choudhary\n"
     ]
    }
   ],
   "source": [
    "#creating object(instance):\n",
    "s1=Student()\n",
    "print(s1.name)"
   ]
  },
  {
   "cell_type": "code",
   "execution_count": 5,
   "id": "b3cb7b10-a5f8-4159-938d-9e49bc2992e5",
   "metadata": {},
   "outputs": [
    {
     "name": "stdout",
     "output_type": "stream",
     "text": [
      "blue\n",
      "mercedes\n"
     ]
    }
   ],
   "source": [
    "# example \n",
    "\n",
    "# class\n",
    "class car:\n",
    "    colour=\"blue\"\n",
    "    brand=\"mercedes\"\n",
    "\n",
    "#  object\n",
    "car1=car()\n",
    "print(car1.colour)\n",
    "print(car1.brand)"
   ]
  },
  {
   "cell_type": "markdown",
   "id": "ae691aeb-d98a-4801-852d-eb520aee605d",
   "metadata": {},
   "source": [
    "# __init__Function"
   ]
  },
  {
   "cell_type": "markdown",
   "id": "337f79e1-67b2-42d6-b551-a61d54dd7316",
   "metadata": {},
   "source": [
    "# constructor "
   ]
  },
  {
   "cell_type": "code",
   "execution_count": null,
   "id": "f35b520c-d018-482f-8022-fd4a5388396f",
   "metadata": {},
   "outputs": [],
   "source": [
    "All classes have a function called __init__(),which is always execute when the class is being initiated.\n"
   ]
  },
  {
   "cell_type": "code",
   "execution_count": 14,
   "id": "689da093-9946-4cda-b84a-d4627b5d1242",
   "metadata": {},
   "outputs": [],
   "source": [
    "# creating class\n",
    "class student:\n",
    "    def __init__(self,fullname):\n",
    "        self.name =fullname       #the self parameter is a refrence to the current instance of the class ,and is used to acces \n",
    "                                #variables that belongs  to the class."
   ]
  },
  {
   "cell_type": "code",
   "execution_count": 15,
   "id": "b656f3fe-b302-4f87-9a5a-d6bcc2141f89",
   "metadata": {},
   "outputs": [
    {
     "name": "stdout",
     "output_type": "stream",
     "text": [
      "rohit choudhary\n"
     ]
    }
   ],
   "source": [
    "# creating object \n",
    "s1=student(\"rohit choudhary\")\n",
    "print(s1.name)"
   ]
  },
  {
   "cell_type": "markdown",
   "id": "14d58fbb-422a-4a4c-bbac-cdc1b9cbd4c3",
   "metadata": {},
   "source": [
    "#  Methods"
   ]
  },
  {
   "cell_type": "raw",
   "id": "64f213ad-7656-4276-9c21-42904217be00",
   "metadata": {},
   "source": [
    "methods are functions that belong to object."
   ]
  },
  {
   "cell_type": "code",
   "execution_count": 18,
   "id": "1f4bf524-4742-44b2-95c4-77d206dc3007",
   "metadata": {},
   "outputs": [],
   "source": [
    "#  creating  class \n",
    "class student:\n",
    "    def __init__(self,name):\n",
    "        self.name=name\n",
    "\n",
    "def hello(self):\n",
    "    print(\"hello\",self.name)\n",
    "    "
   ]
  },
  {
   "cell_type": "code",
   "execution_count": 19,
   "id": "0c66d68b-50c2-47a5-bfee-d9f1bab16692",
   "metadata": {},
   "outputs": [
    {
     "ename": "AttributeError",
     "evalue": "'student' object has no attribute 'hello'",
     "output_type": "error",
     "traceback": [
      "\u001b[1;31m---------------------------------------------------------------------------\u001b[0m",
      "\u001b[1;31mAttributeError\u001b[0m                            Traceback (most recent call last)",
      "Cell \u001b[1;32mIn[19], line 3\u001b[0m\n\u001b[0;32m      1\u001b[0m \u001b[38;5;66;03m# creating object\u001b[39;00m\n\u001b[0;32m      2\u001b[0m s1\u001b[38;5;241m=\u001b[39mstudent(\u001b[38;5;124m\"\u001b[39m\u001b[38;5;124mrohit\u001b[39m\u001b[38;5;124m\"\u001b[39m)\n\u001b[1;32m----> 3\u001b[0m s1\u001b[38;5;241m.\u001b[39mhello()\n",
      "\u001b[1;31mAttributeError\u001b[0m: 'student' object has no attribute 'hello'"
     ]
    }
   ],
   "source": [
    "# creating object\n",
    "s1=student(\"rohit\")\n",
    "s1.hello()"
   ]
  },
  {
   "cell_type": "code",
   "execution_count": null,
   "id": "59d8725a-7bf6-4b95-b7b5-3c16e48ff914",
   "metadata": {},
   "outputs": [],
   "source": [
    " "
   ]
  }
 ],
 "metadata": {
  "kernelspec": {
   "display_name": "Python 3 (ipykernel)",
   "language": "python",
   "name": "python3"
  },
  "language_info": {
   "codemirror_mode": {
    "name": "ipython",
    "version": 3
   },
   "file_extension": ".py",
   "mimetype": "text/x-python",
   "name": "python",
   "nbconvert_exporter": "python",
   "pygments_lexer": "ipython3",
   "version": "3.12.7"
  }
 },
 "nbformat": 4,
 "nbformat_minor": 5
}
