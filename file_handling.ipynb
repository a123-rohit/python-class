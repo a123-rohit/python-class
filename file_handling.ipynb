{
 "cells": [
  {
   "cell_type": "code",
   "execution_count": 7,
   "id": "2485fb13-b3d7-44b1-8e2a-b37d1af2af6e",
   "metadata": {},
   "outputs": [],
   "source": [
    "#file i/o in python"
   ]
  },
  {
   "cell_type": "code",
   "execution_count": 6,
   "id": "d80e03d0-47bc-4358-910d-a022b66ef273",
   "metadata": {},
   "outputs": [],
   "source": [
    "# python can be used  to perform  operationations on a file.(read and write data)\n",
    "# types of all files \n",
    "# 1.text files:text,docx,log etc.\n",
    "# 2.binary files: .mp4,.mov,.png,.jpeg etc."
   ]
  },
  {
   "cell_type": "markdown",
   "id": "890ce35f-62bc-493d-9fe2-5e939951d9aa",
   "metadata": {},
   "source": [
    "# file I/O basics"
   ]
  },
  {
   "cell_type": "raw",
   "id": "289400ae-aeed-499c-b90e-10fa28470818",
   "metadata": {},
   "source": [
    "Data Types:\n",
    "\n",
    "Text: Unicode chars (e.g., '12345' in UTF-8/ASCII)\n",
    "Binary: Raw bytes (e.g., number 12345)\n",
    "File Types:\n",
    "\n",
    "Text Files: Human-readable (e.g., source code, config files)\n",
    "Binary Files: Non-readable data (e.g., images, multimedia)\n",
    "Process:\n",
    "\n",
    "Open: Connects program to file\n",
    "Read/Write: Handles data based on type\n",
    "Close: Completes operations, frees resources"
   ]
  },
  {
   "cell_type": "code",
   "execution_count": null,
   "id": "f451d505-1a62-4984-90a9-3b333255e358",
   "metadata": {},
   "outputs": [],
   "source": [
    "#'a'\tAppend mode. Adds data to the end of the file.\n",
    "#'x'\tExclusive creation. Fails if the file exists.\n",
    "#'t'\tText mode (default).\n",
    "#'r+'\tRead and write mode. File must exist.\n",
    "#'w+'\tWrite and read mode. Overwrites the file or creates a new one.\n",
    "#'a+'\tAppend and read mode.\n",
    "#'x+'\tExclusive creation and read mode.\n"
   ]
  },
  {
   "cell_type": "code",
   "execution_count": null,
   "id": "11ca9bd7-6885-47b5-a9c1-ccb316d578c9",
   "metadata": {},
   "outputs": [],
   "source": [
    "#r+=read+overwrite(pointer start) ____no truncated\n",
    "#w+=------------------------------_____truncated\n",
    "#a+=-----+append(pointer end)______truncated"
   ]
  },
  {
   "cell_type": "code",
   "execution_count": 1,
   "id": "4dfad000-562f-4c4d-9f68-0d1a956e16c6",
   "metadata": {},
   "outputs": [],
   "source": [
    "#Writing to a File ---> `.txt` extension (Notepad)."
   ]
  },
  {
   "cell_type": "markdown",
   "id": "342e514e-181e-4291-b699-df5843e69dd8",
   "metadata": {},
   "source": [
    "# open,read $close file"
   ]
  },
  {
   "cell_type": "code",
   "execution_count": null,
   "id": "e64f1296-4430-42c3-9765-b309743e0a5d",
   "metadata": {},
   "outputs": [],
   "source": [
    "# we have to open a file before reading or writing "
   ]
  },
  {
   "cell_type": "code",
   "execution_count": 9,
   "id": "deb81e4c-281f-4a8f-a901-a99057a67a2a",
   "metadata": {},
   "outputs": [],
   "source": [
    "# f=open(\"file_neme\",\"mode\")\n",
    "# sample.txt            r:read mode\n",
    "# demo.docx             w:write mode\n",
    "\n",
    "\n",
    "\n",
    "#data =f.read()\n",
    "#f.close()\n",
    "\n"
   ]
  },
  {
   "cell_type": "markdown",
   "id": "a9c3c704-0bfa-44e1-9712-aafb42de1a94",
   "metadata": {},
   "source": [
    "# writing to a file "
   ]
  },
  {
   "cell_type": "code",
   "execution_count": null,
   "id": "8e8711c9-18f3-4059-a4d2-ab7049466b26",
   "metadata": {},
   "outputs": [],
   "source": [
    "# write mode "
   ]
  },
  {
   "cell_type": "code",
   "execution_count": 18,
   "id": "8908c6ee-4df6-4289-aadd-c6f18848054a",
   "metadata": {},
   "outputs": [
    {
     "data": {
      "text/plain": [
       "19"
      ]
     },
     "execution_count": 18,
     "metadata": {},
     "output_type": "execute_result"
    }
   ],
   "source": [
    "f=open(\"demo.txt\",\"w\")\n",
    "f.write(\"this is a new line \")    # overwrite the entire file "
   ]
  },
  {
   "cell_type": "code",
   "execution_count": 19,
   "id": "e0d73ef0-0c41-45fe-9039-ed0ebd98c3df",
   "metadata": {},
   "outputs": [],
   "source": [
    "f=open(\"rohit.txt\",'w')\n",
    "f.write('hi i am rohit')\n",
    "f.close()"
   ]
  },
  {
   "cell_type": "code",
   "execution_count": 20,
   "id": "2abb0f82-14cf-4ffb-a724-8f72163eb26e",
   "metadata": {},
   "outputs": [
    {
     "ename": "ValueError",
     "evalue": "I/O operation on closed file.",
     "output_type": "error",
     "traceback": [
      "\u001b[1;31m---------------------------------------------------------------------------\u001b[0m",
      "\u001b[1;31mValueError\u001b[0m                                Traceback (most recent call last)",
      "Cell \u001b[1;32mIn[20], line 1\u001b[0m\n\u001b[1;32m----> 1\u001b[0m f\u001b[38;5;241m.\u001b[39mwrite(\u001b[38;5;124m\"\u001b[39m\u001b[38;5;124mhello world\u001b[39m\u001b[38;5;124m\"\u001b[39m)\n",
      "\u001b[1;31mValueError\u001b[0m: I/O operation on closed file."
     ]
    }
   ],
   "source": [
    "f.write(\"hello world\")"
   ]
  },
  {
   "cell_type": "code",
   "execution_count": 21,
   "id": "00c2f019-b41e-47b3-802f-7cf038e1fa88",
   "metadata": {},
   "outputs": [],
   "source": [
    "#  write a multiline string\n",
    "f=open(\"rohit.txt\",\"w\")\n",
    "f.write('rohit choudhary')\n",
    "f.write(\"\\n hello brother\")\n",
    "f.close()"
   ]
  },
  {
   "cell_type": "code",
   "execution_count": null,
   "id": "eff122a6-cc52-4c43-bef0-f93bc7bb8be4",
   "metadata": {},
   "outputs": [],
   "source": [
    "# append mode \n",
    "f=open(\"demo.txt\",\"a\")\n",
    "f.write(\"this is a new line\")        # adds to the file "
   ]
  },
  {
   "cell_type": "code",
   "execution_count": 22,
   "id": "7052ca67-ae85-48f9-814b-66ffd5f94fd9",
   "metadata": {},
   "outputs": [],
   "source": [
    "f=open(\"rohit.txt\",\"a\")\n",
    "f.write('addu')\n",
    "f.write(\"\\n hello brother\")\n",
    "f.close()"
   ]
  },
  {
   "cell_type": "code",
   "execution_count": 23,
   "id": "4af5216a-7261-4d2c-8314-7c7d35b5a06d",
   "metadata": {},
   "outputs": [
    {
     "name": "stdout",
     "output_type": "stream",
     "text": [
      "rohit choudhary\n",
      " hello brotheraddu\n",
      " hello brother\n"
     ]
    }
   ],
   "source": [
    "f=open(\"rohit.txt\",\"r\")\n",
    "data=f.read()\n",
    "print(data)\n",
    "f.close()"
   ]
  },
  {
   "cell_type": "markdown",
   "id": "4c3cfcb5-568e-4322-87bf-5e5f87522b00",
   "metadata": {},
   "source": [
    "# Reading a file "
   ]
  },
  {
   "cell_type": "code",
   "execution_count": 17,
   "id": "93a40860-fbb1-4f23-8128-3252dece4737",
   "metadata": {},
   "outputs": [],
   "source": [
    "# data=f.read()           #read entire file\n",
    "# data =f.readline()      #read one line at a time  "
   ]
  },
  {
   "cell_type": "code",
   "execution_count": null,
   "id": "895a9bef-fd7c-4ec1-ba88-d51a85ac5810",
   "metadata": {},
   "outputs": [],
   "source": []
  },
  {
   "cell_type": "code",
   "execution_count": 12,
   "id": "fdfb077b-ebb8-4f29-90d4-4004bc105143",
   "metadata": {},
   "outputs": [
    {
     "name": "stdout",
     "output_type": "stream",
     "text": [
      "rohit choudhary\n",
      " hello brother\n",
      "<class 'str'>\n"
     ]
    }
   ],
   "source": [
    "f=open(\"rohit.txt\",\"r\")\n",
    "data=f.read()\n",
    "print(data)\n",
    "print(type(data))\n",
    "f.close()"
   ]
  },
  {
   "cell_type": "code",
   "execution_count": 16,
   "id": "82a17987-0f4d-493e-8263-849a5f8f8a98",
   "metadata": {},
   "outputs": [
    {
     "name": "stdout",
     "output_type": "stream",
     "text": [
      "rohit choudhary\n",
      "\n"
     ]
    }
   ],
   "source": [
    "f=open(\"rohit.txt\",\"r\")\n",
    "data=f.readline()\n",
    "print(data)\n",
    "f.close()"
   ]
  },
  {
   "cell_type": "code",
   "execution_count": 4,
   "id": "33f1366a-c445-4dd1-a05e-5317b1a6417d",
   "metadata": {},
   "outputs": [],
   "source": [
    "# file over write in  write mode\n",
    "f=open(\"rohit.text\",'w')\n",
    "f.write('choudhary')\n",
    "f.close()\n",
    "# Note: Opening in 'w' mode replaces all existing content in 'sample.txt'.\n",
    "     "
   ]
  },
  {
   "cell_type": "markdown",
   "id": "d4c6460c-72c9-49a5-a977-9a398b95ba05",
   "metadata": {},
   "source": [
    "# r+ mode"
   ]
  },
  {
   "cell_type": "code",
   "execution_count": 1,
   "id": "ddfd7872-997b-4dae-b711-4e4e5597bb8e",
   "metadata": {},
   "outputs": [],
   "source": [
    "# the r+ mode is work overwrite mode\n",
    "f=open(\"rohit.txt\",\"r+\")\n",
    "f.write(\"abc\")\n",
    "f.close()"
   ]
  },
  {
   "cell_type": "code",
   "execution_count": 2,
   "id": "6a60490c-30f9-41d9-9c58-c4afdc946d64",
   "metadata": {},
   "outputs": [
    {
     "name": "stdout",
     "output_type": "stream",
     "text": [
      "abcit choudhary\n",
      " hello brotheraddu\n",
      " hello brother\n"
     ]
    }
   ],
   "source": [
    "f=open(\"rohit.txt\",\"r\")\n",
    "data=f.read()\n",
    "print(data)\n",
    "f.close()"
   ]
  },
  {
   "cell_type": "markdown",
   "id": "4aef7430-2eb1-43f5-8789-4f94f1e27d90",
   "metadata": {},
   "source": [
    "# w+ mode"
   ]
  },
  {
   "cell_type": "code",
   "execution_count": 3,
   "id": "7348138b-aaf6-4d8f-96eb-0db314a56118",
   "metadata": {},
   "outputs": [
    {
     "name": "stdout",
     "output_type": "stream",
     "text": [
      "<built-in method read of _io.TextIOWrapper object at 0x000001E68B816C00>\n"
     ]
    }
   ],
   "source": [
    "#Write and read mode. Overwrites the file or creates a new one. otherwise it is truncated .\n",
    "f=open(\"rohit.txt\",\"w+\")\n",
    "print(f.read)\n",
    "f.close()\n",
    "# this file is truncated\n"
   ]
  },
  {
   "cell_type": "markdown",
   "id": "b96cce14-63cf-4a64-9ce7-132dcd9ea96a",
   "metadata": {},
   "source": [
    "# with syntax"
   ]
  },
  {
   "cell_type": "code",
   "execution_count": 5,
   "id": "842e9a37-b296-479e-83ca-11579a46c5d4",
   "metadata": {},
   "outputs": [
    {
     "name": "stdout",
     "output_type": "stream",
     "text": [
      "<built-in method write of _io.TextIOWrapper object at 0x000001E68B816C00>\n"
     ]
    }
   ],
   "source": [
    "with open(\"rohit.txt\",\"w\")as f:\n",
    "    f.write(\"choudhary shaab\")\n",
    "    data=(f.write)\n",
    "    print(data)"
   ]
  },
  {
   "cell_type": "code",
   "execution_count": 6,
   "id": "84c586dd-d19a-4d0a-8adf-a47dbbc0943d",
   "metadata": {},
   "outputs": [
    {
     "name": "stdout",
     "output_type": "stream",
     "text": [
      "<built-in method read of _io.TextIOWrapper object at 0x000001E68B816B20>\n"
     ]
    }
   ],
   "source": [
    "with open(\"rohit.txt\",\"r\")as f:\n",
    "    data=f.read \n",
    "print(data)"
   ]
  },
  {
   "cell_type": "markdown",
   "id": "7da85440-9d5b-4ab9-9557-64c788a3cd08",
   "metadata": {},
   "source": [
    "# deleting file "
   ]
  },
  {
   "cell_type": "code",
   "execution_count": null,
   "id": "fb6ea403-1acb-46de-a03b-1c6247318cc9",
   "metadata": {},
   "outputs": [],
   "source": [
    "# using the os module \n",
    "#module (likea code liberary) is a file written by another  programmer that generally has a function we can use \n",
    "import os\n",
    "os.remove(\"rohit.txt\")\n",
    "\n"
   ]
  },
  {
   "cell_type": "code",
   "execution_count": null,
   "id": "f1f0eb75-2228-4afc-9ff1-90ca4c3d3ed7",
   "metadata": {},
   "outputs": [],
   "source": [
    "# for practic \n",
    "hi everyone \n",
    "we are learning file i/o\n",
    "using java \n",
    "i like programming in java "
   ]
  },
  {
   "cell_type": "code",
   "execution_count": 5,
   "id": "adfcb1c1-7971-47f5-a39b-c7c2a30595bf",
   "metadata": {},
   "outputs": [
    {
     "name": "stdout",
     "output_type": "stream",
     "text": [
      "<built-in method write of _io.TextIOWrapper object at 0x0000028C9B197140>\n"
     ]
    },
    {
     "data": {
      "text/plain": [
       "<function TextIOWrapper.close()>"
      ]
     },
     "execution_count": 5,
     "metadata": {},
     "output_type": "execute_result"
    }
   ],
   "source": [
    "f=open(\"choudhary.txt\",\"w\")\n",
    "f.write(\"hi everyone\" )\n",
    "f.write(\"\\n we are learning file i/o\")\n",
    "f.write(\"\\n using java\")\n",
    "f.write(\"\\n i like programming in java\")\n",
    "data=(f.write)\n",
    "print(data)\n",
    "f.close"
   ]
  },
  {
   "cell_type": "code",
   "execution_count": 8,
   "id": "5eabdc9f-01f1-4e3b-a582-9847350753ba",
   "metadata": {},
   "outputs": [
    {
     "name": "stdout",
     "output_type": "stream",
     "text": [
      "<built-in method write of _io.TextIOWrapper object at 0x0000028C9B197300>\n"
     ]
    },
    {
     "data": {
      "text/plain": [
       "<function TextIOWrapper.close()>"
      ]
     },
     "execution_count": 8,
     "metadata": {},
     "output_type": "execute_result"
    }
   ],
   "source": [
    "f=open(\"choudhary.txt\",\"w\")\n",
    "f.write(\"hi everyone\" )\n",
    "f.write(\"\\n we are learning file i/o\")\n",
    "f.write(\"\\n using java\")\n",
    "f.write(\"\\n i like programming in java\")\n",
    "data=(f.write)\n",
    "print(data)\n",
    "f.close"
   ]
  },
  {
   "cell_type": "code",
   "execution_count": null,
   "id": "2ec961bf-d403-4ead-8703-54d35b45eb8d",
   "metadata": {},
   "outputs": [],
   "source": []
  }
 ],
 "metadata": {
  "kernelspec": {
   "display_name": "Python 3 (ipykernel)",
   "language": "python",
   "name": "python3"
  },
  "language_info": {
   "codemirror_mode": {
    "name": "ipython",
    "version": 3
   },
   "file_extension": ".py",
   "mimetype": "text/x-python",
   "name": "python",
   "nbconvert_exporter": "python",
   "pygments_lexer": "ipython3",
   "version": "3.12.7"
  }
 },
 "nbformat": 4,
 "nbformat_minor": 5
}
