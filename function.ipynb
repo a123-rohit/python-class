{
 "cells": [
  {
   "cell_type": "markdown",
   "id": "de9c9e77-2a06-43af-9e98-da64580eef41",
   "metadata": {},
   "source": [
    "# Function"
   ]
  },
  {
   "cell_type": "code",
   "execution_count": 2,
   "id": "b8c946a1-1392-4902-af18-85d6a4132e69",
   "metadata": {},
   "outputs": [
    {
     "data": {
      "text/plain": [
       "5"
      ]
     },
     "execution_count": 2,
     "metadata": {},
     "output_type": "execute_result"
    }
   ],
   "source": [
    "len('hello')"
   ]
  },
  {
   "cell_type": "code",
   "execution_count": 6,
   "id": "a3b2b2b2-b246-4339-86f2-8f559e210bbb",
   "metadata": {},
   "outputs": [
    {
     "name": "stdout",
     "output_type": "stream",
     "text": [
      "hello\n"
     ]
    }
   ],
   "source": [
    "print(\"hello\")"
   ]
  },
  {
   "cell_type": "code",
   "execution_count": 8,
   "id": "c5114e69-b31a-44a2-9448-1d02ca1e140b",
   "metadata": {},
   "outputs": [
    {
     "data": {
      "text/plain": [
       "int"
      ]
     },
     "execution_count": 8,
     "metadata": {},
     "output_type": "execute_result"
    }
   ],
   "source": [
    "type (10)"
   ]
  },
  {
   "cell_type": "code",
   "execution_count": 10,
   "id": "0d9c95b0-467b-42c1-99e6-708ab16384e0",
   "metadata": {},
   "outputs": [
    {
     "data": {
      "text/plain": [
       "<function id(obj, /)>"
      ]
     },
     "execution_count": 10,
     "metadata": {},
     "output_type": "execute_result"
    }
   ],
   "source": [
    "id"
   ]
  },
  {
   "cell_type": "code",
   "execution_count": 12,
   "id": "04e8d595-d2cf-4af3-8bdc-8f2cba88c867",
   "metadata": {},
   "outputs": [
    {
     "data": {
      "text/plain": [
       "140717231844056"
      ]
     },
     "execution_count": 12,
     "metadata": {},
     "output_type": "execute_result"
    }
   ],
   "source": [
    "id(10)"
   ]
  },
  {
   "cell_type": "code",
   "execution_count": 14,
   "id": "53e4ba2a-5228-4479-9fd4-e3db96ed0307",
   "metadata": {},
   "outputs": [
    {
     "data": {
      "text/plain": [
       "['False',\n",
       " 'None',\n",
       " 'True',\n",
       " 'and',\n",
       " 'as',\n",
       " 'assert',\n",
       " 'async',\n",
       " 'await',\n",
       " 'break',\n",
       " 'class',\n",
       " 'continue',\n",
       " 'def',\n",
       " 'del',\n",
       " 'elif',\n",
       " 'else',\n",
       " 'except',\n",
       " 'finally',\n",
       " 'for',\n",
       " 'from',\n",
       " 'global',\n",
       " 'if',\n",
       " 'import',\n",
       " 'in',\n",
       " 'is',\n",
       " 'lambda',\n",
       " 'nonlocal',\n",
       " 'not',\n",
       " 'or',\n",
       " 'pass',\n",
       " 'raise',\n",
       " 'return',\n",
       " 'try',\n",
       " 'while',\n",
       " 'with',\n",
       " 'yield']"
      ]
     },
     "execution_count": 14,
     "metadata": {},
     "output_type": "execute_result"
    }
   ],
   "source": [
    "import keyword\n",
    "keyword.kwlist"
   ]
  },
  {
   "cell_type": "code",
   "execution_count": 53,
   "id": "ab77b2e4-ce87-479e-9b85-471df933cdc9",
   "metadata": {},
   "outputs": [],
   "source": [
    "def odd_even(num):\n",
    "  \"\"\"\n",
    "  name-arun kumar\n",
    "  date-27-02-2025\n",
    "  input-integer\n",
    "  output-odd or even\n",
    "  this is my function\n",
    "\n",
    "  \"\"\"\n",
    "  if num%2==0:\n",
    "    return 'even'\n",
    "\n",
    "  else:\n",
    "    return 'odd'\n",
    "\n",
    "\n"
   ]
  },
  {
   "cell_type": "code",
   "execution_count": 58,
   "id": "48b5efe6-88e1-43e6-9354-e474ae01f5a6",
   "metadata": {},
   "outputs": [],
   "source": [
    "def odd_even(num):\n",
    "    \"\"\"\n",
    "    name-rohit\n",
    "    date-27/02/2025\n",
    "    input-integer\n",
    "    output-odd or even\n",
    "    this is my function\n",
    "\n",
    "    \"\"\"\n",
    "    if num%2==0:\n",
    "        return 'even'\n",
    "\n",
    "    else:\n",
    "        return 'odd'"
   ]
  },
  {
   "cell_type": "code",
   "execution_count": 68,
   "id": "dffcecba-bef9-4c75-8b71-a6a9070207ec",
   "metadata": {},
   "outputs": [
    {
     "data": {
      "text/plain": [
       "'even'"
      ]
     },
     "execution_count": 68,
     "metadata": {},
     "output_type": "execute_result"
    }
   ],
   "source": [
    "odd_even(4)"
   ]
  },
  {
   "cell_type": "raw",
   "id": "90b87fff-0e0d-44f1-820c-86e43950021e",
   "metadata": {},
   "source": [
    "#def-keyword\n",
    "#odd_even-function name\n",
    "#doc string\n",
    "#condion"
   ]
  },
  {
   "cell_type": "code",
   "execution_count": 70,
   "id": "3ded8f13-3f78-41b6-b176-801a58eed7b7",
   "metadata": {},
   "outputs": [
    {
     "ename": "TypeError",
     "evalue": "odd_even() missing 1 required positional argument: 'num'",
     "output_type": "error",
     "traceback": [
      "\u001b[1;31m---------------------------------------------------------------------------\u001b[0m",
      "\u001b[1;31mTypeError\u001b[0m                                 Traceback (most recent call last)",
      "Cell \u001b[1;32mIn[70], line 1\u001b[0m\n\u001b[1;32m----> 1\u001b[0m odd_even()\n",
      "\u001b[1;31mTypeError\u001b[0m: odd_even() missing 1 required positional argument: 'num'"
     ]
    }
   ],
   "source": [
    "odd_even()"
   ]
  },
  {
   "cell_type": "code",
   "execution_count": 72,
   "id": "bfaf2add-4b4d-40e7-93fb-5bd0babfcbac",
   "metadata": {},
   "outputs": [
    {
     "ename": "TypeError",
     "evalue": "odd_even() takes 1 positional argument but 2 were given",
     "output_type": "error",
     "traceback": [
      "\u001b[1;31m---------------------------------------------------------------------------\u001b[0m",
      "\u001b[1;31mTypeError\u001b[0m                                 Traceback (most recent call last)",
      "Cell \u001b[1;32mIn[72], line 1\u001b[0m\n\u001b[1;32m----> 1\u001b[0m odd_even(\u001b[38;5;241m10\u001b[39m,\u001b[38;5;241m20\u001b[39m)\n",
      "\u001b[1;31mTypeError\u001b[0m: odd_even() takes 1 positional argument but 2 were given"
     ]
    }
   ],
   "source": [
    "odd_even(10,20)"
   ]
  },
  {
   "cell_type": "code",
   "execution_count": 74,
   "id": "de5fffcd-69e3-48e0-a6b0-9b1f94185a11",
   "metadata": {},
   "outputs": [
    {
     "ename": "TypeError",
     "evalue": "not all arguments converted during string formatting",
     "output_type": "error",
     "traceback": [
      "\u001b[1;31m---------------------------------------------------------------------------\u001b[0m",
      "\u001b[1;31mTypeError\u001b[0m                                 Traceback (most recent call last)",
      "Cell \u001b[1;32mIn[74], line 1\u001b[0m\n\u001b[1;32m----> 1\u001b[0m odd_even(\u001b[38;5;124m'\u001b[39m\u001b[38;5;124mhello\u001b[39m\u001b[38;5;124m'\u001b[39m)\n",
      "Cell \u001b[1;32mIn[58], line 10\u001b[0m, in \u001b[0;36modd_even\u001b[1;34m(num)\u001b[0m\n\u001b[0;32m      1\u001b[0m \u001b[38;5;28;01mdef\u001b[39;00m \u001b[38;5;21modd_even\u001b[39m(num):\n\u001b[0;32m      2\u001b[0m \u001b[38;5;250m    \u001b[39m\u001b[38;5;124;03m\"\"\"\u001b[39;00m\n\u001b[0;32m      3\u001b[0m \u001b[38;5;124;03m    name-rohit\u001b[39;00m\n\u001b[0;32m      4\u001b[0m \u001b[38;5;124;03m    date-27/02/2025\u001b[39;00m\n\u001b[1;32m   (...)\u001b[0m\n\u001b[0;32m      8\u001b[0m \n\u001b[0;32m      9\u001b[0m \u001b[38;5;124;03m    \"\"\"\u001b[39;00m\n\u001b[1;32m---> 10\u001b[0m     \u001b[38;5;28;01mif\u001b[39;00m num\u001b[38;5;241m%\u001b[39m\u001b[38;5;241m2\u001b[39m\u001b[38;5;241m==\u001b[39m\u001b[38;5;241m0\u001b[39m:\n\u001b[0;32m     11\u001b[0m         \u001b[38;5;28;01mreturn\u001b[39;00m \u001b[38;5;124m'\u001b[39m\u001b[38;5;124meven\u001b[39m\u001b[38;5;124m'\u001b[39m\n\u001b[0;32m     13\u001b[0m     \u001b[38;5;28;01melse\u001b[39;00m:\n",
      "\u001b[1;31mTypeError\u001b[0m: not all arguments converted during string formatting"
     ]
    }
   ],
   "source": [
    "odd_even('hello')"
   ]
  },
  {
   "cell_type": "code",
   "execution_count": 120,
   "id": "768cac1d-ff79-42e8-9a50-179a606cb753",
   "metadata": {},
   "outputs": [],
   "source": [
    "def odd_even(num):\n",
    "    \"\"\"\n",
    "    name-rohit\n",
    "    date-27/02/2025\n",
    "    input-integer\n",
    "    output-odd or even\n",
    "    this is my function\n",
    "    \n",
    "    \"\"\"\n",
    "    if type(num)==int:\n",
    "        if num%2==0:\n",
    "             return 'even'\n",
    "    \n",
    "        else:\n",
    "            return 'odd'\n",
    "    else:\n",
    "        return'bhai integer value daalo'\n",
    "        \n",
    "    \n",
    "    \n",
    "        \n"
   ]
  },
  {
   "cell_type": "code",
   "execution_count": 122,
   "id": "a70003db-7dc8-4620-b745-36c2f289f737",
   "metadata": {},
   "outputs": [
    {
     "data": {
      "text/plain": [
       "'bhai integer value daalo'"
      ]
     },
     "execution_count": 122,
     "metadata": {},
     "output_type": "execute_result"
    }
   ],
   "source": [
    "odd_even('hello')"
   ]
  },
  {
   "cell_type": "code",
   "execution_count": 124,
   "id": "bf3aadec-74c0-4fe0-8e8c-f11d4c9b894f",
   "metadata": {},
   "outputs": [
    {
     "data": {
      "text/plain": [
       "'even'"
      ]
     },
     "execution_count": 124,
     "metadata": {},
     "output_type": "execute_result"
    }
   ],
   "source": [
    "odd_even(10)"
   ]
  },
  {
   "cell_type": "code",
   "execution_count": 132,
   "id": "e287ab93-6def-4f35-a542-b568c31074cc",
   "metadata": {},
   "outputs": [
    {
     "name": "stdout",
     "output_type": "stream",
     "text": [
      "\n",
      "    name-rohit\n",
      "    date-27/02/2025\n",
      "    input-integer\n",
      "    output-odd or even\n",
      "    this is my function\n",
      "    \n",
      "    \n"
     ]
    }
   ],
   "source": [
    "print(odd_even.__doc__)"
   ]
  },
  {
   "cell_type": "code",
   "execution_count": 134,
   "id": "fa3ebd90-9dda-4f6b-b340-eace82e165cb",
   "metadata": {},
   "outputs": [
    {
     "name": "stdout",
     "output_type": "stream",
     "text": [
      "type(object) -> the object's type\n",
      "type(name, bases, dict, **kwds) -> a new type\n"
     ]
    }
   ],
   "source": [
    "print(type.__doc__)"
   ]
  },
  {
   "cell_type": "code",
   "execution_count": 148,
   "id": "8f4065d5-1cc9-4339-bd06-ad22b01ff6dc",
   "metadata": {},
   "outputs": [],
   "source": [
    "def add(a,c):#a,c parameter #jab hum function create karte hain\n",
    "    return a+c"
   ]
  },
  {
   "cell_type": "code",
   "execution_count": 150,
   "id": "4abd69af-8aa7-4f67-9102-2638817831ab",
   "metadata": {},
   "outputs": [
    {
     "ename": "TypeError",
     "evalue": "add() missing 1 required positional argument: 'c'",
     "output_type": "error",
     "traceback": [
      "\u001b[1;31m---------------------------------------------------------------------------\u001b[0m",
      "\u001b[1;31mTypeError\u001b[0m                                 Traceback (most recent call last)",
      "Cell \u001b[1;32mIn[150], line 1\u001b[0m\n\u001b[1;32m----> 1\u001b[0m add(\u001b[38;5;241m10\u001b[39m\u001b[38;5;241m+\u001b[39m\u001b[38;5;241m3\u001b[39m)\n",
      "\u001b[1;31mTypeError\u001b[0m: add() missing 1 required positional argument: 'c'"
     ]
    }
   ],
   "source": [
    "add(10+3)"
   ]
  },
  {
   "cell_type": "code",
   "execution_count": 156,
   "id": "1deadf79-211e-4b67-b323-dd1fcf8a1a9d",
   "metadata": {},
   "outputs": [
    {
     "data": {
      "text/plain": [
       "20"
      ]
     },
     "execution_count": 156,
     "metadata": {},
     "output_type": "execute_result"
    }
   ],
   "source": [
    "#jab hum function ko call karte h tav arguments dete h\n",
    "add(10,10)"
   ]
  },
  {
   "cell_type": "code",
   "execution_count": 162,
   "id": "02a3b2a0-d421-40fd-8b33-2cc055ee2853",
   "metadata": {},
   "outputs": [
    {
     "data": {
      "text/plain": [
       "4"
      ]
     },
     "execution_count": 162,
     "metadata": {},
     "output_type": "execute_result"
    }
   ],
   "source": [
    "add(2,2)"
   ]
  },
  {
   "cell_type": "code",
   "execution_count": 164,
   "id": "4bff1016-eef6-4b19-8d19-b85dfdef76c2",
   "metadata": {},
   "outputs": [
    {
     "data": {
      "text/plain": [
       "20"
      ]
     },
     "execution_count": 164,
     "metadata": {},
     "output_type": "execute_result"
    }
   ],
   "source": [
    "add(10,10)"
   ]
  },
  {
   "cell_type": "code",
   "execution_count": 166,
   "id": "55b59e95-626e-450f-bc40-c00e626b9dcc",
   "metadata": {},
   "outputs": [],
   "source": [
    "#defuilt parameter\n",
    "def add(a=0,c=0):\n",
    "  return a+c"
   ]
  },
  {
   "cell_type": "code",
   "execution_count": 169,
   "id": "6565dfa3-c866-4221-afa7-fe22e89bf739",
   "metadata": {},
   "outputs": [
    {
     "data": {
      "text/plain": [
       "0"
      ]
     },
     "execution_count": 169,
     "metadata": {},
     "output_type": "execute_result"
    }
   ],
   "source": [
    "add()#default arguments"
   ]
  },
  {
   "cell_type": "code",
   "execution_count": 173,
   "id": "7719c53a-5c28-42a1-bf87-4f289fde1a7c",
   "metadata": {},
   "outputs": [
    {
     "data": {
      "text/plain": [
       "30"
      ]
     },
     "execution_count": 173,
     "metadata": {},
     "output_type": "execute_result"
    }
   ],
   "source": [
    "add(10,20)#postinal arguments"
   ]
  },
  {
   "cell_type": "code",
   "execution_count": 175,
   "id": "f8762329-94b6-431f-9185-56db945a6c85",
   "metadata": {},
   "outputs": [],
   "source": [
    "# args and kwargs\n",
    "# args-value\n",
    "#kwargs-key and value like dictnory\n",
    "     "
   ]
  },
  {
   "cell_type": "code",
   "execution_count": 191,
   "id": "caf742da-ba99-42ef-92b3-1365a138a89f",
   "metadata": {},
   "outputs": [],
   "source": [
    "def total_sum(numbers):\n",
    "    return sum(numbers)"
   ]
  },
  {
   "cell_type": "code",
   "execution_count": 201,
   "id": "4e0c863b-1633-4017-8fea-0277ec5de46a",
   "metadata": {},
   "outputs": [
    {
     "data": {
      "text/plain": [
       "140"
      ]
     },
     "execution_count": 201,
     "metadata": {},
     "output_type": "execute_result"
    }
   ],
   "source": [
    "total_sum([23,45,6,66])"
   ]
  },
  {
   "cell_type": "code",
   "execution_count": 203,
   "id": "bccd784f-5853-4f31-8bd5-2f0d7223852d",
   "metadata": {},
   "outputs": [],
   "source": [
    "def mul(*args):\n",
    "  #print(args)\n",
    "  mul=1\n",
    "  for i in args:\n",
    "    mul=mul*i\n",
    "  return mul\n",
    "\n",
    "     "
   ]
  },
  {
   "cell_type": "code",
   "execution_count": 205,
   "id": "cc4fcadd-c031-45a0-8975-05645e0fb850",
   "metadata": {},
   "outputs": [
    {
     "data": {
      "text/plain": [
       "120"
      ]
     },
     "execution_count": 205,
     "metadata": {},
     "output_type": "execute_result"
    }
   ],
   "source": [
    "mul(1,2,3,4,5)"
   ]
  },
  {
   "cell_type": "code",
   "execution_count": 207,
   "id": "0816b862-2bc5-4089-9a17-410b09d46952",
   "metadata": {},
   "outputs": [],
   "source": [
    "def add(*salman):\n",
    "  return sum(salman)"
   ]
  },
  {
   "cell_type": "code",
   "execution_count": 209,
   "id": "702b2768-0dce-4cb8-9018-3e55cfe57c73",
   "metadata": {},
   "outputs": [
    {
     "data": {
      "text/plain": [
       "110"
      ]
     },
     "execution_count": 209,
     "metadata": {},
     "output_type": "execute_result"
    }
   ],
   "source": [
    "add(10,20,30,10,10,10,20)"
   ]
  },
  {
   "cell_type": "code",
   "execution_count": 211,
   "id": "a9742e7e-e9ce-4e06-b97b-571a603c0bb9",
   "metadata": {},
   "outputs": [],
   "source": [
    "def display(**kwargs):\n",
    "\n",
    "  for (key,value) in kwargs.items():\n",
    "    print(key,'->',value)\n",
    "     \n"
   ]
  },
  {
   "cell_type": "code",
   "execution_count": 213,
   "id": "3eac1b0d-eaa0-41a6-817d-6407a60ca4d9",
   "metadata": {},
   "outputs": [
    {
     "name": "stdout",
     "output_type": "stream",
     "text": [
      "india -> delhi\n",
      "srilanka -> colombo\n",
      "nepal -> kathmandu\n",
      "pakistan -> islamabad\n"
     ]
    }
   ],
   "source": [
    "display(india='delhi',srilanka='colombo',nepal='kathmandu',pakistan='islamabad')"
   ]
  },
  {
   "cell_type": "code",
   "execution_count": 215,
   "id": "4f3cc934-01c4-4619-bfa2-3260f09a8ec8",
   "metadata": {},
   "outputs": [],
   "source": [
    "dict = {'india':'delhi','srilanka':'colombo','nepal':'kathmandu','pakistan':'islamabad'}\n",
    "     "
   ]
  },
  {
   "cell_type": "code",
   "execution_count": 217,
   "id": "cbc95146-a600-4c9a-b530-d9705f442b9f",
   "metadata": {},
   "outputs": [
    {
     "data": {
      "text/plain": [
       "{'india': 'delhi',\n",
       " 'srilanka': 'colombo',\n",
       " 'nepal': 'kathmandu',\n",
       " 'pakistan': 'islamabad'}"
      ]
     },
     "execution_count": 217,
     "metadata": {},
     "output_type": "execute_result"
    }
   ],
   "source": [
    "dict"
   ]
  },
  {
   "cell_type": "code",
   "execution_count": 221,
   "id": "7a46085a-4fa8-4b6d-8ea6-82ca0df18fdd",
   "metadata": {},
   "outputs": [
    {
     "data": {
      "text/plain": [
       "dict_keys(['india', 'srilanka', 'nepal', 'pakistan'])"
      ]
     },
     "execution_count": 221,
     "metadata": {},
     "output_type": "execute_result"
    }
   ],
   "source": [
    "dict.keys()"
   ]
  },
  {
   "cell_type": "code",
   "execution_count": 223,
   "id": "e1df3739-7aab-4afa-95aa-0edc6b408c88",
   "metadata": {},
   "outputs": [
    {
     "data": {
      "text/plain": [
       "dict_values(['delhi', 'colombo', 'kathmandu', 'islamabad'])"
      ]
     },
     "execution_count": 223,
     "metadata": {},
     "output_type": "execute_result"
    }
   ],
   "source": [
    "dict.values()"
   ]
  },
  {
   "cell_type": "code",
   "execution_count": 225,
   "id": "110c8a3c-e0b0-47fe-a40a-0e365d3cd024",
   "metadata": {},
   "outputs": [
    {
     "data": {
      "text/plain": [
       "dict_items([('india', 'delhi'), ('srilanka', 'colombo'), ('nepal', 'kathmandu'), ('pakistan', 'islamabad')])"
      ]
     },
     "execution_count": 225,
     "metadata": {},
     "output_type": "execute_result"
    }
   ],
   "source": [
    "dict.items()"
   ]
  },
  {
   "cell_type": "code",
   "execution_count": null,
   "id": "02ed04ef-1856-401b-b70b-639b0a8a24a7",
   "metadata": {},
   "outputs": [],
   "source": []
  }
 ],
 "metadata": {
  "kernelspec": {
   "display_name": "Python [conda env:base] *",
   "language": "python",
   "name": "conda-base-py"
  },
  "language_info": {
   "codemirror_mode": {
    "name": "ipython",
    "version": 3
   },
   "file_extension": ".py",
   "mimetype": "text/x-python",
   "name": "python",
   "nbconvert_exporter": "python",
   "pygments_lexer": "ipython3",
   "version": "3.12.7"
  }
 },
 "nbformat": 4,
 "nbformat_minor": 5
}
