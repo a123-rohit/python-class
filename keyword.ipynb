{
 "cells": [
  {
   "cell_type": "markdown",
   "id": "4cd9126b-02ce-435d-92d1-746cfac1a112",
   "metadata": {},
   "source": [
    "keyword"
   ]
  },
  {
   "cell_type": "raw",
   "id": "48cffb9b-d1e3-4225-b9e9-077c26cf31ef",
   "metadata": {},
   "source": [
    "Python is case sensitive\n",
    "\n",
    "Keywords: reserved words, special meanings\n",
    "Cannot use as variable names"
   ]
  },
  {
   "cell_type": "code",
   "execution_count": 2,
   "id": "46a4f34d-4c80-4b18-a6d2-817352fc16d5",
   "metadata": {},
   "outputs": [
    {
     "name": "stdout",
     "output_type": "stream",
     "text": [
      "['False', 'None', 'True', 'and', 'as', 'assert', 'async', 'await', 'break', 'class', 'continue', 'def', 'del', 'elif', 'else', 'except', 'finally', 'for', 'from', 'global', 'if', 'import', 'in', 'is', 'lambda', 'nonlocal', 'not', 'or', 'pass', 'raise', 'return', 'try', 'while', 'with', 'yield']\n"
     ]
    }
   ],
   "source": [
    "# Python has 35 keywords.\n",
    "import keyword\n",
    "print(keyword.kwlist)"
   ]
  },
  {
   "cell_type": "code",
   "execution_count": 4,
   "id": "6483480c-206c-4e34-a149-765e1ecbb518",
   "metadata": {},
   "outputs": [
    {
     "data": {
      "text/plain": [
       "35"
      ]
     },
     "execution_count": 4,
     "metadata": {},
     "output_type": "execute_result"
    }
   ],
   "source": [
    "len(keyword.kwlist)"
   ]
  },
  {
   "cell_type": "raw",
   "id": "c18ffc90-5de8-421f-93cd-d430431a9a0a",
   "metadata": {},
   "source": [
    "Identifiers\n",
    "Identifier are name for var, func, class, module, etc.\n",
    "\n",
    "Rules:\n",
    "\n",
    "Start with letter or _\n",
    "Followed by letters, digits, _\n",
    "Not a Python keyword"
   ]
  },
  {
   "cell_type": "code",
   "execution_count": 10,
   "id": "24fc9f15-617d-4870-94a7-59135fdf6aa1",
   "metadata": {},
   "outputs": [
    {
     "name": "stdout",
     "output_type": "stream",
     "text": [
      "rohit\n"
     ]
    }
   ],
   "source": [
    "name='rohit'\n",
    "print(name)"
   ]
  },
  {
   "cell_type": "code",
   "execution_count": 14,
   "id": "12e9d761-671b-463a-8bcc-3a4a8b00d5f2",
   "metadata": {},
   "outputs": [
    {
     "name": "stdout",
     "output_type": "stream",
     "text": [
      "chouhary shaab\n"
     ]
    }
   ],
   "source": [
    "name='chouhary shaab'\n",
    "print(name)\n"
   ]
  },
  {
   "cell_type": "code",
   "execution_count": 18,
   "id": "9a51e44e-5ec9-4f2a-953c-b32e600e8162",
   "metadata": {},
   "outputs": [
    {
     "name": "stdout",
     "output_type": "stream",
     "text": [
      "rohit\n"
     ]
    }
   ],
   "source": [
    "_=\"rohit\"\n",
    "print(_)"
   ]
  },
  {
   "cell_type": "code",
   "execution_count": 22,
   "id": "6611dfae-b03f-4671-8dcf-eb3a3f667369",
   "metadata": {},
   "outputs": [
    {
     "name": "stdout",
     "output_type": "stream",
     "text": [
      "rohit\n"
     ]
    }
   ],
   "source": [
    "false_name=\"rohit\"\n",
    "print(false_name)"
   ]
  },
  {
   "cell_type": "code",
   "execution_count": 30,
   "id": "6ab1b4d5-0e82-4656-bad2-27fac9842f45",
   "metadata": {},
   "outputs": [
    {
     "ename": "SyntaxError",
     "evalue": "cannot assign to False (2632628409.py, line 1)",
     "output_type": "error",
     "traceback": [
      "\u001b[1;36m  Cell \u001b[1;32mIn[30], line 1\u001b[1;36m\u001b[0m\n\u001b[1;33m    False=\"rohit\"\u001b[0m\n\u001b[1;37m    ^\u001b[0m\n\u001b[1;31mSyntaxError\u001b[0m\u001b[1;31m:\u001b[0m cannot assign to False\n"
     ]
    }
   ],
   "source": [
    "False=\"rohit\"\n",
    "print(false)"
   ]
  },
  {
   "cell_type": "code",
   "execution_count": null,
   "id": "48956ab9-e8a0-4713-b079-7b67936f362f",
   "metadata": {},
   "outputs": [],
   "source": []
  }
 ],
 "metadata": {
  "kernelspec": {
   "display_name": "Python [conda env:base] *",
   "language": "python",
   "name": "conda-base-py"
  },
  "language_info": {
   "codemirror_mode": {
    "name": "ipython",
    "version": 3
   },
   "file_extension": ".py",
   "mimetype": "text/x-python",
   "name": "python",
   "nbconvert_exporter": "python",
   "pygments_lexer": "ipython3",
   "version": "3.12.7"
  }
 },
 "nbformat": 4,
 "nbformat_minor": 5
}
