{
 "cells": [
  {
   "cell_type": "markdown",
   "id": "2b4df5fd-696f-48cc-8664-cd4a31c5e9bc",
   "metadata": {},
   "source": [
    "# 1.print"
   ]
  },
  {
   "cell_type": "code",
   "execution_count": 2,
   "id": "d226f745-d87c-422a-9c51-fdc736b40c9b",
   "metadata": {},
   "outputs": [
    {
     "name": "stdout",
     "output_type": "stream",
     "text": [
      "hello\n"
     ]
    }
   ],
   "source": [
    "print(\"hello\")"
   ]
  },
  {
   "cell_type": "markdown",
   "id": "188389a0-8a23-4ba1-99ef-597dc361bc2d",
   "metadata": {},
   "source": [
    "# 2. input"
   ]
  },
  {
   "cell_type": "code",
   "execution_count": 15,
   "id": "63cf257c-0958-46bf-a6f8-f19b15cb41bc",
   "metadata": {},
   "outputs": [
    {
     "name": "stdin",
     "output_type": "stream",
     "text": [
      "enter the number 8\n"
     ]
    }
   ],
   "source": [
    "number=input(\"enter the number\")"
   ]
  },
  {
   "cell_type": "markdown",
   "id": "33b658bf-be86-4f98-9c8d-59a2ec898935",
   "metadata": {},
   "source": [
    "# 3.type"
   ]
  },
  {
   "cell_type": "code",
   "execution_count": 17,
   "id": "c6fd49e3-2d3f-4432-a57d-3d3f0dfbbd23",
   "metadata": {},
   "outputs": [
    {
     "data": {
      "text/plain": [
       "int"
      ]
     },
     "execution_count": 17,
     "metadata": {},
     "output_type": "execute_result"
    }
   ],
   "source": [
    "type (10)"
   ]
  },
  {
   "cell_type": "code",
   "execution_count": 21,
   "id": "e02b82ff-10cf-4c05-a91b-343f7ce55534",
   "metadata": {},
   "outputs": [
    {
     "data": {
      "text/plain": [
       "str"
      ]
     },
     "execution_count": 21,
     "metadata": {},
     "output_type": "execute_result"
    }
   ],
   "source": [
    "type(\"true\")"
   ]
  },
  {
   "cell_type": "code",
   "execution_count": 25,
   "id": "e05f4c86-a151-44da-a45c-df3a85e22dfa",
   "metadata": {},
   "outputs": [
    {
     "data": {
      "text/plain": [
       "float"
      ]
     },
     "execution_count": 25,
     "metadata": {},
     "output_type": "execute_result"
    }
   ],
   "source": [
    "type(1.34)"
   ]
  },
  {
   "cell_type": "code",
   "execution_count": 35,
   "id": "0c199347-686f-4e6c-8689-b66da3da4017",
   "metadata": {},
   "outputs": [
    {
     "data": {
      "text/plain": [
       "bool"
      ]
     },
     "execution_count": 35,
     "metadata": {},
     "output_type": "execute_result"
    }
   ],
   "source": [
    "a=True\n",
    "type(a)"
   ]
  },
  {
   "cell_type": "markdown",
   "id": "eafc4737-6bc7-4158-8625-c6e83befdf6b",
   "metadata": {},
   "source": [
    "# 4.int etc"
   ]
  },
  {
   "cell_type": "code",
   "execution_count": 48,
   "id": "cd3b7004-ce60-444e-b8bd-69f9a2e82cad",
   "metadata": {},
   "outputs": [
    {
     "data": {
      "text/plain": [
       "5"
      ]
     },
     "execution_count": 48,
     "metadata": {},
     "output_type": "execute_result"
    }
   ],
   "source": [
    "int('5')\n",
    "# float\n",
    "# str\n",
    "# list\n",
    "# tuple"
   ]
  },
  {
   "cell_type": "markdown",
   "id": "242106be-327d-4421-bbe1-1ccce542e4bd",
   "metadata": {},
   "source": [
    "# 5. Abs"
   ]
  },
  {
   "cell_type": "code",
   "execution_count": 53,
   "id": "fcbcbbe3-3a70-427f-976a-a8b47c84210e",
   "metadata": {},
   "outputs": [
    {
     "data": {
      "text/plain": [
       "4"
      ]
     },
     "execution_count": 53,
     "metadata": {},
     "output_type": "execute_result"
    }
   ],
   "source": [
    "abs(-4)"
   ]
  },
  {
   "cell_type": "code",
   "execution_count": 55,
   "id": "eaa1ae06-5ed7-4db6-9b73-5e38cf710c52",
   "metadata": {},
   "outputs": [
    {
     "data": {
      "text/plain": [
       "235"
      ]
     },
     "execution_count": 55,
     "metadata": {},
     "output_type": "execute_result"
    }
   ],
   "source": [
    "abs(-235)"
   ]
  },
  {
   "cell_type": "markdown",
   "id": "5686ed2e-4c90-488e-95b6-f606de6d7571",
   "metadata": {},
   "source": [
    "# 6.power"
   ]
  },
  {
   "cell_type": "code",
   "execution_count": 58,
   "id": "281624ed-f172-4c13-8856-e807d461b689",
   "metadata": {},
   "outputs": [
    {
     "data": {
      "text/plain": [
       "10000000000"
      ]
     },
     "execution_count": 58,
     "metadata": {},
     "output_type": "execute_result"
    }
   ],
   "source": [
    "pow(10,10)"
   ]
  },
  {
   "cell_type": "code",
   "execution_count": 60,
   "id": "819fd43d-a542-481c-993e-e9caa26d2d7a",
   "metadata": {},
   "outputs": [
    {
     "data": {
      "text/plain": [
       "16"
      ]
     },
     "execution_count": 60,
     "metadata": {},
     "output_type": "execute_result"
    }
   ],
   "source": [
    "pow(2,4)"
   ]
  },
  {
   "cell_type": "code",
   "execution_count": 62,
   "id": "8a0bc13a-ef30-4a21-9ee7-369c84a182d0",
   "metadata": {},
   "outputs": [
    {
     "data": {
      "text/plain": [
       "0.125"
      ]
     },
     "execution_count": 62,
     "metadata": {},
     "output_type": "execute_result"
    }
   ],
   "source": [
    "pow(2,-3)"
   ]
  },
  {
   "cell_type": "markdown",
   "id": "51a46e95-aa37-4d57-ad65-36f2ff30b387",
   "metadata": {},
   "source": [
    "# 7.Min/max"
   ]
  },
  {
   "cell_type": "code",
   "execution_count": 67,
   "id": "439b51cd-328e-4e44-8f77-8289aed9929e",
   "metadata": {},
   "outputs": [
    {
     "data": {
      "text/plain": [
       "0"
      ]
     },
     "execution_count": 67,
     "metadata": {},
     "output_type": "execute_result"
    }
   ],
   "source": [
    "min(4,8,4,485,0,4)"
   ]
  },
  {
   "cell_type": "code",
   "execution_count": 71,
   "id": "4a38c31a-d69f-4dca-9fcf-8f4c671ce88f",
   "metadata": {},
   "outputs": [
    {
     "data": {
      "text/plain": [
       "485"
      ]
     },
     "execution_count": 71,
     "metadata": {},
     "output_type": "execute_result"
    }
   ],
   "source": [
    "max(4,8,4,485,0,4)"
   ]
  },
  {
   "cell_type": "code",
   "execution_count": 83,
   "id": "abb7fa36-5823-4440-a080-03a7fc39411b",
   "metadata": {},
   "outputs": [
    {
     "data": {
      "text/plain": [
       "'t'"
      ]
     },
     "execution_count": 83,
     "metadata": {},
     "output_type": "execute_result"
    }
   ],
   "source": [
    "max (\"rohit\")"
   ]
  },
  {
   "cell_type": "markdown",
   "id": "4cfcc156-ba4a-47a0-b43b-731366932fe6",
   "metadata": {},
   "source": [
    "# 8.round"
   ]
  },
  {
   "cell_type": "code",
   "execution_count": 86,
   "id": "89daa5aa-ad43-402c-a15a-2c2ea4b58a95",
   "metadata": {},
   "outputs": [
    {
     "data": {
      "text/plain": [
       "10"
      ]
     },
     "execution_count": 86,
     "metadata": {},
     "output_type": "execute_result"
    }
   ],
   "source": [
    "round(10.4)"
   ]
  },
  {
   "cell_type": "code",
   "execution_count": 88,
   "id": "2362258f-167d-4300-bf49-11ab0ffcffe0",
   "metadata": {},
   "outputs": [
    {
     "data": {
      "text/plain": [
       "4668"
      ]
     },
     "execution_count": 88,
     "metadata": {},
     "output_type": "execute_result"
    }
   ],
   "source": [
    "round(4668.3748)"
   ]
  },
  {
   "cell_type": "code",
   "execution_count": 90,
   "id": "3c4e812a-6e2a-460c-9e35-0831c3748fd9",
   "metadata": {},
   "outputs": [
    {
     "name": "stdout",
     "output_type": "stream",
     "text": [
      "8.355475763016157\n"
     ]
    },
    {
     "data": {
      "text/plain": [
       "8"
      ]
     },
     "execution_count": 90,
     "metadata": {},
     "output_type": "execute_result"
    }
   ],
   "source": [
    "c=(4654/557)\n",
    "print(c)\n",
    "round(c)"
   ]
  },
  {
   "cell_type": "code",
   "execution_count": 92,
   "id": "8336fa74-3d0a-4bc0-9acc-1dede34486d7",
   "metadata": {},
   "outputs": [
    {
     "data": {
      "text/plain": [
       "8"
      ]
     },
     "execution_count": 92,
     "metadata": {},
     "output_type": "execute_result"
    }
   ],
   "source": [
    "round(c)"
   ]
  },
  {
   "cell_type": "code",
   "execution_count": 95,
   "id": "468bb8a1-630b-44c0-a858-523134c944eb",
   "metadata": {},
   "outputs": [
    {
     "data": {
      "text/plain": [
       "8.3555"
      ]
     },
     "execution_count": 95,
     "metadata": {},
     "output_type": "execute_result"
    }
   ],
   "source": [
    "round(c,4)"
   ]
  },
  {
   "cell_type": "markdown",
   "id": "8f44ea59-6d37-4292-94f2-ca88368535f4",
   "metadata": {},
   "source": [
    "# 9.id"
   ]
  },
  {
   "cell_type": "code",
   "execution_count": 100,
   "id": "d2461da4-fc7e-41df-a234-257c4911ed53",
   "metadata": {},
   "outputs": [
    {
     "data": {
      "text/plain": [
       "140726839618072"
      ]
     },
     "execution_count": 100,
     "metadata": {},
     "output_type": "execute_result"
    }
   ],
   "source": [
    "a=4\n",
    "id(a)"
   ]
  },
  {
   "cell_type": "markdown",
   "id": "cd957e0a-c0fd-47c7-9a87-a7bd026895f0",
   "metadata": {},
   "source": [
    "# 10.divmod"
   ]
  },
  {
   "cell_type": "code",
   "execution_count": 103,
   "id": "dbfbd2bb-0d9c-4a17-ad8d-a59a24ce5f12",
   "metadata": {},
   "outputs": [
    {
     "data": {
      "text/plain": [
       "(2, 1)"
      ]
     },
     "execution_count": 103,
     "metadata": {},
     "output_type": "execute_result"
    }
   ],
   "source": [
    "divmod(5,2)"
   ]
  },
  {
   "cell_type": "code",
   "execution_count": 105,
   "id": "32cf46f4-54ee-468a-8fc5-fe2b8e318b77",
   "metadata": {},
   "outputs": [
    {
     "data": {
      "text/plain": [
       "(5, 0)"
      ]
     },
     "execution_count": 105,
     "metadata": {},
     "output_type": "execute_result"
    }
   ],
   "source": [
    "divmod(10,2)"
   ]
  },
  {
   "cell_type": "markdown",
   "id": "4422427a-cee3-4957-9a33-7571fa842fda",
   "metadata": {},
   "source": [
    "# 11. Bin/Oct/Hex"
   ]
  },
  {
   "cell_type": "code",
   "execution_count": 108,
   "id": "f093e41d-ee62-4201-a809-f1005c490fe9",
   "metadata": {},
   "outputs": [
    {
     "data": {
      "text/plain": [
       "'0b100'"
      ]
     },
     "execution_count": 108,
     "metadata": {},
     "output_type": "execute_result"
    }
   ],
   "source": [
    "bin(4)"
   ]
  },
  {
   "cell_type": "code",
   "execution_count": 110,
   "id": "ff907507-32bf-473d-9899-546d9382ceed",
   "metadata": {},
   "outputs": [
    {
     "data": {
      "text/plain": [
       "'0o4'"
      ]
     },
     "execution_count": 110,
     "metadata": {},
     "output_type": "execute_result"
    }
   ],
   "source": [
    "oct(4)\n"
   ]
  },
  {
   "cell_type": "code",
   "execution_count": 112,
   "id": "8bffd843-1634-42a3-9d38-a0290a2e4031",
   "metadata": {},
   "outputs": [
    {
     "data": {
      "text/plain": [
       "'0x4'"
      ]
     },
     "execution_count": 112,
     "metadata": {},
     "output_type": "execute_result"
    }
   ],
   "source": [
    "hex(4)"
   ]
  },
  {
   "cell_type": "markdown",
   "id": "4fe3edba-5bb6-4418-b961-8f40dd77b70d",
   "metadata": {},
   "source": [
    "# 12.ord"
   ]
  },
  {
   "cell_type": "code",
   "execution_count": 115,
   "id": "93b4a3df-c7a7-4eb7-9d97-fa721f1f7107",
   "metadata": {},
   "outputs": [
    {
     "data": {
      "text/plain": [
       "97"
      ]
     },
     "execution_count": 115,
     "metadata": {},
     "output_type": "execute_result"
    }
   ],
   "source": [
    "ord(\"a\")"
   ]
  },
  {
   "cell_type": "code",
   "execution_count": 117,
   "id": "2e00d632-20a9-4351-bb35-cfba6895a64a",
   "metadata": {},
   "outputs": [
    {
     "data": {
      "text/plain": [
       "65"
      ]
     },
     "execution_count": 117,
     "metadata": {},
     "output_type": "execute_result"
    }
   ],
   "source": [
    "ord(\"A\")"
   ]
  },
  {
   "cell_type": "markdown",
   "id": "6a16ae44-a03e-4b8a-819c-5b7826032f7a",
   "metadata": {},
   "source": [
    "# 13.len"
   ]
  },
  {
   "cell_type": "code",
   "execution_count": 120,
   "id": "fd280856-eff1-43c3-b826-721289d999fa",
   "metadata": {},
   "outputs": [
    {
     "data": {
      "text/plain": [
       "7"
      ]
     },
     "execution_count": 120,
     "metadata": {},
     "output_type": "execute_result"
    }
   ],
   "source": [
    "len('Kolkata')"
   ]
  },
  {
   "cell_type": "code",
   "execution_count": 126,
   "id": "d0172c26-91df-4c5d-9641-a9ea612a1093",
   "metadata": {},
   "outputs": [
    {
     "data": {
      "text/plain": [
       "5"
      ]
     },
     "execution_count": 126,
     "metadata": {},
     "output_type": "execute_result"
    }
   ],
   "source": [
    "len([1,2,3,5,6])"
   ]
  },
  {
   "cell_type": "markdown",
   "id": "cf52e479-abb4-4979-87e8-abf559ee8cb9",
   "metadata": {},
   "source": [
    "# 14. sum"
   ]
  },
  {
   "cell_type": "code",
   "execution_count": 131,
   "id": "3ce7da74-52be-427e-8ec6-130763c167e8",
   "metadata": {},
   "outputs": [
    {
     "data": {
      "text/plain": [
       "15"
      ]
     },
     "execution_count": 131,
     "metadata": {},
     "output_type": "execute_result"
    }
   ],
   "source": [
    "sum([1,2,3,4,5])"
   ]
  },
  {
   "cell_type": "code",
   "execution_count": 135,
   "id": "e71931d3-49b4-4486-adf5-dae29b0f4692",
   "metadata": {},
   "outputs": [],
   "source": [
    "# 15 .help"
   ]
  },
  {
   "cell_type": "markdown",
   "id": "cdfa095f-aba8-4273-95f7-82a48747b286",
   "metadata": {},
   "source": [
    "\n"
   ]
  }
 ],
 "metadata": {
  "kernelspec": {
   "display_name": "Python [conda env:base] *",
   "language": "python",
   "name": "conda-base-py"
  },
  "language_info": {
   "codemirror_mode": {
    "name": "ipython",
    "version": 3
   },
   "file_extension": ".py",
   "mimetype": "text/x-python",
   "name": "python",
   "nbconvert_exporter": "python",
   "pygments_lexer": "ipython3",
   "version": "3.12.7"
  }
 },
 "nbformat": 4,
 "nbformat_minor": 5
}
