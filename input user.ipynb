{
 "cells": [
  {
   "cell_type": "markdown",
   "id": "9b651ecc-e5b4-45f5-aa7d-0bd4428ede20",
   "metadata": {},
   "source": [
    "input user"
   ]
  },
  {
   "cell_type": "raw",
   "id": "ec9c4544-234a-4b59-8c8b-8436d2dfdf4e",
   "metadata": {},
   "source": [
    "User Input\n",
    "# Static vs Dynamic\n",
    "input('Enter Email')"
   ]
  },
  {
   "cell_type": "raw",
   "id": "9909cf75-2e15-402d-b61b-9a504a52718a",
   "metadata": {},
   "source": [
    "input(\"inter name\")"
   ]
  },
  {
   "cell_type": "code",
   "execution_count": 6,
   "id": "7712b8a6-beb1-42b8-98d7-ec08c0812c8c",
   "metadata": {},
   "outputs": [
    {
     "name": "stdin",
     "output_type": "stream",
     "text": [
      "enter age 20\n"
     ]
    },
    {
     "data": {
      "text/plain": [
       "'20'"
      ]
     },
     "execution_count": 6,
     "metadata": {},
     "output_type": "execute_result"
    }
   ],
   "source": [
    "input('enter age')"
   ]
  },
  {
   "cell_type": "code",
   "execution_count": 14,
   "id": "a021cd24-cdfe-4124-994b-3a1ce68f768b",
   "metadata": {},
   "outputs": [
    {
     "name": "stdin",
     "output_type": "stream",
     "text": [
      "enter first number 45\n",
      "enter second number 45\n"
     ]
    },
    {
     "name": "stdout",
     "output_type": "stream",
     "text": [
      "90\n"
     ]
    }
   ],
   "source": [
    "First_num=int(input('enter first number'))\n",
    "second_num=int(input('enter second number'))              \n",
    "print(First_num+second_num)              "
   ]
  },
  {
   "cell_type": "code",
   "execution_count": 17,
   "id": "3f1851da-969e-4012-9174-706667277b14",
   "metadata": {},
   "outputs": [
    {
     "data": {
      "text/plain": [
       "int"
      ]
     },
     "execution_count": 17,
     "metadata": {},
     "output_type": "execute_result"
    }
   ],
   "source": [
    "# type() function\n",
    "type(4)"
   ]
  },
  {
   "cell_type": "code",
   "execution_count": 19,
   "id": "4c281766-3efb-4485-8b48-671782d8d43e",
   "metadata": {},
   "outputs": [
    {
     "ename": "NameError",
     "evalue": "name 'Fist_num' is not defined",
     "output_type": "error",
     "traceback": [
      "\u001b[1;31m---------------------------------------------------------------------------\u001b[0m",
      "\u001b[1;31mNameError\u001b[0m                                 Traceback (most recent call last)",
      "Cell \u001b[1;32mIn[19], line 1\u001b[0m\n\u001b[1;32m----> 1\u001b[0m \u001b[38;5;28mtype\u001b[39m(Fist_num)\n",
      "\u001b[1;31mNameError\u001b[0m: name 'Fist_num' is not defined"
     ]
    }
   ],
   "source": [
    "type(Fist_num)"
   ]
  },
  {
   "cell_type": "code",
   "execution_count": null,
   "id": "14d69e5a-57e6-489d-a564-cde23abdeb89",
   "metadata": {},
   "outputs": [],
   "source": [
    "\n",
    "# type() function\n",
    "type(4)\n",
    "int\n",
    "type(first_num)\n",
    "str\n",
    "first_num\n",
    "'56'\n",
    "4 + 5.5\n",
    "9.5\n",
    "5 + 6+7j\n",
    "(11+7j)\n",
    "4.5 + 5+5j\n",
    "(9.5+5j)\n",
    "first_num + second_num\n",
    "'5676'\n"
   ]
  }
 ],
 "metadata": {
  "kernelspec": {
   "display_name": "Python [conda env:base] *",
   "language": "python",
   "name": "conda-base-py"
  },
  "language_info": {
   "codemirror_mode": {
    "name": "ipython",
    "version": 3
   },
   "file_extension": ".py",
   "mimetype": "text/x-python",
   "name": "python",
   "nbconvert_exporter": "python",
   "pygments_lexer": "ipython3",
   "version": "3.12.7"
  }
 },
 "nbformat": 4,
 "nbformat_minor": 5
}
